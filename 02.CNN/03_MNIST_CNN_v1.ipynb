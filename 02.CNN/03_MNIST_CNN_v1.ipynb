{
  "nbformat": 4,
  "nbformat_minor": 0,
  "metadata": {
    "colab": {
      "name": "03.MNIST-CNN-v1",
      "provenance": [],
      "collapsed_sections": []
    },
    "kernelspec": {
      "name": "python3",
      "display_name": "Python 3"
    },
    "language_info": {
      "name": "python"
    },
    "accelerator": "GPU"
  },
  "cells": [
    {
      "cell_type": "markdown",
      "source": [
        "# MNIST 손글씨 - CNN v1\n",
        "- 2 Conv2D layers\n",
        "- 1 Fully Connected Network layer\n",
        "- 1 Output layer"
      ],
      "metadata": {
        "id": "Ui38rUfhoGEd"
      }
    },
    {
      "cell_type": "code",
      "source": [
        "import numpy as np\n",
        "import tensorflow as tf\n",
        "seed = 2022\n",
        "np.random.seed(seed)\n",
        "tf.random.set_seed(seed)"
      ],
      "metadata": {
        "id": "-rRiyz2nogls"
      },
      "execution_count": 1,
      "outputs": []
    },
    {
      "cell_type": "markdown",
      "source": [
        "- 데이터 전처리"
      ],
      "metadata": {
        "id": "dP2-1KJkouxZ"
      }
    },
    {
      "cell_type": "code",
      "source": [
        "from tensorflow.keras.datasets import mnist\n",
        "(X_train, y_train), (X_test, y_test) = mnist.load_data()"
      ],
      "metadata": {
        "colab": {
          "base_uri": "https://localhost:8080/"
        },
        "id": "16HBFoN6oxFl",
        "outputId": "9609a296-57ec-4142-b195-7faea05b9a02"
      },
      "execution_count": 2,
      "outputs": [
        {
          "output_type": "stream",
          "name": "stdout",
          "text": [
            "Downloading data from https://storage.googleapis.com/tensorflow/tf-keras-datasets/mnist.npz\n",
            "11493376/11490434 [==============================] - 0s 0us/step\n",
            "11501568/11490434 [==============================] - 0s 0us/step\n"
          ]
        }
      ]
    },
    {
      "cell_type": "code",
      "source": [
        "# X data: 0~1 사이의 값, 3차원 --> 4차원\n",
        "X_train = X_train.reshape(-1,28,28,1) / 255.\n",
        "X_test = X_test.reshape(-1,28,28,1) / 255."
      ],
      "metadata": {
        "id": "_iMMTtwcpCQ4"
      },
      "execution_count": 3,
      "outputs": []
    },
    {
      "cell_type": "code",
      "source": [
        "# One-hot encoding\n",
        "from tensorflow.keras.utils import to_categorical\n",
        "Y_train = to_categorical(y_train)\n",
        "Y_test = to_categorical(y_test)"
      ],
      "metadata": {
        "id": "VYzMp-2lpXNK"
      },
      "execution_count": 4,
      "outputs": []
    },
    {
      "cell_type": "markdown",
      "source": [
        "- 모델 정의/학습/평가"
      ],
      "metadata": {
        "id": "t-79PQeJqDK5"
      }
    },
    {
      "cell_type": "code",
      "source": [
        "from tensorflow.keras.models import Sequential, load_model\n",
        "from tensorflow.keras.layers import Dense, Conv2D, Flatten\n",
        "from tensorflow.keras.callbacks import ModelCheckpoint, EarlyStopping"
      ],
      "metadata": {
        "id": "ZfCoXaa_qKAI"
      },
      "execution_count": 14,
      "outputs": []
    },
    {
      "cell_type": "code",
      "source": [
        "model = Sequential([\n",
        "    Conv2D(32, kernel_size=(3,3), input_shape=(28,28,1), activation='relu'),\n",
        "    Conv2D(64, (3,3), activation='relu'),       # mask의 갯수, 크기 \n",
        "    Flatten(),\n",
        "    Dense(512, activation='relu'),\n",
        "    Dense(10, activation='softmax')\n",
        "])\n",
        "model.summary()"
      ],
      "metadata": {
        "colab": {
          "base_uri": "https://localhost:8080/"
        },
        "id": "_0LMrAX1qJ9C",
        "outputId": "e4a22c5b-374b-4f75-847d-99a4f5e6a523"
      },
      "execution_count": 6,
      "outputs": [
        {
          "output_type": "stream",
          "name": "stdout",
          "text": [
            "Model: \"sequential\"\n",
            "_________________________________________________________________\n",
            " Layer (type)                Output Shape              Param #   \n",
            "=================================================================\n",
            " conv2d (Conv2D)             (None, 26, 26, 32)        320       \n",
            "                                                                 \n",
            " conv2d_1 (Conv2D)           (None, 24, 24, 64)        18496     \n",
            "                                                                 \n",
            " flatten (Flatten)           (None, 36864)             0         \n",
            "                                                                 \n",
            " dense (Dense)               (None, 512)               18874880  \n",
            "                                                                 \n",
            " dense_1 (Dense)             (None, 10)                5130      \n",
            "                                                                 \n",
            "=================================================================\n",
            "Total params: 18,898,826\n",
            "Trainable params: 18,898,826\n",
            "Non-trainable params: 0\n",
            "_________________________________________________________________\n"
          ]
        }
      ]
    },
    {
      "cell_type": "code",
      "source": [
        "model.compile(optimizer='adam', loss='categorical_crossentropy', metrics=['accuracy'])"
      ],
      "metadata": {
        "id": "CL8Q9xzsqJ5j"
      },
      "execution_count": 7,
      "outputs": []
    },
    {
      "cell_type": "code",
      "source": [
        "model_path = 'best-mnist-cnn-1.h5'\n",
        "checkpoint = ModelCheckpoint(model_path, save_best_only=True, verbose=1)\n",
        "early_stop = EarlyStopping(patience=10)"
      ],
      "metadata": {
        "id": "0138gXEjqJ1f"
      },
      "execution_count": 8,
      "outputs": []
    },
    {
      "cell_type": "code",
      "source": [
        "hist = model.fit(\n",
        "    X_train, Y_train, validation_split=0.2, epochs=100, batch_size=200,\n",
        "    callbacks=[checkpoint, early_stop], verbose=0\n",
        ")"
      ],
      "metadata": {
        "colab": {
          "base_uri": "https://localhost:8080/"
        },
        "id": "q8rB7yN_qJx-",
        "outputId": "860140c5-6376-4eae-e06a-7e9547fdccfd"
      },
      "execution_count": 9,
      "outputs": [
        {
          "output_type": "stream",
          "name": "stdout",
          "text": [
            "Epoch 1/100\n",
            "238/240 [============================>.] - ETA: 0s - loss: 0.1529 - accuracy: 0.9529\n",
            "Epoch 00001: val_loss improved from inf to 0.05638, saving model to best-mnist-cnn-1.h5\n",
            "240/240 [==============================] - 21s 21ms/step - loss: 0.1521 - accuracy: 0.9531 - val_loss: 0.0564 - val_accuracy: 0.9833\n",
            "Epoch 2/100\n",
            "238/240 [============================>.] - ETA: 0s - loss: 0.0356 - accuracy: 0.9890\n",
            "Epoch 00002: val_loss improved from 0.05638 to 0.05404, saving model to best-mnist-cnn-1.h5\n",
            "240/240 [==============================] - 5s 20ms/step - loss: 0.0354 - accuracy: 0.9890 - val_loss: 0.0540 - val_accuracy: 0.9852\n",
            "Epoch 3/100\n",
            "240/240 [==============================] - ETA: 0s - loss: 0.0178 - accuracy: 0.9945\n",
            "Epoch 00003: val_loss improved from 0.05404 to 0.04526, saving model to best-mnist-cnn-1.h5\n",
            "240/240 [==============================] - 5s 20ms/step - loss: 0.0178 - accuracy: 0.9945 - val_loss: 0.0453 - val_accuracy: 0.9874\n",
            "Epoch 4/100\n",
            "238/240 [============================>.] - ETA: 0s - loss: 0.0103 - accuracy: 0.9965\n",
            "Epoch 00004: val_loss did not improve from 0.04526\n",
            "240/240 [==============================] - 4s 19ms/step - loss: 0.0103 - accuracy: 0.9965 - val_loss: 0.0539 - val_accuracy: 0.9868\n",
            "Epoch 5/100\n",
            "238/240 [============================>.] - ETA: 0s - loss: 0.0066 - accuracy: 0.9980\n",
            "Epoch 00005: val_loss did not improve from 0.04526\n",
            "240/240 [==============================] - 4s 18ms/step - loss: 0.0066 - accuracy: 0.9980 - val_loss: 0.0598 - val_accuracy: 0.9865\n",
            "Epoch 6/100\n",
            "240/240 [==============================] - ETA: 0s - loss: 0.0058 - accuracy: 0.9982\n",
            "Epoch 00006: val_loss did not improve from 0.04526\n",
            "240/240 [==============================] - 4s 18ms/step - loss: 0.0058 - accuracy: 0.9982 - val_loss: 0.0539 - val_accuracy: 0.9867\n",
            "Epoch 7/100\n",
            "239/240 [============================>.] - ETA: 0s - loss: 0.0028 - accuracy: 0.9991\n",
            "Epoch 00007: val_loss did not improve from 0.04526\n",
            "240/240 [==============================] - 4s 19ms/step - loss: 0.0028 - accuracy: 0.9991 - val_loss: 0.0546 - val_accuracy: 0.9883\n",
            "Epoch 8/100\n",
            "239/240 [============================>.] - ETA: 0s - loss: 0.0071 - accuracy: 0.9974\n",
            "Epoch 00008: val_loss did not improve from 0.04526\n",
            "240/240 [==============================] - 4s 19ms/step - loss: 0.0071 - accuracy: 0.9974 - val_loss: 0.0535 - val_accuracy: 0.9890\n",
            "Epoch 9/100\n",
            "240/240 [==============================] - ETA: 0s - loss: 0.0028 - accuracy: 0.9991\n",
            "Epoch 00009: val_loss did not improve from 0.04526\n",
            "240/240 [==============================] - 4s 19ms/step - loss: 0.0028 - accuracy: 0.9991 - val_loss: 0.0558 - val_accuracy: 0.9883\n",
            "Epoch 10/100\n",
            "239/240 [============================>.] - ETA: 0s - loss: 0.0026 - accuracy: 0.9992\n",
            "Epoch 00010: val_loss did not improve from 0.04526\n",
            "240/240 [==============================] - 4s 19ms/step - loss: 0.0025 - accuracy: 0.9992 - val_loss: 0.0522 - val_accuracy: 0.9896\n",
            "Epoch 11/100\n",
            "239/240 [============================>.] - ETA: 0s - loss: 0.0048 - accuracy: 0.9985\n",
            "Epoch 00011: val_loss did not improve from 0.04526\n",
            "240/240 [==============================] - 4s 19ms/step - loss: 0.0048 - accuracy: 0.9985 - val_loss: 0.0675 - val_accuracy: 0.9845\n",
            "Epoch 12/100\n",
            "239/240 [============================>.] - ETA: 0s - loss: 0.0052 - accuracy: 0.9984\n",
            "Epoch 00012: val_loss did not improve from 0.04526\n",
            "240/240 [==============================] - 4s 19ms/step - loss: 0.0052 - accuracy: 0.9984 - val_loss: 0.0590 - val_accuracy: 0.9877\n",
            "Epoch 13/100\n",
            "240/240 [==============================] - ETA: 0s - loss: 0.0032 - accuracy: 0.9989\n",
            "Epoch 00013: val_loss did not improve from 0.04526\n",
            "240/240 [==============================] - 4s 19ms/step - loss: 0.0032 - accuracy: 0.9989 - val_loss: 0.0539 - val_accuracy: 0.9893\n"
          ]
        }
      ]
    },
    {
      "cell_type": "code",
      "source": [
        "best_model = load_model(model_path)\n",
        "best_model.evaluate(X_test, Y_test)"
      ],
      "metadata": {
        "colab": {
          "base_uri": "https://localhost:8080/"
        },
        "id": "BlgkYvBPvRg5",
        "outputId": "bd8a7eb4-90f6-40d6-f60c-2b9b29004450"
      },
      "execution_count": 15,
      "outputs": [
        {
          "output_type": "stream",
          "name": "stdout",
          "text": [
            "313/313 [==============================] - 1s 4ms/step - loss: 0.0413 - accuracy: 0.9871\n"
          ]
        },
        {
          "output_type": "execute_result",
          "data": {
            "text/plain": [
              "[0.04130115360021591, 0.9871000051498413]"
            ]
          },
          "metadata": {},
          "execution_count": 15
        }
      ]
    },
    {
      "cell_type": "code",
      "source": [
        ""
      ],
      "metadata": {
        "id": "mRbPfW3fv-zE"
      },
      "execution_count": null,
      "outputs": []
    }
  ]
}