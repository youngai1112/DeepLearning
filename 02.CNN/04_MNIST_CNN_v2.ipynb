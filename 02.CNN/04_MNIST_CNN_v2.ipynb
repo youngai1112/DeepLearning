{
  "nbformat": 4,
  "nbformat_minor": 0,
  "metadata": {
    "colab": {
      "name": "03.MNIST-CNN-v2",
      "provenance": [],
      "collapsed_sections": []
    },
    "kernelspec": {
      "name": "python3",
      "display_name": "Python 3"
    },
    "language_info": {
      "name": "python"
    },
    "accelerator": "GPU"
  },
  "cells": [
    {
      "cell_type": "markdown",
      "source": [
        "# MNIST 손글씨 - CNN v2\n",
        "- 2 Conv2D layers\n",
        "- 1 MaxPooling2D layer\n",
        "- 1 Fully Connected Network layer\n",
        "- 1 Output layer"
      ],
      "metadata": {
        "id": "Ui38rUfhoGEd"
      }
    },
    {
      "cell_type": "code",
      "source": [
        "import numpy as np\n",
        "import tensorflow as tf\n",
        "seed = 2022\n",
        "np.random.seed(seed)\n",
        "tf.random.set_seed(seed)"
      ],
      "metadata": {
        "id": "-rRiyz2nogls"
      },
      "execution_count": 18,
      "outputs": []
    },
    {
      "cell_type": "markdown",
      "source": [
        "- 데이터 전처리"
      ],
      "metadata": {
        "id": "dP2-1KJkouxZ"
      }
    },
    {
      "cell_type": "code",
      "source": [
        "from tensorflow.keras.datasets import mnist\n",
        "(X_train, y_train), (X_test, y_test) = mnist.load_data()"
      ],
      "metadata": {
        "id": "16HBFoN6oxFl"
      },
      "execution_count": 19,
      "outputs": []
    },
    {
      "cell_type": "code",
      "source": [
        "# X data: 0~1 사이의 값, 3차원 --> 4차원\n",
        "X_train = X_train.reshape(-1,28,28,1) / 255.\n",
        "X_test = X_test.reshape(-1,28,28,1) / 255."
      ],
      "metadata": {
        "id": "_iMMTtwcpCQ4"
      },
      "execution_count": 22,
      "outputs": []
    },
    {
      "cell_type": "code",
      "source": [
        "# One-hot encoding\n",
        "from tensorflow.keras.utils import to_categorical\n",
        "Y_train = to_categorical(y_train)\n",
        "Y_test = to_categorical(y_test)"
      ],
      "metadata": {
        "id": "VYzMp-2lpXNK"
      },
      "execution_count": 23,
      "outputs": []
    },
    {
      "cell_type": "markdown",
      "source": [
        "- 모델 정의/학습/평가"
      ],
      "metadata": {
        "id": "t-79PQeJqDK5"
      }
    },
    {
      "cell_type": "code",
      "source": [
        "from tensorflow.keras.models import Sequential, load_model\n",
        "from tensorflow.keras.layers import Dense, Conv2D, Flatten, MaxPooling2D\n",
        "from tensorflow.keras.callbacks import ModelCheckpoint, EarlyStopping"
      ],
      "metadata": {
        "id": "ZfCoXaa_qKAI"
      },
      "execution_count": 25,
      "outputs": []
    },
    {
      "cell_type": "code",
      "source": [
        "model = Sequential([\n",
        "    Conv2D(32, kernel_size=(3,3), input_shape=(28,28,1), activation='relu'),\n",
        "    Conv2D(64, (3,3), activation='relu'),   \n",
        "    MaxPooling2D(),                         # MaxPooling2D(pool_size=(2,2))     \n",
        "    Flatten(),\n",
        "    Dense(512, activation='relu'),\n",
        "    Dense(10, activation='softmax')\n",
        "])\n",
        "model.summary()"
      ],
      "metadata": {
        "colab": {
          "base_uri": "https://localhost:8080/"
        },
        "id": "_0LMrAX1qJ9C",
        "outputId": "3867ed8c-5722-4e41-a2ec-ad7548393d8b"
      },
      "execution_count": 26,
      "outputs": [
        {
          "output_type": "stream",
          "name": "stdout",
          "text": [
            "Model: \"sequential_1\"\n",
            "_________________________________________________________________\n",
            " Layer (type)                Output Shape              Param #   \n",
            "=================================================================\n",
            " conv2d_2 (Conv2D)           (None, 26, 26, 32)        320       \n",
            "                                                                 \n",
            " conv2d_3 (Conv2D)           (None, 24, 24, 64)        18496     \n",
            "                                                                 \n",
            " max_pooling2d (MaxPooling2D  (None, 12, 12, 64)       0         \n",
            " )                                                               \n",
            "                                                                 \n",
            " flatten_1 (Flatten)         (None, 9216)              0         \n",
            "                                                                 \n",
            " dense_2 (Dense)             (None, 512)               4719104   \n",
            "                                                                 \n",
            " dense_3 (Dense)             (None, 10)                5130      \n",
            "                                                                 \n",
            "=================================================================\n",
            "Total params: 4,743,050\n",
            "Trainable params: 4,743,050\n",
            "Non-trainable params: 0\n",
            "_________________________________________________________________\n"
          ]
        }
      ]
    },
    {
      "cell_type": "code",
      "source": [
        "model.compile(optimizer='adam', loss='categorical_crossentropy', metrics=['accuracy'])"
      ],
      "metadata": {
        "id": "CL8Q9xzsqJ5j"
      },
      "execution_count": 27,
      "outputs": []
    },
    {
      "cell_type": "code",
      "source": [
        "model_path = 'best-mnist-cnn-v2.h5'\n",
        "checkpoint = ModelCheckpoint(model_path, save_best_only=True, verbose=1)\n",
        "early_stop = EarlyStopping(patience=10)"
      ],
      "metadata": {
        "id": "0138gXEjqJ1f"
      },
      "execution_count": 28,
      "outputs": []
    },
    {
      "cell_type": "code",
      "source": [
        "hist = model.fit(\n",
        "    X_train, Y_train, validation_split=0.2, epochs=100, batch_size=200,\n",
        "    callbacks=[checkpoint, early_stop], verbose=0\n",
        ")"
      ],
      "metadata": {
        "colab": {
          "base_uri": "https://localhost:8080/"
        },
        "id": "q8rB7yN_qJx-",
        "outputId": "3b80d3ff-78c4-4b19-e098-1715b57ee585"
      },
      "execution_count": 29,
      "outputs": [
        {
          "output_type": "stream",
          "name": "stdout",
          "text": [
            "\n",
            "Epoch 00001: val_loss improved from inf to 0.33018, saving model to best-mnist-cnn-v2.h5\n",
            "\n",
            "Epoch 00002: val_loss improved from 0.33018 to 0.23411, saving model to best-mnist-cnn-v2.h5\n",
            "\n",
            "Epoch 00003: val_loss improved from 0.23411 to 0.20395, saving model to best-mnist-cnn-v2.h5\n",
            "\n",
            "Epoch 00004: val_loss improved from 0.20395 to 0.15740, saving model to best-mnist-cnn-v2.h5\n",
            "\n",
            "Epoch 00005: val_loss improved from 0.15740 to 0.13743, saving model to best-mnist-cnn-v2.h5\n",
            "\n",
            "Epoch 00006: val_loss improved from 0.13743 to 0.11959, saving model to best-mnist-cnn-v2.h5\n",
            "\n",
            "Epoch 00007: val_loss improved from 0.11959 to 0.11124, saving model to best-mnist-cnn-v2.h5\n",
            "\n",
            "Epoch 00008: val_loss improved from 0.11124 to 0.10718, saving model to best-mnist-cnn-v2.h5\n",
            "\n",
            "Epoch 00009: val_loss did not improve from 0.10718\n",
            "\n",
            "Epoch 00010: val_loss improved from 0.10718 to 0.10448, saving model to best-mnist-cnn-v2.h5\n",
            "\n",
            "Epoch 00011: val_loss improved from 0.10448 to 0.09501, saving model to best-mnist-cnn-v2.h5\n",
            "\n",
            "Epoch 00012: val_loss did not improve from 0.09501\n",
            "\n",
            "Epoch 00013: val_loss did not improve from 0.09501\n",
            "\n",
            "Epoch 00014: val_loss did not improve from 0.09501\n",
            "\n",
            "Epoch 00015: val_loss improved from 0.09501 to 0.09494, saving model to best-mnist-cnn-v2.h5\n",
            "\n",
            "Epoch 00016: val_loss improved from 0.09494 to 0.08850, saving model to best-mnist-cnn-v2.h5\n",
            "\n",
            "Epoch 00017: val_loss did not improve from 0.08850\n",
            "\n",
            "Epoch 00018: val_loss did not improve from 0.08850\n",
            "\n",
            "Epoch 00019: val_loss did not improve from 0.08850\n",
            "\n",
            "Epoch 00020: val_loss did not improve from 0.08850\n",
            "\n",
            "Epoch 00021: val_loss did not improve from 0.08850\n",
            "\n",
            "Epoch 00022: val_loss did not improve from 0.08850\n",
            "\n",
            "Epoch 00023: val_loss did not improve from 0.08850\n",
            "\n",
            "Epoch 00024: val_loss did not improve from 0.08850\n",
            "\n",
            "Epoch 00025: val_loss did not improve from 0.08850\n",
            "\n",
            "Epoch 00026: val_loss did not improve from 0.08850\n"
          ]
        }
      ]
    },
    {
      "cell_type": "code",
      "source": [
        "best_model = load_model(model_path)\n",
        "best_model.evaluate(X_test, Y_test)"
      ],
      "metadata": {
        "colab": {
          "base_uri": "https://localhost:8080/"
        },
        "id": "BlgkYvBPvRg5",
        "outputId": "5dfc4e6c-8b3d-4914-b3e7-d6f0695663ff"
      },
      "execution_count": 30,
      "outputs": [
        {
          "output_type": "stream",
          "name": "stdout",
          "text": [
            "313/313 [==============================] - 1s 3ms/step - loss: 0.0797 - accuracy: 0.9760\n"
          ]
        },
        {
          "output_type": "execute_result",
          "data": {
            "text/plain": [
              "[0.07965438067913055, 0.9760000109672546]"
            ]
          },
          "metadata": {},
          "execution_count": 30
        }
      ]
    },
    {
      "cell_type": "code",
      "source": [
        ""
      ],
      "metadata": {
        "id": "mRbPfW3fv-zE"
      },
      "execution_count": null,
      "outputs": []
    }
  ]
}