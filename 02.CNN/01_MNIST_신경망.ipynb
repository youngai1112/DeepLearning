{
  "cells": [
    {
      "cell_type": "markdown",
      "metadata": {
        "id": "aML7kYB7ynuz"
      },
      "source": [
        "# MNIST 손글씨 분류 - 신경망\n",
        "    - 참고: https://wikidocs.net/62306, https://bcho.tistory.com/1149"
      ]
    },
    {
      "cell_type": "code",
      "execution_count": 16,
      "metadata": {
        "id": "LxJneq1-yuyh"
      },
      "outputs": [],
      "source": [
        "import numpy as np\n",
        "import pandas as pd\n",
        "import tensorflow as tf\n",
        "seed = 2022\n",
        "np.random.seed(seed)\n",
        "tf.random.set_seed(seed)"
      ]
    },
    {
      "cell_type": "markdown",
      "metadata": {
        "id": "jPdvlZ9gy96B"
      },
      "source": [
        "### 데이터 전처리"
      ]
    },
    {
      "cell_type": "code",
      "execution_count": 17,
      "metadata": {
        "colab": {
          "base_uri": "https://localhost:8080/"
        },
        "id": "VJaVZfeHzDUs",
        "outputId": "279cc971-2673-4823-92ef-e7e8f19cf7ff"
      },
      "outputs": [
        {
          "data": {
            "text/plain": [
              "((60000, 28, 28), (10000, 28, 28), (60000,), (10000,))"
            ]
          },
          "execution_count": 17,
          "metadata": {},
          "output_type": "execute_result"
        }
      ],
      "source": [
        "from tensorflow.keras.datasets import mnist\n",
        "(X_train, y_train), (X_test, y_test) = mnist.load_data()\n",
        "X_train.shape, X_test.shape, y_train.shape, y_test.shape\n",
        "# (60000, 28, 28) 어떻게 처리해야 할까? 1건의 데이터가 2차원인 형태\n",
        "#       신경망, NL => 1차원, CNN => 2차원 "
      ]
    },
    {
      "cell_type": "code",
      "execution_count": 18,
      "metadata": {
        "id": "gY1x5yMRzX9y"
      },
      "outputs": [],
      "source": [
        "def xx():\n",
        "    return [(1,2),(3,4)]    # 두 개의 튜플을 담은 리스트"
      ]
    },
    {
      "cell_type": "code",
      "execution_count": 19,
      "metadata": {
        "colab": {
          "base_uri": "https://localhost:8080/"
        },
        "id": "mEOHk0kAzoVo",
        "outputId": "288843f6-984a-4420-f216-974a623b0557"
      },
      "outputs": [
        {
          "data": {
            "text/plain": [
              "((1, 2), (3, 4))"
            ]
          },
          "execution_count": 19,
          "metadata": {},
          "output_type": "execute_result"
        }
      ],
      "source": [
        "a,b = xx()\n",
        "a,b"
      ]
    },
    {
      "cell_type": "code",
      "execution_count": 20,
      "metadata": {
        "colab": {
          "base_uri": "https://localhost:8080/"
        },
        "id": "pLaWtD8KzroH",
        "outputId": "e437f71c-ca01-43d7-898b-87b533b562de"
      },
      "outputs": [
        {
          "data": {
            "text/plain": [
              "(1, 2, 3, 4)"
            ]
          },
          "execution_count": 20,
          "metadata": {},
          "output_type": "execute_result"
        }
      ],
      "source": [
        "(a,b),(c,d) = xx()\n",
        "a,b,c,d"
      ]
    },
    {
      "cell_type": "code",
      "execution_count": 21,
      "metadata": {
        "colab": {
          "base_uri": "https://localhost:8080/"
        },
        "id": "apPfwHB_zw5E",
        "outputId": "001789f4-e4ac-4f38-a138-89a1322a64d7"
      },
      "outputs": [
        {
          "ename": "ValueError",
          "evalue": "ignored",
          "output_type": "error",
          "traceback": [
            "\u001b[0;31m---------------------------------------------------------------------------\u001b[0m",
            "\u001b[0;31mValueError\u001b[0m                                Traceback (most recent call last)",
            "\u001b[0;32m<ipython-input-21-beaa65bcee44>\u001b[0m in \u001b[0;36m<module>\u001b[0;34m()\u001b[0m\n\u001b[0;32m----> 1\u001b[0;31m \u001b[0ma\u001b[0m\u001b[0;34m,\u001b[0m\u001b[0mb\u001b[0m\u001b[0;34m,\u001b[0m\u001b[0mc\u001b[0m\u001b[0;34m,\u001b[0m\u001b[0md\u001b[0m \u001b[0;34m=\u001b[0m \u001b[0mxx\u001b[0m\u001b[0;34m(\u001b[0m\u001b[0;34m)\u001b[0m              \u001b[0;31m# Error!\u001b[0m\u001b[0;34m\u001b[0m\u001b[0;34m\u001b[0m\u001b[0m\n\u001b[0m",
            "\u001b[0;31mValueError\u001b[0m: not enough values to unpack (expected 4, got 2)"
          ]
        }
      ],
      "source": [
        "a,b,c,d = xx()              # Error!"
      ]
    },
    {
      "cell_type": "code",
      "execution_count": 22,
      "metadata": {
        "colab": {
          "base_uri": "https://localhost:8080/",
          "height": 265
        },
        "id": "PAXBa7qLz9Mb",
        "outputId": "44cadee2-018a-4537-f852-45be34228b90"
      },
      "outputs": [
        {
          "data": {
            "image/png": "[encoded data removed]",
            "text/plain": [
              "<Figure size 432x288 with 1 Axes>"
            ]
          },
          "metadata": {
            "needs_background": "light"
          },
          "output_type": "display_data"
        }
      ],
      "source": [
        "import matplotlib.pyplot as plt\n",
        "plt.imshow(X_train[0], cmap='Greys')\n",
        "plt.show()                              # plt.show()없이 plt.imshow(X_train[0], cmap='Greys');를 사용해도 같은 결과"
      ]
    },
    {
      "cell_type": "code",
      "execution_count": 23,
      "metadata": {
        "colab": {
          "base_uri": "https://localhost:8080/",
          "height": 248
        },
        "id": "UbSQLgLs0tSK",
        "outputId": "e50d6f14-9e0e-40fe-b263-eec822dee218"
      },
      "outputs": [
        {
          "data": {
            "image/png": "[encoded data removed]",
            "text/plain": [
              "<Figure size 432x288 with 1 Axes>"
            ]
          },
          "metadata": {
            "needs_background": "light"
          },
          "output_type": "display_data"
        }
      ],
      "source": [
        "plt.imshow(X_test[0], cmap='Greys'); plt.axis('off');   # 경계선 없이 보고 싶다면 plt.axis('off')"
      ]
    },
    {
      "cell_type": "code",
      "execution_count": 24,
      "metadata": {
        "colab": {
          "base_uri": "https://localhost:8080/"
        },
        "id": "wdQsAu-A1CaF",
        "outputId": "36ed938e-08b7-4179-a3ef-b1a34693a44a"
      },
      "outputs": [
        {
          "name": "stdout",
          "output_type": "stream",
          "text": [
            "  0   0   0   0   0   0   0   0   0   0   0   0   0   0   0   0   0   0   0   0   0   0   0   0   0   0   0   0 \n",
            "  0   0   0   0   0   0   0   0   0   0   0   0   0   0   0   0   0   0   0   0   0   0   0   0   0   0   0   0 \n",
            "  0   0   0   0   0   0   0   0   0   0   0   0   0   0   0   0   0   0   0   0   0   0   0   0   0   0   0   0 \n",
            "  0   0   0   0   0   0   0   0   0   0   0   0   0   0   0   0   0   0   0   0   0   0   0   0   0   0   0   0 \n",
            "  0   0   0   0   0   0   0   0   0   0   0   0   0   0   0   0   0   0   0   0   0   0   0   0   0   0   0   0 \n",
            "  0   0   0   0   0   0   0   0   0   0   0   0   3  18  18  18 126 136 175  26 166 255 247 127   0   0   0   0 \n",
            "  0   0   0   0   0   0   0   0  30  36  94 154 170 253 253 253 253 253 225 172 253 242 195  64   0   0   0   0 \n",
            "  0   0   0   0   0   0   0  49 238 253 253 253 253 253 253 253 253 251  93  82  82  56  39   0   0   0   0   0 \n",
            "  0   0   0   0   0   0   0  18 219 253 253 253 253 253 198 182 247 241   0   0   0   0   0   0   0   0   0   0 \n",
            "  0   0   0   0   0   0   0   0  80 156 107 253 253 205  11   0  43 154   0   0   0   0   0   0   0   0   0   0 \n",
            "  0   0   0   0   0   0   0   0   0  14   1 154 253  90   0   0   0   0   0   0   0   0   0   0   0   0   0   0 \n",
            "  0   0   0   0   0   0   0   0   0   0   0 139 253 190   2   0   0   0   0   0   0   0   0   0   0   0   0   0 \n",
            "  0   0   0   0   0   0   0   0   0   0   0  11 190 253  70   0   0   0   0   0   0   0   0   0   0   0   0   0 \n",
            "  0   0   0   0   0   0   0   0   0   0   0   0  35 241 225 160 108   1   0   0   0   0   0   0   0   0   0   0 \n",
            "  0   0   0   0   0   0   0   0   0   0   0   0   0  81 240 253 253 119  25   0   0   0   0   0   0   0   0   0 \n",
            "  0   0   0   0   0   0   0   0   0   0   0   0   0   0  45 186 253 253 150  27   0   0   0   0   0   0   0   0 \n",
            "  0   0   0   0   0   0   0   0   0   0   0   0   0   0   0  16  93 252 253 187   0   0   0   0   0   0   0   0 \n",
            "  0   0   0   0   0   0   0   0   0   0   0   0   0   0   0   0   0 249 253 249  64   0   0   0   0   0   0   0 \n",
            "  0   0   0   0   0   0   0   0   0   0   0   0   0   0  46 130 183 253 253 207   2   0   0   0   0   0   0   0 \n",
            "  0   0   0   0   0   0   0   0   0   0   0   0  39 148 229 253 253 253 250 182   0   0   0   0   0   0   0   0 \n",
            "  0   0   0   0   0   0   0   0   0   0  24 114 221 253 253 253 253 201  78   0   0   0   0   0   0   0   0   0 \n",
            "  0   0   0   0   0   0   0   0  23  66 213 253 253 253 253 198  81   2   0   0   0   0   0   0   0   0   0   0 \n",
            "  0   0   0   0   0   0  18 171 219 253 253 253 253 195  80   9   0   0   0   0   0   0   0   0   0   0   0   0 \n",
            "  0   0   0   0  55 172 226 253 253 253 253 244 133  11   0   0   0   0   0   0   0   0   0   0   0   0   0   0 \n",
            "  0   0   0   0 136 253 253 253 212 135 132  16   0   0   0   0   0   0   0   0   0   0   0   0   0   0   0   0 \n",
            "  0   0   0   0   0   0   0   0   0   0   0   0   0   0   0   0   0   0   0   0   0   0   0   0   0   0   0   0 \n",
            "  0   0   0   0   0   0   0   0   0   0   0   0   0   0   0   0   0   0   0   0   0   0   0   0   0   0   0   0 \n",
            "  0   0   0   0   0   0   0   0   0   0   0   0   0   0   0   0   0   0   0   0   0   0   0   0   0   0   0   0 \n"
          ]
        }
      ],
      "source": [
        "# 어둡기의 정도의 range가 있다. -> 그 중에서 가장 어두운 것이 255, 가장 밝은 것이 0\n",
        "# Analog data --((Sampling))--> Digital\n",
        "#   Sampling: 어둠(255)과 밝기(0)의 정도의 range를 정함\n",
        "# 왜 256일까? 1 byte == 8bit (0 ~ 255 한 바이트에 데이터 하나씩 나눔)\n",
        "#   cf. Audio (사람의 음성대역, 즉 가청주파수는 20~18000 Hz 사이, 3000Hz 미만이 사람의 음성을 잘 전달 가능)\n",
        "#       4KHz --((Sampling: 7bit; 128, 56kbps))--> 전화로 목소리를 전달\n",
        "#   cf. TV --((Sampling: 1px당 (r,g,b) 8*8*8 == 24bit, 60회 FPS; Frame Per Second // 1080*1920 ))--> 영상으로 전달\n",
        "#       60*24*1080*1920 = 3Gbps (초당 전달하는 횟수)\n",
        "# 양자화: 연속적으로 보이는 양을 자연수로 셀 수 있는 양으로 재해석하는 것 \n",
        "#   참고: https://ko.wikipedia.org/wiki/%EC%96%91%EC%9E%90%ED%99%94, http://www.ktword.co.kr/test/view/view.php?m_temp1=911\n",
        "\n",
        "import sys                              # 원래 이미지 데이터는 0이 어두운 색 ~ 255 밝은색\n",
        "for row in X_train[0]:                  # 밝은 부분이 0, 근처에 있는 값들이 근사 => 효율적으로 데이터를 압축할 수 있다. \n",
        "    for x in row:\n",
        "        sys.stdout.write(f'{x:3d} ')    # 숫자가 있는 부분이 어두운 색\n",
        "    sys.stdout.write('\\n')"
      ]
    },
    {
      "cell_type": "code",
      "execution_count": 26,
      "metadata": {
        "colab": {
          "base_uri": "https://localhost:8080/"
        },
        "id": "BRUOnUeo29SB",
        "outputId": "b72716d8-812e-4dbd-9e76-3833660f9a90"
      },
      "outputs": [
        {
          "data": {
            "text/plain": [
              "(numpy.ndarray, dtype('uint8'))"
            ]
          },
          "execution_count": 26,
          "metadata": {},
          "output_type": "execute_result"
        }
      ],
      "source": [
        "type(X_train), X_train.dtype    # uint8: unsigned int (8bit): 0 ~ 255"
      ]
    },
    {
      "cell_type": "code",
      "execution_count": 27,
      "metadata": {
        "id": "aMBV8aVS9wVC"
      },
      "outputs": [],
      "source": [
        "# 0 ~ 1 사이의 값으로 정규화\n",
        "X_train = X_train / 255.    # 실수라는 것을 보여주기 위해 .을 붙인다.\n",
        "X_test = X_test / 255."
      ]
    },
    {
      "cell_type": "code",
      "execution_count": 28,
      "metadata": {
        "colab": {
          "base_uri": "https://localhost:8080/"
        },
        "id": "-CuaOLNb-b6q",
        "outputId": "0c825f53-ac92-4fad-82fc-1fe4cabb91ae"
      },
      "outputs": [
        {
          "data": {
            "text/plain": [
              "((60000, 784), (10000, 784))"
            ]
          },
          "execution_count": 28,
          "metadata": {},
          "output_type": "execute_result"
        }
      ],
      "source": [
        "# 차원 변경: 이미지(2차원) --> 1차원\n",
        "# 신경망으로 쓰기 위해서는 (28,28)의 차원을 변경해야 한다.\n",
        "X_train = X_train.reshape(60000, -1)\n",
        "X_test = X_test.reshape(-1, 784)    # 28 * 28 = 784\n",
        "X_train.shape, X_test.shape"
      ]
    },
    {
      "cell_type": "code",
      "execution_count": 29,
      "metadata": {
        "colab": {
          "base_uri": "https://localhost:8080/"
        },
        "id": "jvVyDGwh-4s3",
        "outputId": "cdb73b5d-1043-41b3-9d54-f4ae7382961b"
      },
      "outputs": [
        {
          "data": {
            "text/plain": [
              "(array([0, 1, 2, 3, 4, 5, 6, 7, 8, 9], dtype=uint8),\n",
              " array([5923, 6742, 5958, 6131, 5842, 5421, 5918, 6265, 5851, 5949]))"
            ]
          },
          "execution_count": 29,
          "metadata": {},
          "output_type": "execute_result"
        }
      ],
      "source": [
        "np.unique(y_train, return_counts=True)  # 0 ~ 9까지의 숫자가 몇 개씩 분포되어있는지 확인"
      ]
    },
    {
      "cell_type": "code",
      "execution_count": 30,
      "metadata": {
        "colab": {
          "base_uri": "https://localhost:8080/"
        },
        "id": "5bidkwFY_Ias",
        "outputId": "599edf49-c319-4361-9649-11f45c2b7c9c"
      },
      "outputs": [
        {
          "data": {
            "text/plain": [
              "((60000, 10), (10000, 10))"
            ]
          },
          "execution_count": 30,
          "metadata": {},
          "output_type": "execute_result"
        }
      ],
      "source": [
        "# One-hot Encoding (다중분류)\n",
        "# utils 참고: https://keras.io/ko/utils/\n",
        "from tensorflow.keras.utils import to_categorical\n",
        "Y_train = to_categorical(y_train)\n",
        "Y_test = to_categorical(y_test)\n",
        "Y_train.shape, Y_test.shape"
      ]
    },
    {
      "cell_type": "markdown",
      "metadata": {
        "id": "_EYoEczB_rOH"
      },
      "source": [
        "- 모델 정의/설정/실행/평가"
      ]
    },
    {
      "cell_type": "code",
      "execution_count": 31,
      "metadata": {
        "id": "REnxWPk-AULX"
      },
      "outputs": [],
      "source": [
        "from tensorflow.keras.models import Sequential, load_model\n",
        "from tensorflow.keras.layers import Dense\n",
        "from tensorflow.keras.callbacks import ModelCheckpoint, EarlyStopping       # 데이터가 많아질수록, 시간도 많이 걸린다."
      ]
    },
    {
      "cell_type": "code",
      "execution_count": 32,
      "metadata": {
        "colab": {
          "base_uri": "https://localhost:8080/"
        },
        "id": "J-6X_L4WAtrv",
        "outputId": "c625f5f7-256f-4df1-e240-d91eca7bbb1e"
      },
      "outputs": [
        {
          "name": "stdout",
          "output_type": "stream",
          "text": [
            "Model: \"sequential\"\n",
            "_________________________________________________________________\n",
            " Layer (type)                Output Shape              Param #   \n",
            "=================================================================\n",
            " dense (Dense)               (None, 512)               401920    \n",
            "                                                                 \n",
            " dense_1 (Dense)             (None, 48)                24624     \n",
            "                                                                 \n",
            " dense_2 (Dense)             (None, 10)                490       \n",
            "                                                                 \n",
            "=================================================================\n",
            "Total params: 427,034\n",
            "Trainable params: 427,034\n",
            "Non-trainable params: 0\n",
            "_________________________________________________________________\n"
          ]
        }
      ],
      "source": [
        "model = Sequential([\n",
        "    Dense(512, input_dim=784, activation='relu'),\n",
        "    Dense(48, activation='relu'),\n",
        "    Dense(10, activation='softmax')               # One-Hot Encoding: 10개로 분류 --> 다중분류이기 때문에 activation='softmax'\n",
        "])\n",
        "model.summary()"
      ]
    },
    {
      "cell_type": "code",
      "execution_count": 33,
      "metadata": {
        "id": "CuM3HUfSBIEQ"
      },
      "outputs": [],
      "source": [
        "model.compile(optimizer='adam', loss='categorical_crossentropy', metrics=['accuracy'])"
      ]
    },
    {
      "cell_type": "code",
      "execution_count": 35,
      "metadata": {
        "id": "jm_bL5JhBmFd"
      },
      "outputs": [],
      "source": [
        "model_path = 'mnist_dnn.h5'         # dnn은 신경망을 의미\n",
        "checkpoint = ModelCheckpoint(model_path, save_best_only=True, verbose=1)    # monitor는 val_loss가 default\n",
        "early_stop  = EarlyStopping(patience=10)"
      ]
    },
    {
      "cell_type": "code",
      "execution_count": 36,
      "metadata": {
        "colab": {
          "base_uri": "https://localhost:8080/"
        },
        "id": "W511NAtTCY6U",
        "outputId": "3f9c2f46-c5ad-4b21-b5c8-7ad455e41283"
      },
      "outputs": [
        {
          "name": "stdout",
          "output_type": "stream",
          "text": [
            "\n",
            "Epoch 00001: val_loss improved from inf to 0.15756, saving model to mnist_dnn.h5\n",
            "\n",
            "Epoch 00002: val_loss improved from 0.15756 to 0.11145, saving model to mnist_dnn.h5\n",
            "\n",
            "Epoch 00003: val_loss improved from 0.11145 to 0.09489, saving model to mnist_dnn.h5\n",
            "\n",
            "Epoch 00004: val_loss improved from 0.09489 to 0.08462, saving model to mnist_dnn.h5\n",
            "\n",
            "Epoch 00005: val_loss did not improve from 0.08462\n",
            "\n",
            "Epoch 00006: val_loss improved from 0.08462 to 0.08093, saving model to mnist_dnn.h5\n",
            "\n",
            "Epoch 00007: val_loss improved from 0.08093 to 0.07590, saving model to mnist_dnn.h5\n",
            "\n",
            "Epoch 00008: val_loss did not improve from 0.07590\n",
            "\n",
            "Epoch 00009: val_loss did not improve from 0.07590\n",
            "\n",
            "Epoch 00010: val_loss did not improve from 0.07590\n",
            "\n",
            "Epoch 00011: val_loss did not improve from 0.07590\n",
            "\n",
            "Epoch 00012: val_loss did not improve from 0.07590\n",
            "\n",
            "Epoch 00013: val_loss did not improve from 0.07590\n",
            "\n",
            "Epoch 00014: val_loss did not improve from 0.07590\n",
            "\n",
            "Epoch 00015: val_loss did not improve from 0.07590\n",
            "\n",
            "Epoch 00016: val_loss did not improve from 0.07590\n",
            "\n",
            "Epoch 00017: val_loss did not improve from 0.07590\n"
          ]
        }
      ],
      "source": [
        "hist = model.fit(X_train, Y_train, validation_split=0.2,\n",
        "             epochs=100, batch_size=200, verbose=0,\n",
        "             callbacks=[checkpoint, early_stop])"
      ]
    },
    {
      "cell_type": "code",
      "execution_count": 37,
      "metadata": {
        "colab": {
          "base_uri": "https://localhost:8080/"
        },
        "id": "I8rwxBN5C2_a",
        "outputId": "9df1a285-fc09-40f8-8fc4-d33ec52821af"
      },
      "outputs": [
        {
          "name": "stdout",
          "output_type": "stream",
          "text": [
            "313/313 [==============================] - 1s 3ms/step - loss: 0.0647 - accuracy: 0.9810\n"
          ]
        },
        {
          "data": {
            "text/plain": [
              "[0.06470876187086105, 0.9810000061988831]"
            ]
          },
          "execution_count": 37,
          "metadata": {},
          "output_type": "execute_result"
        }
      ],
      "source": [
        "best_model = load_model(model_path)\n",
        "best_model.evaluate(X_test, Y_test)"
      ]
    },
    {
      "cell_type": "markdown",
      "metadata": {
        "id": "OMTRHRDYDpxF"
      },
      "source": [
        "- 학습과정 시각화"
      ]
    },
    {
      "cell_type": "code",
      "execution_count": 38,
      "metadata": {
        "id": "4JbOpvBxD6zV"
      },
      "outputs": [],
      "source": [
        "y_acc = hist.history['accuracy']\n",
        "y_vloss = hist.history['val_loss']\n",
        "xs = np.arange(1, len(y_acc)+1)"
      ]
    },
    {
      "cell_type": "code",
      "execution_count": 40,
      "metadata": {
        "colab": {
          "base_uri": "https://localhost:8080/",
          "height": 497
        },
        "id": "qhS3HcIuEQiP",
        "outputId": "b156769e-22de-4461-a509-ecd043692133"
      },
      "outputs": [
        {
          "data": {
            "image/png": "[encoded data removed]",
            "text/plain": [
              "<Figure size 864x576 with 1 Axes>"
            ]
          },
          "metadata": {
            "needs_background": "light"
          },
          "output_type": "display_data"
        }
      ],
      "source": [
        "plt.figure(figsize=(12,8))\n",
        "plt.plot(xs, y_acc, label='train accuracy')\n",
        "plt.plot(xs, y_vloss, label='validation_loss')\n",
        "plt.legend()\n",
        "plt.grid()\n",
        "plt.xlabel('Epoch')\n",
        "plt.show()"
      ]
    },
    {
      "cell_type": "code",
      "execution_count": null,
      "metadata": {
        "id": "OKxUKID9Eq4e"
      },
      "outputs": [],
      "source": []
    }
  ],
  "metadata": {
    "colab": {
      "collapsed_sections": [],
      "name": "01.MNIST-신경망",
      "provenance": []
    },
    "kernelspec": {
      "display_name": "Python 3",
      "name": "python3"
    },
    "language_info": {
      "name": "python"
    }
  },
  "nbformat": 4,
  "nbformat_minor": 0
}
