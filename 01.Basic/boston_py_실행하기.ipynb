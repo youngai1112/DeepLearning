{
  "nbformat": 4,
  "nbformat_minor": 0,
  "metadata": {
    "colab": {
      "name": "boston.py 실행하기",
      "provenance": [],
      "collapsed_sections": []
    },
    "kernelspec": {
      "name": "python3",
      "display_name": "Python 3"
    },
    "language_info": {
      "name": "python"
    }
  },
  "cells": [
    {
      "cell_type": "code",
      "execution_count": 2,
      "metadata": {
        "colab": {
          "base_uri": "https://localhost:8080/"
        },
        "id": "xP8ue4vaGe7f",
        "outputId": "931b2adc-ab7c-44d0-d89d-da7c8b03b1d5"
      },
      "outputs": [
        {
          "output_type": "stream",
          "name": "stdout",
          "text": [
            "2022-01-12 02:30:46.974813: E tensorflow/stream_executor/cuda/cuda_driver.cc:271] failed call to cuInit: CUDA_ERROR_NO_DEVICE: no CUDA-capable device is detected\n",
            "0 ~ 100 정수값을 입력하세요.> 50\n",
            "실제값:22.3, 예측값:23.52\n"
          ]
        }
      ],
      "source": [
        "!python boston.py"
      ]
    },
    {
      "cell_type": "code",
      "source": [
        ""
      ],
      "metadata": {
        "id": "RwKtlAamGv98"
      },
      "execution_count": null,
      "outputs": []
    }
  ]
}