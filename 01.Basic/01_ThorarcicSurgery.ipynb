{
  "cells": [
    {
      "cell_type": "markdown",
      "metadata": {
        "id": "Oe3QFLm5bzp9"
      },
      "source": [
        "### 폐병 수술(Thoracic Surgery)\n",
        "    - 케라스 참고: https://tykimos.github.io/2017/07/09/Training_Monitoring/"
      ]
    },
    {
      "cell_type": "code",
      "execution_count": 7,
      "metadata": {
        "colab": {
          "base_uri": "https://localhost:8080/",
          "height": 77,
          "resources": {
            "http://localhost:8080/nbextensions/google.colab/files.js": {
              "data": "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",
              "headers": [
                [
                  "content-type",
                  "application/javascript"
                ]
              ],
              "ok": true,
              "status": 200,
              "status_text": ""
            }
          }
        },
        "id": "JM83bvyHcQxJ",
        "outputId": "05da8699-de4b-47f3-ff50-1d2a12c0a432"
      },
      "outputs": [
        {
          "data": {
            "text/html": [
              "\n",
              "     <input type=\"file\" id=\"files-5a2bed6d-c2ce-4bcf-bef9-a8d21c6fe716\" name=\"files[]\" multiple disabled\n",
              "        style=\"border:none\" />\n",
              "     <output id=\"result-5a2bed6d-c2ce-4bcf-bef9-a8d21c6fe716\">\n",
              "      Upload widget is only available when the cell has been executed in the\n",
              "      current browser session. Please rerun this cell to enable.\n",
              "      </output>\n",
              "      <script src=\"/nbextensions/google.colab/files.js\"></script> "
            ],
            "text/plain": [
              "<IPython.core.display.HTML object>"
            ]
          },
          "metadata": {},
          "output_type": "display_data"
        },
        {
          "name": "stdout",
          "output_type": "stream",
          "text": [
            "Saving ThoraricSurgery.csv to ThoraricSurgery.csv\n"
          ]
        }
      ],
      "source": [
        "# 파일 업로드\n",
        "from google.colab import files\n",
        "uploaded = files.upload()"
      ]
    },
    {
      "cell_type": "code",
      "execution_count": 9,
      "metadata": {
        "colab": {
          "base_uri": "https://localhost:8080/"
        },
        "id": "QyLcYlCvcx0V",
        "outputId": "c0f1a49d-8954-4457-8de4-47ea2eaabdc2"
      },
      "outputs": [
        {
          "data": {
            "text/plain": [
              "dict_keys(['ThoraricSurgery.csv'])"
            ]
          },
          "execution_count": 9,
          "metadata": {},
          "output_type": "execute_result"
        }
      ],
      "source": [
        "uploaded.keys()"
      ]
    },
    {
      "cell_type": "code",
      "execution_count": 10,
      "metadata": {
        "id": "4HXxEG3vc90k"
      },
      "outputs": [],
      "source": [
        "filename = list(uploaded.keys())[0]"
      ]
    },
    {
      "cell_type": "code",
      "execution_count": 11,
      "metadata": {
        "id": "1LpbGEPFdDcM"
      },
      "outputs": [],
      "source": [
        "import numpy as np\n",
        "import pandas as pd"
      ]
    },
    {
      "cell_type": "code",
      "execution_count": 13,
      "metadata": {
        "colab": {
          "base_uri": "https://localhost:8080/",
          "height": 206
        },
        "id": "tE-KUkbNdWeO",
        "outputId": "a4efa01f-f0ac-4fb7-a441-2531ade3004b"
      },
      "outputs": [
        {
          "data": {
            "text/html": [
              "\n",
              "  <div id=\"df-54dc8e6e-7b46-4b2a-8de0-5d4b69eb175f\">\n",
              "    <div class=\"colab-df-container\">\n",
              "      <div>\n",
              "<style scoped>\n",
              "    .dataframe tbody tr th:only-of-type {\n",
              "        vertical-align: middle;\n",
              "    }\n",
              "\n",
              "    .dataframe tbody tr th {\n",
              "        vertical-align: top;\n",
              "    }\n",
              "\n",
              "    .dataframe thead th {\n",
              "        text-align: right;\n",
              "    }\n",
              "</style>\n",
              "<table border=\"1\" class=\"dataframe\">\n",
              "  <thead>\n",
              "    <tr style=\"text-align: right;\">\n",
              "      <th></th>\n",
              "      <th>0</th>\n",
              "      <th>1</th>\n",
              "      <th>2</th>\n",
              "      <th>3</th>\n",
              "      <th>4</th>\n",
              "      <th>5</th>\n",
              "      <th>6</th>\n",
              "      <th>7</th>\n",
              "      <th>8</th>\n",
              "      <th>9</th>\n",
              "      <th>10</th>\n",
              "      <th>11</th>\n",
              "      <th>12</th>\n",
              "      <th>13</th>\n",
              "      <th>14</th>\n",
              "      <th>15</th>\n",
              "      <th>16</th>\n",
              "      <th>17</th>\n",
              "    </tr>\n",
              "  </thead>\n",
              "  <tbody>\n",
              "    <tr>\n",
              "      <th>0</th>\n",
              "      <td>293</td>\n",
              "      <td>1</td>\n",
              "      <td>3.80</td>\n",
              "      <td>2.80</td>\n",
              "      <td>0</td>\n",
              "      <td>0</td>\n",
              "      <td>0</td>\n",
              "      <td>0</td>\n",
              "      <td>0</td>\n",
              "      <td>0</td>\n",
              "      <td>12</td>\n",
              "      <td>0</td>\n",
              "      <td>0</td>\n",
              "      <td>0</td>\n",
              "      <td>1</td>\n",
              "      <td>0</td>\n",
              "      <td>62</td>\n",
              "      <td>0</td>\n",
              "    </tr>\n",
              "    <tr>\n",
              "      <th>1</th>\n",
              "      <td>1</td>\n",
              "      <td>2</td>\n",
              "      <td>2.88</td>\n",
              "      <td>2.16</td>\n",
              "      <td>1</td>\n",
              "      <td>0</td>\n",
              "      <td>0</td>\n",
              "      <td>0</td>\n",
              "      <td>1</td>\n",
              "      <td>1</td>\n",
              "      <td>14</td>\n",
              "      <td>0</td>\n",
              "      <td>0</td>\n",
              "      <td>0</td>\n",
              "      <td>1</td>\n",
              "      <td>0</td>\n",
              "      <td>60</td>\n",
              "      <td>0</td>\n",
              "    </tr>\n",
              "    <tr>\n",
              "      <th>2</th>\n",
              "      <td>8</td>\n",
              "      <td>2</td>\n",
              "      <td>3.19</td>\n",
              "      <td>2.50</td>\n",
              "      <td>1</td>\n",
              "      <td>0</td>\n",
              "      <td>0</td>\n",
              "      <td>0</td>\n",
              "      <td>1</td>\n",
              "      <td>0</td>\n",
              "      <td>11</td>\n",
              "      <td>0</td>\n",
              "      <td>0</td>\n",
              "      <td>1</td>\n",
              "      <td>1</td>\n",
              "      <td>0</td>\n",
              "      <td>66</td>\n",
              "      <td>1</td>\n",
              "    </tr>\n",
              "    <tr>\n",
              "      <th>3</th>\n",
              "      <td>14</td>\n",
              "      <td>2</td>\n",
              "      <td>3.98</td>\n",
              "      <td>3.06</td>\n",
              "      <td>2</td>\n",
              "      <td>0</td>\n",
              "      <td>0</td>\n",
              "      <td>0</td>\n",
              "      <td>1</td>\n",
              "      <td>1</td>\n",
              "      <td>14</td>\n",
              "      <td>0</td>\n",
              "      <td>0</td>\n",
              "      <td>0</td>\n",
              "      <td>1</td>\n",
              "      <td>0</td>\n",
              "      <td>80</td>\n",
              "      <td>1</td>\n",
              "    </tr>\n",
              "    <tr>\n",
              "      <th>4</th>\n",
              "      <td>17</td>\n",
              "      <td>2</td>\n",
              "      <td>2.21</td>\n",
              "      <td>1.88</td>\n",
              "      <td>0</td>\n",
              "      <td>0</td>\n",
              "      <td>1</td>\n",
              "      <td>0</td>\n",
              "      <td>0</td>\n",
              "      <td>0</td>\n",
              "      <td>12</td>\n",
              "      <td>0</td>\n",
              "      <td>0</td>\n",
              "      <td>0</td>\n",
              "      <td>1</td>\n",
              "      <td>0</td>\n",
              "      <td>56</td>\n",
              "      <td>0</td>\n",
              "    </tr>\n",
              "  </tbody>\n",
              "</table>\n",
              "</div>\n",
              "      <button class=\"colab-df-convert\" onclick=\"convertToInteractive('df-54dc8e6e-7b46-4b2a-8de0-5d4b69eb175f')\"\n",
              "              title=\"Convert this dataframe to an interactive table.\"\n",
              "              style=\"display:none;\">\n",
              "        \n",
              "  <svg xmlns=\"http://www.w3.org/2000/svg\" height=\"24px\"viewBox=\"0 0 24 24\"\n",
              "       width=\"24px\">\n",
              "    <path d=\"M0 0h24v24H0V0z\" fill=\"none\"/>\n",
              "    <path d=\"M18.56 5.44l.94 2.06.94-2.06 2.06-.94-2.06-.94-.94-2.06-.94 2.06-2.06.94zm-11 1L8.5 8.5l.94-2.06 2.06-.94-2.06-.94L8.5 2.5l-.94 2.06-2.06.94zm10 10l.94 2.06.94-2.06 2.06-.94-2.06-.94-.94-2.06-.94 2.06-2.06.94z\"/><path d=\"M17.41 7.96l-1.37-1.37c-.4-.4-.92-.59-1.43-.59-.52 0-1.04.2-1.43.59L10.3 9.45l-7.72 7.72c-.78.78-.78 2.05 0 2.83L4 21.41c.39.39.9.59 1.41.59.51 0 1.02-.2 1.41-.59l7.78-7.78 2.81-2.81c.8-.78.8-2.07 0-2.86zM5.41 20L4 18.59l7.72-7.72 1.47 1.35L5.41 20z\"/>\n",
              "  </svg>\n",
              "      </button>\n",
              "      \n",
              "  <style>\n",
              "    .colab-df-container {\n",
              "      display:flex;\n",
              "      flex-wrap:wrap;\n",
              "      gap: 12px;\n",
              "    }\n",
              "\n",
              "    .colab-df-convert {\n",
              "      background-color: #E8F0FE;\n",
              "      border: none;\n",
              "      border-radius: 50%;\n",
              "      cursor: pointer;\n",
              "      display: none;\n",
              "      fill: #1967D2;\n",
              "      height: 32px;\n",
              "      padding: 0 0 0 0;\n",
              "      width: 32px;\n",
              "    }\n",
              "\n",
              "    .colab-df-convert:hover {\n",
              "      background-color: #E2EBFA;\n",
              "      box-shadow: 0px 1px 2px rgba(60, 64, 67, 0.3), 0px 1px 3px 1px rgba(60, 64, 67, 0.15);\n",
              "      fill: #174EA6;\n",
              "    }\n",
              "\n",
              "    [theme=dark] .colab-df-convert {\n",
              "      background-color: #3B4455;\n",
              "      fill: #D2E3FC;\n",
              "    }\n",
              "\n",
              "    [theme=dark] .colab-df-convert:hover {\n",
              "      background-color: #434B5C;\n",
              "      box-shadow: 0px 1px 3px 1px rgba(0, 0, 0, 0.15);\n",
              "      filter: drop-shadow(0px 1px 2px rgba(0, 0, 0, 0.3));\n",
              "      fill: #FFFFFF;\n",
              "    }\n",
              "  </style>\n",
              "\n",
              "      <script>\n",
              "        const buttonEl =\n",
              "          document.querySelector('#df-54dc8e6e-7b46-4b2a-8de0-5d4b69eb175f button.colab-df-convert');\n",
              "        buttonEl.style.display =\n",
              "          google.colab.kernel.accessAllowed ? 'block' : 'none';\n",
              "\n",
              "        async function convertToInteractive(key) {\n",
              "          const element = document.querySelector('#df-54dc8e6e-7b46-4b2a-8de0-5d4b69eb175f');\n",
              "          const dataTable =\n",
              "            await google.colab.kernel.invokeFunction('convertToInteractive',\n",
              "                                                     [key], {});\n",
              "          if (!dataTable) return;\n",
              "\n",
              "          const docLinkHtml = 'Like what you see? Visit the ' +\n",
              "            '<a target=\"_blank\" href=https://colab.research.google.com/notebooks/data_table.ipynb>data table notebook</a>'\n",
              "            + ' to learn more about interactive tables.';\n",
              "          element.innerHTML = '';\n",
              "          dataTable['output_type'] = 'display_data';\n",
              "          await google.colab.output.renderOutput(dataTable, element);\n",
              "          const docLink = document.createElement('div');\n",
              "          docLink.innerHTML = docLinkHtml;\n",
              "          element.appendChild(docLink);\n",
              "        }\n",
              "      </script>\n",
              "    </div>\n",
              "  </div>\n",
              "  "
            ],
            "text/plain": [
              "    0   1     2     3   4   5   6   7   8   9   10  11  12  13  14  15  16  17\n",
              "0  293   1  3.80  2.80   0   0   0   0   0   0  12   0   0   0   1   0  62   0\n",
              "1    1   2  2.88  2.16   1   0   0   0   1   1  14   0   0   0   1   0  60   0\n",
              "2    8   2  3.19  2.50   1   0   0   0   1   0  11   0   0   1   1   0  66   1\n",
              "3   14   2  3.98  3.06   2   0   0   0   1   1  14   0   0   0   1   0  80   1\n",
              "4   17   2  2.21  1.88   0   0   1   0   0   0  12   0   0   0   1   0  56   0"
            ]
          },
          "execution_count": 13,
          "metadata": {},
          "output_type": "execute_result"
        }
      ],
      "source": [
        "df = pd.read_csv(filename, header=None)\n",
        "df.head()"
      ]
    },
    {
      "cell_type": "markdown",
      "metadata": {
        "id": "ybMFA8HKdXP0"
      },
      "source": [
        "- Train/Test dataset 분리"
      ]
    },
    {
      "cell_type": "code",
      "execution_count": 14,
      "metadata": {
        "colab": {
          "base_uri": "https://localhost:8080/"
        },
        "id": "4CxwCSwPgluJ",
        "outputId": "3426d1d4-8453-4c3b-acba-786aa6b146d1"
      },
      "outputs": [
        {
          "data": {
            "text/plain": [
              "((352, 17), (118, 17), (352,), (118,))"
            ]
          },
          "execution_count": 14,
          "metadata": {},
          "output_type": "execute_result"
        }
      ],
      "source": [
        "from sklearn.model_selection import train_test_split\n",
        "X_train, X_test, y_train, y_test = train_test_split(\n",
        "    df.values[:, :-1], df.values[:, -1], stratify=df.values[:, -1], random_state=2022\n",
        ")\n",
        "X_train.shape, X_test.shape, y_train.shape, y_test.shape"
      ]
    },
    {
      "cell_type": "markdown",
      "metadata": {
        "id": "DmjjMUV9hY2r"
      },
      "source": [
        "- Random 값 정리"
      ]
    },
    {
      "cell_type": "code",
      "execution_count": 15,
      "metadata": {
        "id": "um11Dw5uhcjO"
      },
      "outputs": [],
      "source": [
        "import tensorflow as tf\n",
        "seed = 2022\n",
        "np.random.seed(seed)\n",
        "tf.random.set_seed(seed)"
      ]
    },
    {
      "cell_type": "markdown",
      "metadata": {
        "id": "aYXMxRpNhLRj"
      },
      "source": [
        "- 모델 정의\n",
        "    - add(): 케라스 모델에 층을 추가하는 메서드\n",
        "        - 케라스 모델의 add()메서드는 keras.layers 패키지 아래에 있는 층의 객체를 입력받아 신경망 모델에 추가한다\n",
        "        - add() 메서드를 호출하여 전달한 순서대로 층이 차례대로 늘어난다.\n",
        "    - summary(): 케라스 모델의 정보를 출력하는 메서드\n",
        "        - 모델에 추가된 층의 종류와 순서, 모델 파라미터 개수를 출력\n",
        "    - Sequential: 케라스에서 신경망을 만드는 클래스\n",
        "        - 이 클래스의 객체를 생성할 때 신경망 모델에 추가할 층을 지정할 수 있다. 추가할 층이 1개 이상일 경우 파이썬 리스트로 전달한다.\n",
        "    - Dense: 신경망에서 가장 기본 층인 밀집층을 만드는 클래스\n",
        "        - activation: 사용할 활성화 함수를 지정\n",
        "            - sigmoid, softmax\n",
        "    - 케라스의 Sequential 클래스에 맨 처음 추가되는 층에는 input_shape 매개변수로 입력의 크기를 지정해야 한다.\n",
        "    - compile(): 모델 객체를 만든 후 훈련하기 전에 사용할 손실 함수와 측정 지표 등을 지정하는 메서드\n",
        "        - loss: 손실함수 지정\n",
        "            - 이진분류: binary_crossentropy\n",
        "            - 다중분류: categorical_crossentropy\n",
        "            - 클래스 레이블이 정수일 경우: sparse_categorical_croeeentropy\n",
        "            - 회귀 모델일 경우: mean_square_error\n",
        "        - metrics: 훈련과정에서 측정하고 싶은 지표를 지정할 수 있다.\n",
        "            - 측정 지표가 1개 이상일 경우 리스트로 전달'\n",
        "            - 케라스는 모델이 훈련할 때 기본적으로 에포크마다 손실값을 출력.\n",
        "                - 손실이 줄어드는 것을 보고 훈련이 잘 되었다는 것을 알 수 있지만 정확도를 함께 출력하면 더 좋다!\n",
        "                -   이를 위해, metrics 매개변수에 정확도 지표를 의미하는 'accuracy'를 지정"
      ]
    },
    {
      "cell_type": "code",
      "execution_count": 16,
      "metadata": {
        "id": "GpvjiM05hPbZ"
      },
      "outputs": [],
      "source": [
        "from tensorflow.keras.models import Sequential\n",
        "from tensorflow.keras.layers import Dense"
      ]
    },
    {
      "cell_type": "code",
      "execution_count": 17,
      "metadata": {
        "colab": {
          "base_uri": "https://localhost:8080/"
        },
        "id": "_mYqNalvh_Qf",
        "outputId": "106c63ef-2020-46b4-bfe1-3b3b3917ac57"
      },
      "outputs": [
        {
          "name": "stdout",
          "output_type": "stream",
          "text": [
            "Model: \"sequential\"\n",
            "_________________________________________________________________\n",
            " Layer (type)                Output Shape              Param #   \n",
            "=================================================================\n",
            " dense (Dense)               (None, 30)                540       \n",
            "                                                                 \n",
            " dense_1 (Dense)             (None, 1)                 31        \n",
            "                                                                 \n",
            "=================================================================\n",
            "Total params: 571\n",
            "Trainable params: 571\n",
            "Non-trainable params: 0\n",
            "_________________________________________________________________\n"
          ]
        }
      ],
      "source": [
        "model = Sequential()                                   # input layer는 따로 주지 않음\n",
        "model.add(Dense(30, input_dim=17, activation='relu'))  # 케라스에서 신경망의 첫 번째 층은 inpit_shape 매개변수로 입력의 크기를 반드시 지정해주어야 한다.\n",
        "                                                       # activation == 활성화 함수 /// input에서 전달하는 매개체를 relu로 사용하겠다는 의미\n",
        "                                                       # 은닉층(Hidden layer)\n",
        "model.add(Dense(1, activation='sigmoid'))              # 출력층(Output layer) \n",
        "                                                       # 이진분류 => activation='sigmoid'\n",
        "model.summary()                                        # 입력층(17개 == a) * 은닉층(30개 == x) = 510개 + 30개(절편 == b) = 540개 \n",
        "                                                       # dense(Dense) ----------(None,30)----------540\n",
        "                                                       #                         None: 샘플 개수가 아직 정해지지 않았기 때문에 None\n",
        "                                                       #                            케라스 모델의 fit() 메서드에 훈련 데이터를 주입하면 한 번에 모두 사용하지 않고 잘게 나누어 여러번에 걸쳐 경사하강법 단계를 수행한다\n",
        "                                                       #                            fit() 메서드에서 batch_size 매개 변수로 바꿀 수 있다.\n",
        "                                                       #                            따라서 샘플 개수를 고정하지 않고 어떤 배치 크기에도 유연하게 대응할 수 있도록 None으로 설정\n",
        "                                                       #                            배치 차원: 신경망 층에 입력되거나 출력되는 배열의 첫 번째 차원\n",
        "                                                       #                         30: 은닉층의 뉴런 개수를 30개로 두어서, 30개의 출력이 나옴 \n",
        "                                                       #                         540: 입력층(17개 == a) * 은닉층(30개 == x) = 510개 + 30개(절편 == b) = 540개\n",
        "                                                       # dense_1(Dense) ----------(None,1)----------31\n",
        "                                                       #                           1: 출력 뉴런 개수\n",
        "                                                       #                           31: 30개의 은닉층 뉴런과 1개의 은닉층 뉴런"
      ]
    },
    {
      "cell_type": "code",
      "execution_count": 19,
      "metadata": {
        "id": "80lRfKpmjepE"
      },
      "outputs": [],
      "source": [
        "model.compile(\n",
        "    optimizer='adam',                   # cf. 회귀: 경사하강법 (최소 지점을 찾아가는 방법)\n",
        "    loss = 'binary_crossentropy',       # 손실함수: 이진분류 'binary_crossentropy'\n",
        "    metrics = ['accuracy']             \n",
        ")"
      ]
    },
    {
      "cell_type": "markdown",
      "metadata": {
        "id": "X6guSn37kglk"
      },
      "source": [
        "- 모델 학습\n",
        "    - fit(): 모델을 훈련하는 메서드\n",
        "        - 첫 번째와 두 번째 매개변수에 입력과 타깃 데이터를 전달\n",
        "        - epochs: 전체 데이터에 대해 반복할 에포크 횟수를 지정"
      ]
    },
    {
      "cell_type": "code",
      "execution_count": 20,
      "metadata": {
        "colab": {
          "base_uri": "https://localhost:8080/"
        },
        "id": "hDokkypCl7qS",
        "outputId": "8c95de78-c7cd-4ab9-f75c-f99293efc5d5"
      },
      "outputs": [
        {
          "name": "stdout",
          "output_type": "stream",
          "text": [
            "Epoch 1/30\n",
            "10/10 [==============================] - 1s 24ms/step - loss: 42.6976 - accuracy: 0.1957 - val_loss: 43.9042 - val_accuracy: 0.2817\n",
            "Epoch 2/30\n",
            "10/10 [==============================] - 0s 5ms/step - loss: 34.1635 - accuracy: 0.2740 - val_loss: 35.1561 - val_accuracy: 0.3521\n",
            "Epoch 3/30\n",
            "10/10 [==============================] - 0s 5ms/step - loss: 26.6377 - accuracy: 0.3737 - val_loss: 27.0327 - val_accuracy: 0.2958\n",
            "Epoch 4/30\n",
            "10/10 [==============================] - 0s 4ms/step - loss: 19.1766 - accuracy: 0.3950 - val_loss: 19.6114 - val_accuracy: 0.3662\n",
            "Epoch 5/30\n",
            "10/10 [==============================] - 0s 5ms/step - loss: 12.9497 - accuracy: 0.4377 - val_loss: 12.6753 - val_accuracy: 0.3944\n",
            "Epoch 6/30\n",
            "10/10 [==============================] - 0s 7ms/step - loss: 7.6402 - accuracy: 0.5125 - val_loss: 7.0563 - val_accuracy: 0.4648\n",
            "Epoch 7/30\n",
            "10/10 [==============================] - 0s 5ms/step - loss: 4.1543 - accuracy: 0.6406 - val_loss: 3.5474 - val_accuracy: 0.5775\n",
            "Epoch 8/30\n",
            "10/10 [==============================] - 0s 7ms/step - loss: 2.4810 - accuracy: 0.7438 - val_loss: 2.5992 - val_accuracy: 0.7183\n",
            "Epoch 9/30\n",
            "10/10 [==============================] - 0s 7ms/step - loss: 2.1591 - accuracy: 0.8327 - val_loss: 2.4216 - val_accuracy: 0.7746\n",
            "Epoch 10/30\n",
            "10/10 [==============================] - 0s 6ms/step - loss: 2.1308 - accuracy: 0.8363 - val_loss: 2.3196 - val_accuracy: 0.7746\n",
            "Epoch 11/30\n",
            "10/10 [==============================] - 0s 5ms/step - loss: 2.0510 - accuracy: 0.8292 - val_loss: 2.2231 - val_accuracy: 0.7887\n",
            "Epoch 12/30\n",
            "10/10 [==============================] - 0s 5ms/step - loss: 1.9650 - accuracy: 0.8185 - val_loss: 2.1654 - val_accuracy: 0.7746\n",
            "Epoch 13/30\n",
            "10/10 [==============================] - 0s 5ms/step - loss: 1.8626 - accuracy: 0.8221 - val_loss: 2.0717 - val_accuracy: 0.7746\n",
            "Epoch 14/30\n",
            "10/10 [==============================] - 0s 5ms/step - loss: 1.7878 - accuracy: 0.8149 - val_loss: 1.9793 - val_accuracy: 0.7324\n",
            "Epoch 15/30\n",
            "10/10 [==============================] - 0s 5ms/step - loss: 1.6969 - accuracy: 0.8007 - val_loss: 1.8922 - val_accuracy: 0.7183\n",
            "Epoch 16/30\n",
            "10/10 [==============================] - 0s 6ms/step - loss: 1.5710 - accuracy: 0.8007 - val_loss: 1.7406 - val_accuracy: 0.7183\n",
            "Epoch 17/30\n",
            "10/10 [==============================] - 0s 4ms/step - loss: 1.3840 - accuracy: 0.8078 - val_loss: 1.4699 - val_accuracy: 0.7042\n",
            "Epoch 18/30\n",
            "10/10 [==============================] - 0s 5ms/step - loss: 1.1805 - accuracy: 0.8043 - val_loss: 1.3751 - val_accuracy: 0.6901\n",
            "Epoch 19/30\n",
            "10/10 [==============================] - 0s 6ms/step - loss: 1.1030 - accuracy: 0.8007 - val_loss: 1.2752 - val_accuracy: 0.7324\n",
            "Epoch 20/30\n",
            "10/10 [==============================] - 0s 7ms/step - loss: 1.0146 - accuracy: 0.8078 - val_loss: 1.2145 - val_accuracy: 0.7746\n",
            "Epoch 21/30\n",
            "10/10 [==============================] - 0s 5ms/step - loss: 0.9365 - accuracy: 0.8078 - val_loss: 1.1661 - val_accuracy: 0.7324\n",
            "Epoch 22/30\n",
            "10/10 [==============================] - 0s 5ms/step - loss: 0.8637 - accuracy: 0.8221 - val_loss: 1.0726 - val_accuracy: 0.7746\n",
            "Epoch 23/30\n",
            "10/10 [==============================] - 0s 5ms/step - loss: 0.7941 - accuracy: 0.8292 - val_loss: 1.0186 - val_accuracy: 0.7746\n",
            "Epoch 24/30\n",
            "10/10 [==============================] - 0s 5ms/step - loss: 0.7593 - accuracy: 0.8434 - val_loss: 0.9763 - val_accuracy: 0.7746\n",
            "Epoch 25/30\n",
            "10/10 [==============================] - 0s 5ms/step - loss: 0.6800 - accuracy: 0.8327 - val_loss: 0.9883 - val_accuracy: 0.7324\n",
            "Epoch 26/30\n",
            "10/10 [==============================] - 0s 8ms/step - loss: 0.6498 - accuracy: 0.8221 - val_loss: 0.9247 - val_accuracy: 0.7746\n",
            "Epoch 27/30\n",
            "10/10 [==============================] - 0s 5ms/step - loss: 0.6046 - accuracy: 0.8363 - val_loss: 0.8756 - val_accuracy: 0.7606\n",
            "Epoch 28/30\n",
            "10/10 [==============================] - 0s 5ms/step - loss: 0.5546 - accuracy: 0.8363 - val_loss: 0.8632 - val_accuracy: 0.7746\n",
            "Epoch 29/30\n",
            "10/10 [==============================] - 0s 7ms/step - loss: 0.5047 - accuracy: 0.8434 - val_loss: 0.7965 - val_accuracy: 0.7887\n",
            "Epoch 30/30\n",
            "10/10 [==============================] - 0s 5ms/step - loss: 0.4668 - accuracy: 0.8470 - val_loss: 0.7800 - val_accuracy: 0.8028\n"
          ]
        },
        {
          "data": {
            "text/plain": [
              "<keras.callbacks.History at 0x7fdff9a77e10>"
            ]
          },
          "execution_count": 20,
          "metadata": {},
          "output_type": "execute_result"
        }
      ],
      "source": [
        "model.fit(X_train, y_train ,batch_size=30, epochs=30, validation_split=0.2)        # batch_size => 데이터를 한꺼번에 몇 개를 받을 것인지 결정\n",
        "                                                                                   # 배치 사이즈가 크면 속도는 빠르지만, 메모리 소모가 그만큼 빠르다.\n",
        "                                                                                   # validation_split => 학습(weight값 갱신) -> 검증(20%)\n",
        "                                                                                   # 검증 세트의 점수는 훈련 세트 점수보다 조금 낮은 것이 일반적이다. "
      ]
    },
    {
      "cell_type": "markdown",
      "metadata": {
        "id": "-QA3isqFmoM_"
      },
      "source": [
        "- 정확도 평가\n",
        "    - evaluate(): 모델 성능 평가 메서드\n",
        "        - 첫 번째와 두 번째 매개변수에 입력과 타깃 데이터를 전달\n",
        "        - compile() 메서드에서 loss 매개변수에 지정한 손실함수의 값과 metrics 매개변수에서 지정한 측정 지표를 출력"
      ]
    },
    {
      "cell_type": "code",
      "execution_count": 21,
      "metadata": {
        "colab": {
          "base_uri": "https://localhost:8080/"
        },
        "id": "qT8qkmelnRj7",
        "outputId": "3191388f-de98-4044-dd2c-2236b6fa55de"
      },
      "outputs": [
        {
          "name": "stdout",
          "output_type": "stream",
          "text": [
            "4/4 [==============================] - 0s 3ms/step - loss: 0.4375 - accuracy: 0.8305\n"
          ]
        },
        {
          "data": {
            "text/plain": [
              "[0.4375133514404297, 0.8305084705352783]"
            ]
          },
          "execution_count": 21,
          "metadata": {},
          "output_type": "execute_result"
        }
      ],
      "source": [
        "model.evaluate(X_test, y_test)"
      ]
    },
    {
      "cell_type": "markdown",
      "metadata": {
        "id": "kG4vx4wKnUOC"
      },
      "source": [
        "- MachineLearning - RandomForest"
      ]
    },
    {
      "cell_type": "code",
      "execution_count": 23,
      "metadata": {
        "colab": {
          "base_uri": "https://localhost:8080/"
        },
        "id": "WRJ6JuYZnl6i",
        "outputId": "9baadeb1-49f5-44ea-e019-05e03c021646"
      },
      "outputs": [
        {
          "data": {
            "text/plain": [
              "0.8389830508474576"
            ]
          },
          "execution_count": 23,
          "metadata": {},
          "output_type": "execute_result"
        }
      ],
      "source": [
        "from sklearn.ensemble import RandomForestClassifier\n",
        "rfc = RandomForestClassifier(random_state=2022)\n",
        "rfc.fit(X_train, y_train)\n",
        "rfc.score(X_test, y_test)"
      ]
    }
  ],
  "metadata": {
    "colab": {
      "collapsed_sections": [],
      "name": "01.ThorarcicSurgery.ipynb",
      "provenance": []
    },
    "kernelspec": {
      "display_name": "Python 3",
      "name": "python3"
    },
    "language_info": {
      "name": "python"
    }
  },
  "nbformat": 4,
  "nbformat_minor": 0
}
