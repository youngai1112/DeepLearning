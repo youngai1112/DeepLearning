{
  "cells": [
    {
      "cell_type": "markdown",
      "metadata": {
        "id": "lQsOY0NaaR5b"
      },
      "source": [
        "# 다중 분류 - 아이리스 품종 분류"
      ]
    },
    {
      "cell_type": "code",
      "execution_count": 1,
      "metadata": {
        "id": "OkzSpPXGjViI"
      },
      "outputs": [],
      "source": [
        "import numpy as np\n",
        "import pandas as pd\n",
        "import tensorflow as tf\n",
        "seed = 2022\n",
        "np.random.seed(seed)\n",
        "tf.random.set_seed(seed)"
      ]
    },
    {
      "cell_type": "markdown",
      "metadata": {
        "id": "_5WKh-TZj1dh"
      },
      "source": [
        "- 데이터 전처리"
      ]
    },
    {
      "cell_type": "code",
      "execution_count": 2,
      "metadata": {
        "id": "AoTO_hz-j4dW"
      },
      "outputs": [],
      "source": [
        "from sklearn.datasets import load_iris\n",
        "iris = load_iris()"
      ]
    },
    {
      "cell_type": "code",
      "execution_count": 3,
      "metadata": {
        "colab": {
          "base_uri": "https://localhost:8080/"
        },
        "id": "h4x3Iw96kCPg",
        "outputId": "fea78c86-5a61-47d6-e51d-93299e0c89f1"
      },
      "outputs": [
        {
          "data": {
            "text/plain": [
              "(150, 4)"
            ]
          },
          "execution_count": 3,
          "metadata": {},
          "output_type": "execute_result"
        }
      ],
      "source": [
        "# X data는 정규화\n",
        "from sklearn.preprocessing import StandardScaler\n",
        "X_scaled = StandardScaler().fit_transform(iris.data)\n",
        "X_scaled.shape"
      ]
    },
    {
      "cell_type": "code",
      "execution_count": 4,
      "metadata": {
        "colab": {
          "base_uri": "https://localhost:8080/"
        },
        "id": "iS0F-vMTkeWb",
        "outputId": "49947b9e-4ddb-421d-fe37-9de14fe252a4"
      },
      "outputs": [
        {
          "data": {
            "text/plain": [
              "array([[1., 0., 0.],\n",
              "       [1., 0., 0.],\n",
              "       [1., 0., 0.],\n",
              "       [1., 0., 0.],\n",
              "       [1., 0., 0.]], dtype=float32)"
            ]
          },
          "execution_count": 4,
          "metadata": {},
          "output_type": "execute_result"
        }
      ],
      "source": [
        "# Y data는 One-hot encoding\n",
        "from tensorflow.keras.utils import to_categorical\n",
        "Y_onehot = to_categorical(iris.target)\n",
        "Y_onehot[:5]"
      ]
    },
    {
      "cell_type": "code",
      "execution_count": 5,
      "metadata": {
        "colab": {
          "base_uri": "https://localhost:8080/"
        },
        "id": "M7UbXCigkzfL",
        "outputId": "9ae82af2-e187-435b-f264-5f226e98c23e"
      },
      "outputs": [
        {
          "data": {
            "text/plain": [
              "(150, 3)"
            ]
          },
          "execution_count": 5,
          "metadata": {},
          "output_type": "execute_result"
        }
      ],
      "source": [
        "# Y는 2차원이므로 대문자로 표기\n",
        "Y_onehot.shape"
      ]
    },
    {
      "cell_type": "code",
      "execution_count": 15,
      "metadata": {
        "colab": {
          "base_uri": "https://localhost:8080/"
        },
        "id": "Z6nwN2r3lEHc",
        "outputId": "1f101ee1-d8e9-485e-c7ee-e860208a41cb"
      },
      "outputs": [
        {
          "data": {
            "text/plain": [
              "((120, 4), (30, 4), (120, 3), (30, 3))"
            ]
          },
          "execution_count": 15,
          "metadata": {},
          "output_type": "execute_result"
        }
      ],
      "source": [
        "from sklearn.model_selection import train_test_split\n",
        "X_train, X_test, Y_train, Y_test = train_test_split(\n",
        "    X_scaled, Y_onehot, stratify=Y_onehot, test_size=0.2, random_state=seed\n",
        ")\n",
        "# input(150,4) input_dim=4\n",
        "# output(150,3), Dense=3, softmax => output 노드가 3개 => 즉, 활성화함수는 sigmoid가 아닌 softmax 사용\n",
        "# ML의 logistic Regression -> predict_proba = 0.2, 0.7, 0.1이라면 predict는 0, 1, 0\n",
        "#   DL에서는 이 역할을 활성화 함수인 softmax가 해준다.\n",
        "# 이진분류의 loss함수는 binary_crossentropy\n",
        "# 다중분류의 loss함수는 categorical_crossentrop\n",
        "X_train.shape, X_test.shape, y_train.shape, y_test.shape"
      ]
    },
    {
      "cell_type": "markdown",
      "metadata": {
        "id": "Oz6RJhNwloEY"
      },
      "source": [
        "- 모델 정의/설정/학습/평가"
      ]
    },
    {
      "cell_type": "code",
      "execution_count": 16,
      "metadata": {
        "id": "jJCq_yZ3l82B"
      },
      "outputs": [],
      "source": [
        "from tensorflow.keras.models import Sequential\n",
        "from tensorflow.keras.layers import Dense"
      ]
    },
    {
      "cell_type": "code",
      "execution_count": 17,
      "metadata": {
        "colab": {
          "base_uri": "https://localhost:8080/"
        },
        "id": "8NU4630nmIHw",
        "outputId": "ed495cab-8f62-4147-ccf0-b688abfb8b96"
      },
      "outputs": [
        {
          "name": "stdout",
          "output_type": "stream",
          "text": [
            "Model: \"sequential_1\"\n",
            "_________________________________________________________________\n",
            " Layer (type)                Output Shape              Param #   \n",
            "=================================================================\n",
            " dense_2 (Dense)             (None, 16)                80        \n",
            "                                                                 \n",
            " dense_3 (Dense)             (None, 3)                 51        \n",
            "                                                                 \n",
            "=================================================================\n",
            "Total params: 131\n",
            "Trainable params: 131\n",
            "Non-trainable params: 0\n",
            "_________________________________________________________________\n"
          ]
        }
      ],
      "source": [
        "model = Sequential([\n",
        "    Dense(16, input_dim=4, activation='relu'),   # Hidden Layer ///// 중간과정의 활성화함수는 relu\n",
        "    Dense(3, activation='softmax')               # Output Layer\n",
        "])\n",
        "model.summary()"
      ]
    },
    {
      "cell_type": "code",
      "execution_count": 18,
      "metadata": {
        "id": "vU1P_n8Fqwvi"
      },
      "outputs": [],
      "source": [
        "model.compile(\n",
        "    optimizer='adam',\n",
        "    loss='categorical_crossentropy',        # 다중 분류시 오차 함수\n",
        "    metrics=['accuracy']    \n",
        ")"
      ]
    },
    {
      "cell_type": "code",
      "execution_count": 19,
      "metadata": {
        "id": "hcPe8JpHrVXp"
      },
      "outputs": [],
      "source": [
        "history = model.fit(\n",
        "    X_train, Y_train, validation_split=0.2, epochs=200, batch_size=50, verbose=0    # verbose=0 => 결과를 보지 않고 넘어가겠다!\n",
        ")"
      ]
    },
    {
      "cell_type": "code",
      "execution_count": 20,
      "metadata": {
        "colab": {
          "base_uri": "https://localhost:8080/"
        },
        "id": "6vwnkeN9rpRA",
        "outputId": "01b86fc1-a842-406f-f95d-d515ba701c2a"
      },
      "outputs": [
        {
          "name": "stdout",
          "output_type": "stream",
          "text": [
            "1/1 [==============================] - 0s 19ms/step - loss: 0.3101 - accuracy: 0.8667\n"
          ]
        },
        {
          "data": {
            "text/plain": [
              "[0.31006133556365967, 0.8666666746139526]"
            ]
          },
          "execution_count": 20,
          "metadata": {},
          "output_type": "execute_result"
        }
      ],
      "source": [
        "model.evaluate(X_test, Y_test)"
      ]
    },
    {
      "cell_type": "markdown",
      "metadata": {
        "id": "VSERX3gOsjLy"
      },
      "source": [
        "- 모델 저장/로드\n",
        "    - 모델을 저장하고, 파일이 잘 만들어졌는지 확인하기 위한 방법은 다음과 같다.\n",
        "    -   `!ls -al *.h5`"
      ]
    },
    {
      "cell_type": "code",
      "execution_count": 21,
      "metadata": {
        "id": "KWw-DVAxslK3"
      },
      "outputs": [],
      "source": [
        "!mkdir model"
      ]
    },
    {
      "cell_type": "code",
      "execution_count": 22,
      "metadata": {
        "id": "SpD3-akytWo1"
      },
      "outputs": [],
      "source": [
        "model.save('model/iris.h5')     # 딥러닝에는 h5라는 레이블을 달아줌"
      ]
    },
    {
      "cell_type": "code",
      "execution_count": 23,
      "metadata": {
        "id": "9-Yoa4G2tmZ5"
      },
      "outputs": [],
      "source": [
        "from tensorflow.keras.models import load_model\n",
        "my_model = load_model('model/iris.h5')"
      ]
    },
    {
      "cell_type": "code",
      "execution_count": 24,
      "metadata": {
        "colab": {
          "base_uri": "https://localhost:8080/"
        },
        "id": "4iHwKT28t5_9",
        "outputId": "4f64bc7c-b8f4-47c6-a22f-dd13f8e7c044"
      },
      "outputs": [
        {
          "name": "stdout",
          "output_type": "stream",
          "text": [
            "1/1 [==============================] - 0s 146ms/step - loss: 0.3101 - accuracy: 0.8667\n"
          ]
        },
        {
          "data": {
            "text/plain": [
              "[0.31006133556365967, 0.8666666746139526]"
            ]
          },
          "execution_count": 24,
          "metadata": {},
          "output_type": "execute_result"
        }
      ],
      "source": [
        "my_model.evaluate(X_test, Y_test)"
      ]
    },
    {
      "cell_type": "markdown",
      "metadata": {
        "id": "1y_k3AHet9pO"
      },
      "source": [
        "- 학습과정 시각화"
      ]
    },
    {
      "cell_type": "code",
      "execution_count": 26,
      "metadata": {
        "id": "l1c4r784u0BI"
      },
      "outputs": [],
      "source": [
        "import matplotlib.pyplot as plt"
      ]
    },
    {
      "cell_type": "code",
      "execution_count": 28,
      "metadata": {
        "id": "52nzq7NWu7J-"
      },
      "outputs": [],
      "source": [
        "y_acc = history.history['accuracy']\n",
        "y_vloss = history.history['val_loss']\n",
        "xs = np.arange(1,len(y_acc)+1)"
      ]
    },
    {
      "cell_type": "code",
      "execution_count": 29,
      "metadata": {
        "colab": {
          "base_uri": "https://localhost:8080/",
          "height": 497
        },
        "id": "bJU0zAOpvV9N",
        "outputId": "7900c288-caf5-482e-84fd-6b0637620951"
      },
      "outputs": [
        {
          "data": {
            "image/png": "[encoded data removed]",
            "text/plain": [
              "<Figure size 864x576 with 1 Axes>"
            ]
          },
          "metadata": {
            "needs_background": "light"
          },
          "output_type": "display_data"
        }
      ],
      "source": [
        "plt.figure(figsize=(12,8))\n",
        "plt.plot(xs, y_acc, ms=5, label='train accuracy')\n",
        "plt.plot(xs, y_vloss, ms=5, label='validation loss')    # 단조감소 함수(0에 수렴하는 방향) -> 학습을 더 하게 되면 개선될 여지가 있다. \n",
        "plt.legend()\n",
        "plt.grid()\n",
        "plt.xlabel('Epoch')\n",
        "plt.show()"
      ]
    },
    {
      "cell_type": "markdown",
      "metadata": {
        "id": "Jo00gpAgvsW_"
      },
      "source": [
        "- Epoch 횟수를 더 늘려서 학습을 해보자"
      ]
    },
    {
      "cell_type": "code",
      "execution_count": 38,
      "metadata": {
        "id": "PjuIliJ2wcIC"
      },
      "outputs": [],
      "source": [
        "model2 = Sequential([\n",
        "    Dense(16, input_dim=4, activation='relu'),   \n",
        "    Dense(3, activation='softmax')               \n",
        "])"
      ]
    },
    {
      "cell_type": "code",
      "execution_count": 39,
      "metadata": {
        "id": "l29hx1vDwqSt"
      },
      "outputs": [],
      "source": [
        "model2.compile(optimizer='adam', loss='categorical_crossentropy', metrics=['accuracy'])"
      ]
    },
    {
      "cell_type": "code",
      "execution_count": 40,
      "metadata": {
        "id": "XcjrXxJHw1Cs"
      },
      "outputs": [],
      "source": [
        "history2 = model2.fit(\n",
        "    X_train, Y_train, validation_split=0.2, epochs=1000, batch_size=50, verbose=0\n",
        ")"
      ]
    },
    {
      "cell_type": "code",
      "execution_count": 42,
      "metadata": {
        "colab": {
          "base_uri": "https://localhost:8080/"
        },
        "id": "GYtLxiZSxIzU",
        "outputId": "41d7c1f5-8178-4c51-c132-3d6b918fbd17"
      },
      "outputs": [
        {
          "name": "stdout",
          "output_type": "stream",
          "text": [
            "1/1 [==============================] - 0s 19ms/step - loss: 0.1334 - accuracy: 0.9000\n"
          ]
        },
        {
          "data": {
            "text/plain": [
              "[0.13342145085334778, 0.8999999761581421]"
            ]
          },
          "execution_count": 42,
          "metadata": {},
          "output_type": "execute_result"
        }
      ],
      "source": [
        "model2.evaluate(X_test, Y_test)"
      ]
    },
    {
      "cell_type": "code",
      "execution_count": 43,
      "metadata": {
        "id": "T2qZfS0RxaMt"
      },
      "outputs": [],
      "source": [
        "y_acc = history2.history['accuracy']\n",
        "y_vloss = history2.history['val_loss']\n",
        "xs = np.arange(1, len(y_acc)+1)"
      ]
    },
    {
      "cell_type": "code",
      "execution_count": 44,
      "metadata": {
        "colab": {
          "base_uri": "https://localhost:8080/",
          "height": 497
        },
        "id": "8Ykyr2Dkxx3y",
        "outputId": "a9535f31-edb1-4249-e86c-9f310965aa6a"
      },
      "outputs": [
        {
          "data": {
            "image/png": "[encoded data removed]",
            "text/plain": [
              "<Figure size 864x576 with 1 Axes>"
            ]
          },
          "metadata": {
            "needs_background": "light"
          },
          "output_type": "display_data"
        }
      ],
      "source": [
        "plt.figure(figsize=(12,8))\n",
        "plt.plot(xs, y_acc, ms=5, label='train accuracy')\n",
        "plt.plot(xs, y_vloss, ms=5, label='validation loss')    # 단조감소 함수(0에 수렴하는 방향) -> 학습을 더 하게 되면 개선될 여지가 있다. \n",
        "plt.legend()\n",
        "plt.grid()\n",
        "plt.xlabel('Epoch')\n",
        "plt.show()\n",
        "# 400회 이상부터는 과적합되었다고 볼 수 있다. => 400회 이상부터는 모두 정답\n",
        "#   test_data에 별로 좋지 않은 모양\n",
        "# validation loss가 줄어들기만 함 => 테스트에 의미가 없다.\n",
        "# 정형화된 데이터는 데이터 개수가 한정적이어서 데이터 분석에 의미가 없다.\n",
        "# 정형화된 데이터는 신경망보다 앙상블 또는 XGBoost가 더 분석을 잘 한다."
      ]
    },
    {
      "cell_type": "code",
      "execution_count": 37,
      "metadata": {
        "id": "uJhxifP4x59G"
      },
      "outputs": [],
      "source": [
        "del model2"
      ]
    },
    {
      "cell_type": "code",
      "execution_count": null,
      "metadata": {
        "id": "oMvLvIrxx9jQ"
      },
      "outputs": [],
      "source": []
    }
  ],
  "metadata": {
    "colab": {
      "collapsed_sections": [],
      "name": "11.다중분류",
      "provenance": []
    },
    "kernelspec": {
      "display_name": "Python 3",
      "name": "python3"
    },
    "language_info": {
      "name": "python"
    }
  },
  "nbformat": 4,
  "nbformat_minor": 0
}
