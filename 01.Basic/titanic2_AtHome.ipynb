{
  "cells": [
    {
      "cell_type": "markdown",
      "metadata": {
        "id": "Ifm1VzHRqVmv"
      },
      "source": [
        "### Titanic data"
      ]
    },
    {
      "cell_type": "markdown",
      "metadata": {
        "id": "b1joPb05q4ci"
      },
      "source": [
        "- 파일 업로드"
      ]
    },
    {
      "cell_type": "code",
      "execution_count": 273,
      "metadata": {
        "id": "tOZhReLYqelD"
      },
      "outputs": [],
      "source": [
        "import numpy as np\n",
        "import pandas as pd\n",
        "import seaborn as sns\n",
        "import matplotlib.pyplot as plt"
      ]
    },
    {
      "cell_type": "code",
      "execution_count": 274,
      "metadata": {
        "colab": {
          "base_uri": "https://localhost:8080/",
          "height": 143
        },
        "id": "EQ1_LQKHqvXU",
        "outputId": "476fd2e4-38ca-4719-feef-ec0bda5f8f1e"
      },
      "outputs": [
        {
          "data": {
            "text/html": [
              "\n",
              "  <div id=\"df-f6b322d5-a1ad-499c-9070-f59cb8ce2d86\">\n",
              "    <div class=\"colab-df-container\">\n",
              "      <div>\n",
              "<style scoped>\n",
              "    .dataframe tbody tr th:only-of-type {\n",
              "        vertical-align: middle;\n",
              "    }\n",
              "\n",
              "    .dataframe tbody tr th {\n",
              "        vertical-align: top;\n",
              "    }\n",
              "\n",
              "    .dataframe thead th {\n",
              "        text-align: right;\n",
              "    }\n",
              "</style>\n",
              "<table border=\"1\" class=\"dataframe\">\n",
              "  <thead>\n",
              "    <tr style=\"text-align: right;\">\n",
              "      <th></th>\n",
              "      <th>survived</th>\n",
              "      <th>pclass</th>\n",
              "      <th>sex</th>\n",
              "      <th>age</th>\n",
              "      <th>sibsp</th>\n",
              "      <th>parch</th>\n",
              "      <th>fare</th>\n",
              "      <th>embarked</th>\n",
              "      <th>class</th>\n",
              "      <th>who</th>\n",
              "      <th>adult_male</th>\n",
              "      <th>deck</th>\n",
              "      <th>embark_town</th>\n",
              "      <th>alive</th>\n",
              "      <th>alone</th>\n",
              "    </tr>\n",
              "  </thead>\n",
              "  <tbody>\n",
              "    <tr>\n",
              "      <th>0</th>\n",
              "      <td>0</td>\n",
              "      <td>3</td>\n",
              "      <td>male</td>\n",
              "      <td>22.0</td>\n",
              "      <td>1</td>\n",
              "      <td>0</td>\n",
              "      <td>7.2500</td>\n",
              "      <td>S</td>\n",
              "      <td>Third</td>\n",
              "      <td>man</td>\n",
              "      <td>True</td>\n",
              "      <td>NaN</td>\n",
              "      <td>Southampton</td>\n",
              "      <td>no</td>\n",
              "      <td>False</td>\n",
              "    </tr>\n",
              "    <tr>\n",
              "      <th>1</th>\n",
              "      <td>1</td>\n",
              "      <td>1</td>\n",
              "      <td>female</td>\n",
              "      <td>38.0</td>\n",
              "      <td>1</td>\n",
              "      <td>0</td>\n",
              "      <td>71.2833</td>\n",
              "      <td>C</td>\n",
              "      <td>First</td>\n",
              "      <td>woman</td>\n",
              "      <td>False</td>\n",
              "      <td>C</td>\n",
              "      <td>Cherbourg</td>\n",
              "      <td>yes</td>\n",
              "      <td>False</td>\n",
              "    </tr>\n",
              "    <tr>\n",
              "      <th>2</th>\n",
              "      <td>1</td>\n",
              "      <td>3</td>\n",
              "      <td>female</td>\n",
              "      <td>26.0</td>\n",
              "      <td>0</td>\n",
              "      <td>0</td>\n",
              "      <td>7.9250</td>\n",
              "      <td>S</td>\n",
              "      <td>Third</td>\n",
              "      <td>woman</td>\n",
              "      <td>False</td>\n",
              "      <td>NaN</td>\n",
              "      <td>Southampton</td>\n",
              "      <td>yes</td>\n",
              "      <td>True</td>\n",
              "    </tr>\n",
              "  </tbody>\n",
              "</table>\n",
              "</div>\n",
              "      <button class=\"colab-df-convert\" onclick=\"convertToInteractive('df-f6b322d5-a1ad-499c-9070-f59cb8ce2d86')\"\n",
              "              title=\"Convert this dataframe to an interactive table.\"\n",
              "              style=\"display:none;\">\n",
              "        \n",
              "  <svg xmlns=\"http://www.w3.org/2000/svg\" height=\"24px\"viewBox=\"0 0 24 24\"\n",
              "       width=\"24px\">\n",
              "    <path d=\"M0 0h24v24H0V0z\" fill=\"none\"/>\n",
              "    <path d=\"M18.56 5.44l.94 2.06.94-2.06 2.06-.94-2.06-.94-.94-2.06-.94 2.06-2.06.94zm-11 1L8.5 8.5l.94-2.06 2.06-.94-2.06-.94L8.5 2.5l-.94 2.06-2.06.94zm10 10l.94 2.06.94-2.06 2.06-.94-2.06-.94-.94-2.06-.94 2.06-2.06.94z\"/><path d=\"M17.41 7.96l-1.37-1.37c-.4-.4-.92-.59-1.43-.59-.52 0-1.04.2-1.43.59L10.3 9.45l-7.72 7.72c-.78.78-.78 2.05 0 2.83L4 21.41c.39.39.9.59 1.41.59.51 0 1.02-.2 1.41-.59l7.78-7.78 2.81-2.81c.8-.78.8-2.07 0-2.86zM5.41 20L4 18.59l7.72-7.72 1.47 1.35L5.41 20z\"/>\n",
              "  </svg>\n",
              "      </button>\n",
              "      \n",
              "  <style>\n",
              "    .colab-df-container {\n",
              "      display:flex;\n",
              "      flex-wrap:wrap;\n",
              "      gap: 12px;\n",
              "    }\n",
              "\n",
              "    .colab-df-convert {\n",
              "      background-color: #E8F0FE;\n",
              "      border: none;\n",
              "      border-radius: 50%;\n",
              "      cursor: pointer;\n",
              "      display: none;\n",
              "      fill: #1967D2;\n",
              "      height: 32px;\n",
              "      padding: 0 0 0 0;\n",
              "      width: 32px;\n",
              "    }\n",
              "\n",
              "    .colab-df-convert:hover {\n",
              "      background-color: #E2EBFA;\n",
              "      box-shadow: 0px 1px 2px rgba(60, 64, 67, 0.3), 0px 1px 3px 1px rgba(60, 64, 67, 0.15);\n",
              "      fill: #174EA6;\n",
              "    }\n",
              "\n",
              "    [theme=dark] .colab-df-convert {\n",
              "      background-color: #3B4455;\n",
              "      fill: #D2E3FC;\n",
              "    }\n",
              "\n",
              "    [theme=dark] .colab-df-convert:hover {\n",
              "      background-color: #434B5C;\n",
              "      box-shadow: 0px 1px 3px 1px rgba(0, 0, 0, 0.15);\n",
              "      filter: drop-shadow(0px 1px 2px rgba(0, 0, 0, 0.3));\n",
              "      fill: #FFFFFF;\n",
              "    }\n",
              "  </style>\n",
              "\n",
              "      <script>\n",
              "        const buttonEl =\n",
              "          document.querySelector('#df-f6b322d5-a1ad-499c-9070-f59cb8ce2d86 button.colab-df-convert');\n",
              "        buttonEl.style.display =\n",
              "          google.colab.kernel.accessAllowed ? 'block' : 'none';\n",
              "\n",
              "        async function convertToInteractive(key) {\n",
              "          const element = document.querySelector('#df-f6b322d5-a1ad-499c-9070-f59cb8ce2d86');\n",
              "          const dataTable =\n",
              "            await google.colab.kernel.invokeFunction('convertToInteractive',\n",
              "                                                     [key], {});\n",
              "          if (!dataTable) return;\n",
              "\n",
              "          const docLinkHtml = 'Like what you see? Visit the ' +\n",
              "            '<a target=\"_blank\" href=https://colab.research.google.com/notebooks/data_table.ipynb>data table notebook</a>'\n",
              "            + ' to learn more about interactive tables.';\n",
              "          element.innerHTML = '';\n",
              "          dataTable['output_type'] = 'display_data';\n",
              "          await google.colab.output.renderOutput(dataTable, element);\n",
              "          const docLink = document.createElement('div');\n",
              "          docLink.innerHTML = docLinkHtml;\n",
              "          element.appendChild(docLink);\n",
              "        }\n",
              "      </script>\n",
              "    </div>\n",
              "  </div>\n",
              "  "
            ],
            "text/plain": [
              "   survived  pclass     sex   age  ...  deck  embark_town  alive  alone\n",
              "0         0       3    male  22.0  ...   NaN  Southampton     no  False\n",
              "1         1       1  female  38.0  ...     C    Cherbourg    yes  False\n",
              "2         1       3  female  26.0  ...   NaN  Southampton    yes   True\n",
              "\n",
              "[3 rows x 15 columns]"
            ]
          },
          "execution_count": 274,
          "metadata": {},
          "output_type": "execute_result"
        }
      ],
      "source": [
        "df = sns.load_dataset('titanic')\n",
        "df.head(3)"
      ]
    },
    {
      "cell_type": "markdown",
      "metadata": {
        "id": "leS4muVgq1Vi"
      },
      "source": [
        "### 1. 데이터 전처리"
      ]
    },
    {
      "cell_type": "markdown",
      "metadata": {
        "id": "sQqav_aBrIyF"
      },
      "source": [
        "- feature selection"
      ]
    },
    {
      "cell_type": "code",
      "execution_count": 275,
      "metadata": {
        "colab": {
          "base_uri": "https://localhost:8080/",
          "height": 143
        },
        "id": "gIaztzynrVZh",
        "outputId": "e3a88465-233c-43e3-f3e7-2386bb60e47c"
      },
      "outputs": [
        {
          "data": {
            "text/html": [
              "\n",
              "  <div id=\"df-9579747d-bbf9-4582-b467-396513a1811e\">\n",
              "    <div class=\"colab-df-container\">\n",
              "      <div>\n",
              "<style scoped>\n",
              "    .dataframe tbody tr th:only-of-type {\n",
              "        vertical-align: middle;\n",
              "    }\n",
              "\n",
              "    .dataframe tbody tr th {\n",
              "        vertical-align: top;\n",
              "    }\n",
              "\n",
              "    .dataframe thead th {\n",
              "        text-align: right;\n",
              "    }\n",
              "</style>\n",
              "<table border=\"1\" class=\"dataframe\">\n",
              "  <thead>\n",
              "    <tr style=\"text-align: right;\">\n",
              "      <th></th>\n",
              "      <th>survived</th>\n",
              "      <th>pclass</th>\n",
              "      <th>sex</th>\n",
              "      <th>age</th>\n",
              "      <th>sibsp</th>\n",
              "      <th>parch</th>\n",
              "      <th>embarked</th>\n",
              "      <th>deck</th>\n",
              "    </tr>\n",
              "  </thead>\n",
              "  <tbody>\n",
              "    <tr>\n",
              "      <th>0</th>\n",
              "      <td>0</td>\n",
              "      <td>3</td>\n",
              "      <td>male</td>\n",
              "      <td>22.0</td>\n",
              "      <td>1</td>\n",
              "      <td>0</td>\n",
              "      <td>S</td>\n",
              "      <td>NaN</td>\n",
              "    </tr>\n",
              "    <tr>\n",
              "      <th>1</th>\n",
              "      <td>1</td>\n",
              "      <td>1</td>\n",
              "      <td>female</td>\n",
              "      <td>38.0</td>\n",
              "      <td>1</td>\n",
              "      <td>0</td>\n",
              "      <td>C</td>\n",
              "      <td>C</td>\n",
              "    </tr>\n",
              "    <tr>\n",
              "      <th>2</th>\n",
              "      <td>1</td>\n",
              "      <td>3</td>\n",
              "      <td>female</td>\n",
              "      <td>26.0</td>\n",
              "      <td>0</td>\n",
              "      <td>0</td>\n",
              "      <td>S</td>\n",
              "      <td>NaN</td>\n",
              "    </tr>\n",
              "  </tbody>\n",
              "</table>\n",
              "</div>\n",
              "      <button class=\"colab-df-convert\" onclick=\"convertToInteractive('df-9579747d-bbf9-4582-b467-396513a1811e')\"\n",
              "              title=\"Convert this dataframe to an interactive table.\"\n",
              "              style=\"display:none;\">\n",
              "        \n",
              "  <svg xmlns=\"http://www.w3.org/2000/svg\" height=\"24px\"viewBox=\"0 0 24 24\"\n",
              "       width=\"24px\">\n",
              "    <path d=\"M0 0h24v24H0V0z\" fill=\"none\"/>\n",
              "    <path d=\"M18.56 5.44l.94 2.06.94-2.06 2.06-.94-2.06-.94-.94-2.06-.94 2.06-2.06.94zm-11 1L8.5 8.5l.94-2.06 2.06-.94-2.06-.94L8.5 2.5l-.94 2.06-2.06.94zm10 10l.94 2.06.94-2.06 2.06-.94-2.06-.94-.94-2.06-.94 2.06-2.06.94z\"/><path d=\"M17.41 7.96l-1.37-1.37c-.4-.4-.92-.59-1.43-.59-.52 0-1.04.2-1.43.59L10.3 9.45l-7.72 7.72c-.78.78-.78 2.05 0 2.83L4 21.41c.39.39.9.59 1.41.59.51 0 1.02-.2 1.41-.59l7.78-7.78 2.81-2.81c.8-.78.8-2.07 0-2.86zM5.41 20L4 18.59l7.72-7.72 1.47 1.35L5.41 20z\"/>\n",
              "  </svg>\n",
              "      </button>\n",
              "      \n",
              "  <style>\n",
              "    .colab-df-container {\n",
              "      display:flex;\n",
              "      flex-wrap:wrap;\n",
              "      gap: 12px;\n",
              "    }\n",
              "\n",
              "    .colab-df-convert {\n",
              "      background-color: #E8F0FE;\n",
              "      border: none;\n",
              "      border-radius: 50%;\n",
              "      cursor: pointer;\n",
              "      display: none;\n",
              "      fill: #1967D2;\n",
              "      height: 32px;\n",
              "      padding: 0 0 0 0;\n",
              "      width: 32px;\n",
              "    }\n",
              "\n",
              "    .colab-df-convert:hover {\n",
              "      background-color: #E2EBFA;\n",
              "      box-shadow: 0px 1px 2px rgba(60, 64, 67, 0.3), 0px 1px 3px 1px rgba(60, 64, 67, 0.15);\n",
              "      fill: #174EA6;\n",
              "    }\n",
              "\n",
              "    [theme=dark] .colab-df-convert {\n",
              "      background-color: #3B4455;\n",
              "      fill: #D2E3FC;\n",
              "    }\n",
              "\n",
              "    [theme=dark] .colab-df-convert:hover {\n",
              "      background-color: #434B5C;\n",
              "      box-shadow: 0px 1px 3px 1px rgba(0, 0, 0, 0.15);\n",
              "      filter: drop-shadow(0px 1px 2px rgba(0, 0, 0, 0.3));\n",
              "      fill: #FFFFFF;\n",
              "    }\n",
              "  </style>\n",
              "\n",
              "      <script>\n",
              "        const buttonEl =\n",
              "          document.querySelector('#df-9579747d-bbf9-4582-b467-396513a1811e button.colab-df-convert');\n",
              "        buttonEl.style.display =\n",
              "          google.colab.kernel.accessAllowed ? 'block' : 'none';\n",
              "\n",
              "        async function convertToInteractive(key) {\n",
              "          const element = document.querySelector('#df-9579747d-bbf9-4582-b467-396513a1811e');\n",
              "          const dataTable =\n",
              "            await google.colab.kernel.invokeFunction('convertToInteractive',\n",
              "                                                     [key], {});\n",
              "          if (!dataTable) return;\n",
              "\n",
              "          const docLinkHtml = 'Like what you see? Visit the ' +\n",
              "            '<a target=\"_blank\" href=https://colab.research.google.com/notebooks/data_table.ipynb>data table notebook</a>'\n",
              "            + ' to learn more about interactive tables.';\n",
              "          element.innerHTML = '';\n",
              "          dataTable['output_type'] = 'display_data';\n",
              "          await google.colab.output.renderOutput(dataTable, element);\n",
              "          const docLink = document.createElement('div');\n",
              "          docLink.innerHTML = docLinkHtml;\n",
              "          element.appendChild(docLink);\n",
              "        }\n",
              "      </script>\n",
              "    </div>\n",
              "  </div>\n",
              "  "
            ],
            "text/plain": [
              "   survived  pclass     sex   age  sibsp  parch embarked deck\n",
              "0         0       3    male  22.0      1      0        S  NaN\n",
              "1         1       1  female  38.0      1      0        C    C\n",
              "2         1       3  female  26.0      0      0        S  NaN"
            ]
          },
          "execution_count": 275,
          "metadata": {},
          "output_type": "execute_result"
        }
      ],
      "source": [
        "df = df[['survived', 'pclass', 'sex', 'age', 'sibsp', 'parch', 'embarked', 'deck']]\n",
        "df.head(3)"
      ]
    },
    {
      "cell_type": "markdown",
      "metadata": {
        "id": "Qx9vjeQMrh8q"
      },
      "source": [
        "- 결측치 처리"
      ]
    },
    {
      "cell_type": "code",
      "execution_count": 276,
      "metadata": {
        "colab": {
          "base_uri": "https://localhost:8080/"
        },
        "id": "1wFjmJoHrq8Q",
        "outputId": "06b03a93-406f-4b06-bb57-7b35b40e6213"
      },
      "outputs": [
        {
          "data": {
            "text/plain": [
              "survived      0\n",
              "pclass        0\n",
              "sex           0\n",
              "age         177\n",
              "sibsp         0\n",
              "parch         0\n",
              "embarked      2\n",
              "deck        688\n",
              "dtype: int64"
            ]
          },
          "execution_count": 276,
          "metadata": {},
          "output_type": "execute_result"
        }
      ],
      "source": [
        "df.isna().sum()"
      ]
    },
    {
      "cell_type": "code",
      "execution_count": 277,
      "metadata": {
        "id": "nI_h06qVrs3u"
      },
      "outputs": [],
      "source": [
        "# age는 age의 평균으로 대체\n",
        "df.age.fillna(df.age.mean(), inplace=True)"
      ]
    },
    {
      "cell_type": "code",
      "execution_count": 278,
      "metadata": {
        "colab": {
          "base_uri": "https://localhost:8080/"
        },
        "id": "oeV6Ceofr8_M",
        "outputId": "6a305ee1-f169-4a97-9243-2b715186123f"
      },
      "outputs": [
        {
          "data": {
            "text/plain": [
              "S    644\n",
              "C    168\n",
              "Q     77\n",
              "Name: embarked, dtype: int64"
            ]
          },
          "execution_count": 278,
          "metadata": {},
          "output_type": "execute_result"
        }
      ],
      "source": [
        "# embarked 컬럼은 최빈값으로 대체\n",
        "df.embarked.value_counts()"
      ]
    },
    {
      "cell_type": "code",
      "execution_count": 279,
      "metadata": {
        "id": "4Q2sfjfBsGju"
      },
      "outputs": [],
      "source": [
        "df.embarked.fillna('S', inplace=True)"
      ]
    },
    {
      "cell_type": "code",
      "execution_count": 280,
      "metadata": {
        "id": "0DX_x6SNsMWd"
      },
      "outputs": [],
      "source": [
        "# deck 컬럼은 삭제\n",
        "df.drop(columns=['deck'], inplace=True)"
      ]
    },
    {
      "cell_type": "code",
      "execution_count": 281,
      "metadata": {
        "colab": {
          "base_uri": "https://localhost:8080/",
          "height": 143
        },
        "id": "5CSC5vK5sUla",
        "outputId": "aab81a02-c0d7-44bb-be61-ff5fd88616d4"
      },
      "outputs": [
        {
          "data": {
            "text/html": [
              "\n",
              "  <div id=\"df-83face85-3571-4cdd-baf2-d2284c2271b6\">\n",
              "    <div class=\"colab-df-container\">\n",
              "      <div>\n",
              "<style scoped>\n",
              "    .dataframe tbody tr th:only-of-type {\n",
              "        vertical-align: middle;\n",
              "    }\n",
              "\n",
              "    .dataframe tbody tr th {\n",
              "        vertical-align: top;\n",
              "    }\n",
              "\n",
              "    .dataframe thead th {\n",
              "        text-align: right;\n",
              "    }\n",
              "</style>\n",
              "<table border=\"1\" class=\"dataframe\">\n",
              "  <thead>\n",
              "    <tr style=\"text-align: right;\">\n",
              "      <th></th>\n",
              "      <th>survived</th>\n",
              "      <th>pclass</th>\n",
              "      <th>sex</th>\n",
              "      <th>age</th>\n",
              "      <th>sibsp</th>\n",
              "      <th>parch</th>\n",
              "      <th>embarked</th>\n",
              "    </tr>\n",
              "  </thead>\n",
              "  <tbody>\n",
              "    <tr>\n",
              "      <th>0</th>\n",
              "      <td>0</td>\n",
              "      <td>3</td>\n",
              "      <td>male</td>\n",
              "      <td>22.0</td>\n",
              "      <td>1</td>\n",
              "      <td>0</td>\n",
              "      <td>S</td>\n",
              "    </tr>\n",
              "    <tr>\n",
              "      <th>1</th>\n",
              "      <td>1</td>\n",
              "      <td>1</td>\n",
              "      <td>female</td>\n",
              "      <td>38.0</td>\n",
              "      <td>1</td>\n",
              "      <td>0</td>\n",
              "      <td>C</td>\n",
              "    </tr>\n",
              "    <tr>\n",
              "      <th>2</th>\n",
              "      <td>1</td>\n",
              "      <td>3</td>\n",
              "      <td>female</td>\n",
              "      <td>26.0</td>\n",
              "      <td>0</td>\n",
              "      <td>0</td>\n",
              "      <td>S</td>\n",
              "    </tr>\n",
              "  </tbody>\n",
              "</table>\n",
              "</div>\n",
              "      <button class=\"colab-df-convert\" onclick=\"convertToInteractive('df-83face85-3571-4cdd-baf2-d2284c2271b6')\"\n",
              "              title=\"Convert this dataframe to an interactive table.\"\n",
              "              style=\"display:none;\">\n",
              "        \n",
              "  <svg xmlns=\"http://www.w3.org/2000/svg\" height=\"24px\"viewBox=\"0 0 24 24\"\n",
              "       width=\"24px\">\n",
              "    <path d=\"M0 0h24v24H0V0z\" fill=\"none\"/>\n",
              "    <path d=\"M18.56 5.44l.94 2.06.94-2.06 2.06-.94-2.06-.94-.94-2.06-.94 2.06-2.06.94zm-11 1L8.5 8.5l.94-2.06 2.06-.94-2.06-.94L8.5 2.5l-.94 2.06-2.06.94zm10 10l.94 2.06.94-2.06 2.06-.94-2.06-.94-.94-2.06-.94 2.06-2.06.94z\"/><path d=\"M17.41 7.96l-1.37-1.37c-.4-.4-.92-.59-1.43-.59-.52 0-1.04.2-1.43.59L10.3 9.45l-7.72 7.72c-.78.78-.78 2.05 0 2.83L4 21.41c.39.39.9.59 1.41.59.51 0 1.02-.2 1.41-.59l7.78-7.78 2.81-2.81c.8-.78.8-2.07 0-2.86zM5.41 20L4 18.59l7.72-7.72 1.47 1.35L5.41 20z\"/>\n",
              "  </svg>\n",
              "      </button>\n",
              "      \n",
              "  <style>\n",
              "    .colab-df-container {\n",
              "      display:flex;\n",
              "      flex-wrap:wrap;\n",
              "      gap: 12px;\n",
              "    }\n",
              "\n",
              "    .colab-df-convert {\n",
              "      background-color: #E8F0FE;\n",
              "      border: none;\n",
              "      border-radius: 50%;\n",
              "      cursor: pointer;\n",
              "      display: none;\n",
              "      fill: #1967D2;\n",
              "      height: 32px;\n",
              "      padding: 0 0 0 0;\n",
              "      width: 32px;\n",
              "    }\n",
              "\n",
              "    .colab-df-convert:hover {\n",
              "      background-color: #E2EBFA;\n",
              "      box-shadow: 0px 1px 2px rgba(60, 64, 67, 0.3), 0px 1px 3px 1px rgba(60, 64, 67, 0.15);\n",
              "      fill: #174EA6;\n",
              "    }\n",
              "\n",
              "    [theme=dark] .colab-df-convert {\n",
              "      background-color: #3B4455;\n",
              "      fill: #D2E3FC;\n",
              "    }\n",
              "\n",
              "    [theme=dark] .colab-df-convert:hover {\n",
              "      background-color: #434B5C;\n",
              "      box-shadow: 0px 1px 3px 1px rgba(0, 0, 0, 0.15);\n",
              "      filter: drop-shadow(0px 1px 2px rgba(0, 0, 0, 0.3));\n",
              "      fill: #FFFFFF;\n",
              "    }\n",
              "  </style>\n",
              "\n",
              "      <script>\n",
              "        const buttonEl =\n",
              "          document.querySelector('#df-83face85-3571-4cdd-baf2-d2284c2271b6 button.colab-df-convert');\n",
              "        buttonEl.style.display =\n",
              "          google.colab.kernel.accessAllowed ? 'block' : 'none';\n",
              "\n",
              "        async function convertToInteractive(key) {\n",
              "          const element = document.querySelector('#df-83face85-3571-4cdd-baf2-d2284c2271b6');\n",
              "          const dataTable =\n",
              "            await google.colab.kernel.invokeFunction('convertToInteractive',\n",
              "                                                     [key], {});\n",
              "          if (!dataTable) return;\n",
              "\n",
              "          const docLinkHtml = 'Like what you see? Visit the ' +\n",
              "            '<a target=\"_blank\" href=https://colab.research.google.com/notebooks/data_table.ipynb>data table notebook</a>'\n",
              "            + ' to learn more about interactive tables.';\n",
              "          element.innerHTML = '';\n",
              "          dataTable['output_type'] = 'display_data';\n",
              "          await google.colab.output.renderOutput(dataTable, element);\n",
              "          const docLink = document.createElement('div');\n",
              "          docLink.innerHTML = docLinkHtml;\n",
              "          element.appendChild(docLink);\n",
              "        }\n",
              "      </script>\n",
              "    </div>\n",
              "  </div>\n",
              "  "
            ],
            "text/plain": [
              "   survived  pclass     sex   age  sibsp  parch embarked\n",
              "0         0       3    male  22.0      1      0        S\n",
              "1         1       1  female  38.0      1      0        C\n",
              "2         1       3  female  26.0      0      0        S"
            ]
          },
          "execution_count": 281,
          "metadata": {},
          "output_type": "execute_result"
        }
      ],
      "source": [
        "df.head(3)"
      ]
    },
    {
      "cell_type": "markdown",
      "metadata": {
        "id": "6En_qimisZCb"
      },
      "source": [
        "- 카테고리 값을 숫자로 변환하기"
      ]
    },
    {
      "cell_type": "code",
      "execution_count": 282,
      "metadata": {
        "colab": {
          "base_uri": "https://localhost:8080/",
          "height": 143
        },
        "id": "3RI8Zw78sj9x",
        "outputId": "6e49c08b-6e6c-4b43-a93d-a0b91d369b14"
      },
      "outputs": [
        {
          "data": {
            "text/html": [
              "\n",
              "  <div id=\"df-faed1780-9c79-4d93-bd84-e13fd4f8b174\">\n",
              "    <div class=\"colab-df-container\">\n",
              "      <div>\n",
              "<style scoped>\n",
              "    .dataframe tbody tr th:only-of-type {\n",
              "        vertical-align: middle;\n",
              "    }\n",
              "\n",
              "    .dataframe tbody tr th {\n",
              "        vertical-align: top;\n",
              "    }\n",
              "\n",
              "    .dataframe thead th {\n",
              "        text-align: right;\n",
              "    }\n",
              "</style>\n",
              "<table border=\"1\" class=\"dataframe\">\n",
              "  <thead>\n",
              "    <tr style=\"text-align: right;\">\n",
              "      <th></th>\n",
              "      <th>survived</th>\n",
              "      <th>pclass</th>\n",
              "      <th>sex</th>\n",
              "      <th>age</th>\n",
              "      <th>sibsp</th>\n",
              "      <th>parch</th>\n",
              "      <th>embarked</th>\n",
              "    </tr>\n",
              "  </thead>\n",
              "  <tbody>\n",
              "    <tr>\n",
              "      <th>0</th>\n",
              "      <td>0</td>\n",
              "      <td>3</td>\n",
              "      <td>1</td>\n",
              "      <td>22.0</td>\n",
              "      <td>1</td>\n",
              "      <td>0</td>\n",
              "      <td>2</td>\n",
              "    </tr>\n",
              "    <tr>\n",
              "      <th>1</th>\n",
              "      <td>1</td>\n",
              "      <td>1</td>\n",
              "      <td>0</td>\n",
              "      <td>38.0</td>\n",
              "      <td>1</td>\n",
              "      <td>0</td>\n",
              "      <td>0</td>\n",
              "    </tr>\n",
              "    <tr>\n",
              "      <th>2</th>\n",
              "      <td>1</td>\n",
              "      <td>3</td>\n",
              "      <td>0</td>\n",
              "      <td>26.0</td>\n",
              "      <td>0</td>\n",
              "      <td>0</td>\n",
              "      <td>2</td>\n",
              "    </tr>\n",
              "  </tbody>\n",
              "</table>\n",
              "</div>\n",
              "      <button class=\"colab-df-convert\" onclick=\"convertToInteractive('df-faed1780-9c79-4d93-bd84-e13fd4f8b174')\"\n",
              "              title=\"Convert this dataframe to an interactive table.\"\n",
              "              style=\"display:none;\">\n",
              "        \n",
              "  <svg xmlns=\"http://www.w3.org/2000/svg\" height=\"24px\"viewBox=\"0 0 24 24\"\n",
              "       width=\"24px\">\n",
              "    <path d=\"M0 0h24v24H0V0z\" fill=\"none\"/>\n",
              "    <path d=\"M18.56 5.44l.94 2.06.94-2.06 2.06-.94-2.06-.94-.94-2.06-.94 2.06-2.06.94zm-11 1L8.5 8.5l.94-2.06 2.06-.94-2.06-.94L8.5 2.5l-.94 2.06-2.06.94zm10 10l.94 2.06.94-2.06 2.06-.94-2.06-.94-.94-2.06-.94 2.06-2.06.94z\"/><path d=\"M17.41 7.96l-1.37-1.37c-.4-.4-.92-.59-1.43-.59-.52 0-1.04.2-1.43.59L10.3 9.45l-7.72 7.72c-.78.78-.78 2.05 0 2.83L4 21.41c.39.39.9.59 1.41.59.51 0 1.02-.2 1.41-.59l7.78-7.78 2.81-2.81c.8-.78.8-2.07 0-2.86zM5.41 20L4 18.59l7.72-7.72 1.47 1.35L5.41 20z\"/>\n",
              "  </svg>\n",
              "      </button>\n",
              "      \n",
              "  <style>\n",
              "    .colab-df-container {\n",
              "      display:flex;\n",
              "      flex-wrap:wrap;\n",
              "      gap: 12px;\n",
              "    }\n",
              "\n",
              "    .colab-df-convert {\n",
              "      background-color: #E8F0FE;\n",
              "      border: none;\n",
              "      border-radius: 50%;\n",
              "      cursor: pointer;\n",
              "      display: none;\n",
              "      fill: #1967D2;\n",
              "      height: 32px;\n",
              "      padding: 0 0 0 0;\n",
              "      width: 32px;\n",
              "    }\n",
              "\n",
              "    .colab-df-convert:hover {\n",
              "      background-color: #E2EBFA;\n",
              "      box-shadow: 0px 1px 2px rgba(60, 64, 67, 0.3), 0px 1px 3px 1px rgba(60, 64, 67, 0.15);\n",
              "      fill: #174EA6;\n",
              "    }\n",
              "\n",
              "    [theme=dark] .colab-df-convert {\n",
              "      background-color: #3B4455;\n",
              "      fill: #D2E3FC;\n",
              "    }\n",
              "\n",
              "    [theme=dark] .colab-df-convert:hover {\n",
              "      background-color: #434B5C;\n",
              "      box-shadow: 0px 1px 3px 1px rgba(0, 0, 0, 0.15);\n",
              "      filter: drop-shadow(0px 1px 2px rgba(0, 0, 0, 0.3));\n",
              "      fill: #FFFFFF;\n",
              "    }\n",
              "  </style>\n",
              "\n",
              "      <script>\n",
              "        const buttonEl =\n",
              "          document.querySelector('#df-faed1780-9c79-4d93-bd84-e13fd4f8b174 button.colab-df-convert');\n",
              "        buttonEl.style.display =\n",
              "          google.colab.kernel.accessAllowed ? 'block' : 'none';\n",
              "\n",
              "        async function convertToInteractive(key) {\n",
              "          const element = document.querySelector('#df-faed1780-9c79-4d93-bd84-e13fd4f8b174');\n",
              "          const dataTable =\n",
              "            await google.colab.kernel.invokeFunction('convertToInteractive',\n",
              "                                                     [key], {});\n",
              "          if (!dataTable) return;\n",
              "\n",
              "          const docLinkHtml = 'Like what you see? Visit the ' +\n",
              "            '<a target=\"_blank\" href=https://colab.research.google.com/notebooks/data_table.ipynb>data table notebook</a>'\n",
              "            + ' to learn more about interactive tables.';\n",
              "          element.innerHTML = '';\n",
              "          dataTable['output_type'] = 'display_data';\n",
              "          await google.colab.output.renderOutput(dataTable, element);\n",
              "          const docLink = document.createElement('div');\n",
              "          docLink.innerHTML = docLinkHtml;\n",
              "          element.appendChild(docLink);\n",
              "        }\n",
              "      </script>\n",
              "    </div>\n",
              "  </div>\n",
              "  "
            ],
            "text/plain": [
              "   survived  pclass  sex   age  sibsp  parch  embarked\n",
              "0         0       3    1  22.0      1      0         2\n",
              "1         1       1    0  38.0      1      0         0\n",
              "2         1       3    0  26.0      0      0         2"
            ]
          },
          "execution_count": 282,
          "metadata": {},
          "output_type": "execute_result"
        }
      ],
      "source": [
        "from sklearn.preprocessing import LabelEncoder\n",
        "le = LabelEncoder()\n",
        "df.sex = le.fit_transform(df.sex)               # 0: female, 1: male\n",
        "df.embarked = le.fit_transform(df.embarked)     # 0: C, 1: Q, 2: S\n",
        "df.head(3)"
      ]
    },
    {
      "cell_type": "code",
      "execution_count": 283,
      "metadata": {
        "colab": {
          "base_uri": "https://localhost:8080/"
        },
        "id": "Atnq8IUGx7TH",
        "outputId": "b4c0ee98-8700-4c3a-c864-cd36a901ce57"
      },
      "outputs": [
        {
          "data": {
            "text/plain": [
              "survived    0\n",
              "pclass      0\n",
              "sex         0\n",
              "age         0\n",
              "sibsp       0\n",
              "parch       0\n",
              "embarked    0\n",
              "dtype: int64"
            ]
          },
          "execution_count": 283,
          "metadata": {},
          "output_type": "execute_result"
        }
      ],
      "source": [
        "df.isna().sum()"
      ]
    },
    {
      "cell_type": "markdown",
      "metadata": {
        "id": "2wQhvXWuuXB-"
      },
      "source": [
        "### 2. Train/Test dataset 분리"
      ]
    },
    {
      "cell_type": "code",
      "execution_count": 284,
      "metadata": {
        "id": "PXNGzuYB162i"
      },
      "outputs": [],
      "source": [
        "X = df.iloc[:,1:].values\n",
        "y = df.survived.values"
      ]
    },
    {
      "cell_type": "code",
      "execution_count": 285,
      "metadata": {
        "colab": {
          "base_uri": "https://localhost:8080/"
        },
        "id": "fZl-mBVEuzSu",
        "outputId": "512fd4ff-3378-4867-df3f-8a33019ed043"
      },
      "outputs": [
        {
          "data": {
            "text/plain": [
              "((712, 6), (179, 6), (712,), (179,))"
            ]
          },
          "execution_count": 285,
          "metadata": {},
          "output_type": "execute_result"
        }
      ],
      "source": [
        "from sklearn.model_selection import train_test_split\n",
        "X_train, X_test, y_train, y_test = train_test_split(\n",
        "   X, y, stratify=y, test_size=0.2, random_state=2022\n",
        ")\n",
        "\n",
        "X_train.shape, X_test.shape, y_train.shape, y_test.shape"
      ]
    },
    {
      "cell_type": "code",
      "execution_count": 286,
      "metadata": {
        "colab": {
          "base_uri": "https://localhost:8080/"
        },
        "id": "F24NL_ZWPinC",
        "outputId": "4f3874d1-b631-4ebe-e900-75e56e09304d"
      },
      "outputs": [
        {
          "data": {
            "text/plain": [
              "(891, 6)"
            ]
          },
          "execution_count": 286,
          "metadata": {},
          "output_type": "execute_result"
        }
      ],
      "source": [
        "from sklearn.preprocessing import StandardScaler\n",
        "X_scaled = StandardScaler().fit_transform(X)\n",
        "X_scaled.shape"
      ]
    },
    {
      "cell_type": "markdown",
      "metadata": {
        "id": "k5Rsxea9wIvI"
      },
      "source": [
        "### 3. 모델 정의/설정"
      ]
    },
    {
      "cell_type": "code",
      "execution_count": 287,
      "metadata": {
        "id": "Pe8yROB9wi-e"
      },
      "outputs": [],
      "source": [
        "from tensorflow.keras.models import Sequential\n",
        "from tensorflow.keras.layers import Dense"
      ]
    },
    {
      "cell_type": "code",
      "execution_count": 215,
      "metadata": {
        "id": "wG2FCDYqMJyE"
      },
      "outputs": [],
      "source": [
        "# 모델저장\n",
        "import os\n",
        "if not os.path.exists('model'):\n",
        "    os.mkdir('model')"
      ]
    },
    {
      "cell_type": "code",
      "execution_count": 216,
      "metadata": {
        "id": "jp6kmhvbMP5S"
      },
      "outputs": [],
      "source": [
        "model_path = 'model/best_titanic.h5'"
      ]
    },
    {
      "cell_type": "code",
      "execution_count": 291,
      "metadata": {
        "id": "9uJHrr4JMSKB"
      },
      "outputs": [],
      "source": [
        "# 모델 학습 / 저장\n",
        "from tensorflow.keras.callbacks import ModelCheckpoint\n",
        "checkpoint = ModelCheckpoint(model_path, monitor='val_loss', verbose=1, save_best_only=True)"
      ]
    },
    {
      "cell_type": "markdown",
      "metadata": {
        "id": "akBU6xRhwrpA"
      },
      "source": [
        "- model1: 은닉층 2개"
      ]
    },
    {
      "cell_type": "code",
      "execution_count": 289,
      "metadata": {
        "colab": {
          "base_uri": "https://localhost:8080/"
        },
        "id": "Sw26sH-bxv4I",
        "outputId": "c3b4b00e-2ee9-4e84-a6ff-8796d1fd5b52"
      },
      "outputs": [
        {
          "name": "stdout",
          "output_type": "stream",
          "text": [
            "Model: \"sequential_48\"\n",
            "_________________________________________________________________\n",
            " Layer (type)                Output Shape              Param #   \n",
            "=================================================================\n",
            " dense_240 (Dense)           (None, 100)               700       \n",
            "                                                                 \n",
            " dense_241 (Dense)           (None, 80)                8080      \n",
            "                                                                 \n",
            " dense_242 (Dense)           (None, 1)                 81        \n",
            "                                                                 \n",
            "=================================================================\n",
            "Total params: 8,861\n",
            "Trainable params: 8,861\n",
            "Non-trainable params: 0\n",
            "_________________________________________________________________\n"
          ]
        }
      ],
      "source": [
        "model1 = Sequential([ \n",
        "    Dense(100, input_dim=6, activation='relu'),\n",
        "    Dense(80, activation='relu'),\n",
        "    Dense(1, activation='sigmoid')\n",
        "])\n",
        "model1.summary()"
      ]
    },
    {
      "cell_type": "code",
      "execution_count": 290,
      "metadata": {
        "id": "Nb9K4scl5iyW"
      },
      "outputs": [],
      "source": [
        "model1.compile(optimizer='adam', loss='binary_crossentropy', metrics=['accuracy'])"
      ]
    },
    {
      "cell_type": "code",
      "execution_count": 292,
      "metadata": {
        "colab": {
          "base_uri": "https://localhost:8080/"
        },
        "id": "3wFpyjmCMSEj",
        "outputId": "066f8433-a15b-4838-828d-406c750b516d"
      },
      "outputs": [
        {
          "name": "stdout",
          "output_type": "stream",
          "text": [
            "\n",
            "Epoch 00001: val_loss improved from inf to 0.67782, saving model to model/titanic_two.h5\n",
            "\n",
            "Epoch 00002: val_loss did not improve from 0.67782\n",
            "\n",
            "Epoch 00003: val_loss improved from 0.67782 to 0.63400, saving model to model/titanic_two.h5\n",
            "\n",
            "Epoch 00004: val_loss improved from 0.63400 to 0.62302, saving model to model/titanic_two.h5\n",
            "\n",
            "Epoch 00005: val_loss did not improve from 0.62302\n",
            "\n",
            "Epoch 00006: val_loss improved from 0.62302 to 0.60610, saving model to model/titanic_two.h5\n",
            "\n",
            "Epoch 00007: val_loss did not improve from 0.60610\n",
            "\n",
            "Epoch 00008: val_loss improved from 0.60610 to 0.58731, saving model to model/titanic_two.h5\n",
            "\n",
            "Epoch 00009: val_loss did not improve from 0.58731\n",
            "\n",
            "Epoch 00010: val_loss improved from 0.58731 to 0.58236, saving model to model/titanic_two.h5\n",
            "\n",
            "Epoch 00011: val_loss improved from 0.58236 to 0.56395, saving model to model/titanic_two.h5\n",
            "\n",
            "Epoch 00012: val_loss improved from 0.56395 to 0.56295, saving model to model/titanic_two.h5\n",
            "\n",
            "Epoch 00013: val_loss improved from 0.56295 to 0.56003, saving model to model/titanic_two.h5\n",
            "\n",
            "Epoch 00014: val_loss improved from 0.56003 to 0.54345, saving model to model/titanic_two.h5\n",
            "\n",
            "Epoch 00015: val_loss did not improve from 0.54345\n",
            "\n",
            "Epoch 00016: val_loss improved from 0.54345 to 0.53306, saving model to model/titanic_two.h5\n",
            "\n",
            "Epoch 00017: val_loss did not improve from 0.53306\n",
            "\n",
            "Epoch 00018: val_loss improved from 0.53306 to 0.52451, saving model to model/titanic_two.h5\n",
            "\n",
            "Epoch 00019: val_loss did not improve from 0.52451\n",
            "\n",
            "Epoch 00020: val_loss did not improve from 0.52451\n",
            "\n",
            "Epoch 00021: val_loss did not improve from 0.52451\n",
            "\n",
            "Epoch 00022: val_loss improved from 0.52451 to 0.50786, saving model to model/titanic_two.h5\n",
            "\n",
            "Epoch 00023: val_loss did not improve from 0.50786\n",
            "\n",
            "Epoch 00024: val_loss did not improve from 0.50786\n",
            "\n",
            "Epoch 00025: val_loss did not improve from 0.50786\n",
            "\n",
            "Epoch 00026: val_loss did not improve from 0.50786\n",
            "\n",
            "Epoch 00027: val_loss did not improve from 0.50786\n",
            "\n",
            "Epoch 00028: val_loss improved from 0.50786 to 0.49669, saving model to model/titanic_two.h5\n",
            "\n",
            "Epoch 00029: val_loss did not improve from 0.49669\n",
            "\n",
            "Epoch 00030: val_loss did not improve from 0.49669\n",
            "\n",
            "Epoch 00031: val_loss did not improve from 0.49669\n",
            "\n",
            "Epoch 00032: val_loss improved from 0.49669 to 0.49164, saving model to model/titanic_two.h5\n",
            "\n",
            "Epoch 00033: val_loss did not improve from 0.49164\n",
            "\n",
            "Epoch 00034: val_loss did not improve from 0.49164\n",
            "\n",
            "Epoch 00035: val_loss did not improve from 0.49164\n",
            "\n",
            "Epoch 00036: val_loss improved from 0.49164 to 0.48933, saving model to model/titanic_two.h5\n",
            "\n",
            "Epoch 00037: val_loss did not improve from 0.48933\n",
            "\n",
            "Epoch 00038: val_loss did not improve from 0.48933\n",
            "\n",
            "Epoch 00039: val_loss did not improve from 0.48933\n",
            "\n",
            "Epoch 00040: val_loss did not improve from 0.48933\n",
            "\n",
            "Epoch 00041: val_loss did not improve from 0.48933\n",
            "\n",
            "Epoch 00042: val_loss did not improve from 0.48933\n",
            "\n",
            "Epoch 00043: val_loss did not improve from 0.48933\n",
            "\n",
            "Epoch 00044: val_loss did not improve from 0.48933\n",
            "\n",
            "Epoch 00045: val_loss did not improve from 0.48933\n",
            "\n",
            "Epoch 00046: val_loss did not improve from 0.48933\n",
            "\n",
            "Epoch 00047: val_loss did not improve from 0.48933\n",
            "\n",
            "Epoch 00048: val_loss did not improve from 0.48933\n",
            "\n",
            "Epoch 00049: val_loss did not improve from 0.48933\n",
            "\n",
            "Epoch 00050: val_loss did not improve from 0.48933\n",
            "\n",
            "Epoch 00051: val_loss improved from 0.48933 to 0.48740, saving model to model/titanic_two.h5\n",
            "\n",
            "Epoch 00052: val_loss did not improve from 0.48740\n",
            "\n",
            "Epoch 00053: val_loss did not improve from 0.48740\n",
            "\n",
            "Epoch 00054: val_loss did not improve from 0.48740\n",
            "\n",
            "Epoch 00055: val_loss did not improve from 0.48740\n",
            "\n",
            "Epoch 00056: val_loss did not improve from 0.48740\n",
            "\n",
            "Epoch 00057: val_loss did not improve from 0.48740\n",
            "\n",
            "Epoch 00058: val_loss did not improve from 0.48740\n",
            "\n",
            "Epoch 00059: val_loss did not improve from 0.48740\n",
            "\n",
            "Epoch 00060: val_loss did not improve from 0.48740\n",
            "\n",
            "Epoch 00061: val_loss did not improve from 0.48740\n",
            "\n",
            "Epoch 00062: val_loss did not improve from 0.48740\n",
            "\n",
            "Epoch 00063: val_loss did not improve from 0.48740\n",
            "\n",
            "Epoch 00064: val_loss did not improve from 0.48740\n",
            "\n",
            "Epoch 00065: val_loss did not improve from 0.48740\n",
            "\n",
            "Epoch 00066: val_loss did not improve from 0.48740\n",
            "\n",
            "Epoch 00067: val_loss did not improve from 0.48740\n",
            "\n",
            "Epoch 00068: val_loss did not improve from 0.48740\n",
            "\n",
            "Epoch 00069: val_loss did not improve from 0.48740\n",
            "\n",
            "Epoch 00070: val_loss did not improve from 0.48740\n",
            "\n",
            "Epoch 00071: val_loss did not improve from 0.48740\n",
            "\n",
            "Epoch 00072: val_loss did not improve from 0.48740\n",
            "\n",
            "Epoch 00073: val_loss did not improve from 0.48740\n",
            "\n",
            "Epoch 00074: val_loss did not improve from 0.48740\n",
            "\n",
            "Epoch 00075: val_loss did not improve from 0.48740\n",
            "\n",
            "Epoch 00076: val_loss did not improve from 0.48740\n",
            "\n",
            "Epoch 00077: val_loss did not improve from 0.48740\n",
            "\n",
            "Epoch 00078: val_loss did not improve from 0.48740\n",
            "\n",
            "Epoch 00079: val_loss did not improve from 0.48740\n",
            "\n",
            "Epoch 00080: val_loss did not improve from 0.48740\n",
            "\n",
            "Epoch 00081: val_loss did not improve from 0.48740\n",
            "\n",
            "Epoch 00082: val_loss did not improve from 0.48740\n",
            "\n",
            "Epoch 00083: val_loss did not improve from 0.48740\n",
            "\n",
            "Epoch 00084: val_loss did not improve from 0.48740\n",
            "\n",
            "Epoch 00085: val_loss did not improve from 0.48740\n",
            "\n",
            "Epoch 00086: val_loss did not improve from 0.48740\n",
            "\n",
            "Epoch 00087: val_loss did not improve from 0.48740\n",
            "\n",
            "Epoch 00088: val_loss did not improve from 0.48740\n",
            "\n",
            "Epoch 00089: val_loss did not improve from 0.48740\n",
            "\n",
            "Epoch 00090: val_loss did not improve from 0.48740\n",
            "\n",
            "Epoch 00091: val_loss did not improve from 0.48740\n",
            "\n",
            "Epoch 00092: val_loss did not improve from 0.48740\n",
            "\n",
            "Epoch 00093: val_loss did not improve from 0.48740\n",
            "\n",
            "Epoch 00094: val_loss did not improve from 0.48740\n",
            "\n",
            "Epoch 00095: val_loss did not improve from 0.48740\n",
            "\n",
            "Epoch 00096: val_loss did not improve from 0.48740\n",
            "\n",
            "Epoch 00097: val_loss did not improve from 0.48740\n",
            "\n",
            "Epoch 00098: val_loss did not improve from 0.48740\n",
            "\n",
            "Epoch 00099: val_loss did not improve from 0.48740\n",
            "\n",
            "Epoch 00100: val_loss did not improve from 0.48740\n",
            "6/6 [==============================] - 0s 2ms/step - loss: 0.4296 - accuracy: 0.8324\n"
          ]
        },
        {
          "data": {
            "text/plain": [
              "[0.4295872151851654, 0.832402229309082]"
            ]
          },
          "execution_count": 292,
          "metadata": {},
          "output_type": "execute_result"
        }
      ],
      "source": [
        "history = model1.fit(X_train, y_train, validation_split=0.2, verbose=0,\n",
        "                     epochs=100, batch_size=100,\n",
        "                     callbacks=[checkpoint])\n",
        "model1.evaluate(X_test, y_test)"
      ]
    },
    {
      "cell_type": "markdown",
      "metadata": {
        "id": "NgJD0WxACEwF"
      },
      "source": [
        "- model2: 은닉층 4개"
      ]
    },
    {
      "cell_type": "code",
      "execution_count": 297,
      "metadata": {
        "colab": {
          "base_uri": "https://localhost:8080/"
        },
        "id": "htsz5DFcGpYN",
        "outputId": "726cef0f-7548-4756-dd9d-8bf46586c932"
      },
      "outputs": [
        {
          "name": "stdout",
          "output_type": "stream",
          "text": [
            "Model: \"sequential_49\"\n",
            "_________________________________________________________________\n",
            " Layer (type)                Output Shape              Param #   \n",
            "=================================================================\n",
            " dense_243 (Dense)           (None, 120)               840       \n",
            "                                                                 \n",
            " dense_244 (Dense)           (None, 100)               12100     \n",
            "                                                                 \n",
            " dense_245 (Dense)           (None, 100)               10100     \n",
            "                                                                 \n",
            " dense_246 (Dense)           (None, 80)                8080      \n",
            "                                                                 \n",
            " dense_247 (Dense)           (None, 1)                 81        \n",
            "                                                                 \n",
            "=================================================================\n",
            "Total params: 31,201\n",
            "Trainable params: 31,201\n",
            "Non-trainable params: 0\n",
            "_________________________________________________________________\n"
          ]
        }
      ],
      "source": [
        "model2 = Sequential([ \n",
        "    Dense(120, input_dim=6, activation='relu'),\n",
        "    Dense(100, activation='relu'),\n",
        "    Dense(100, activation='relu'),\n",
        "    Dense(80, activation='relu'),\n",
        "    Dense(1, activation='sigmoid')\n",
        "])\n",
        "model2.summary()"
      ]
    },
    {
      "cell_type": "code",
      "execution_count": 298,
      "metadata": {
        "id": "wKUQI9tKGviO"
      },
      "outputs": [],
      "source": [
        "model2.compile(optimizer='adam', loss='binary_crossentropy', metrics=['accuracy'])\n",
        "history2 = model2.fit(X_train, y_train, validation_split=0.2, verbose=0,\n",
        "                    epochs=100, batch_size=100)"
      ]
    },
    {
      "cell_type": "code",
      "execution_count": 299,
      "metadata": {
        "id": "vUa_UVHpMwWN"
      },
      "outputs": [],
      "source": [
        "from tensorflow.keras.callbacks import EarlyStopping\n",
        "early_stopping = EarlyStopping(patience=20)"
      ]
    },
    {
      "cell_type": "code",
      "execution_count": 300,
      "metadata": {
        "colab": {
          "base_uri": "https://localhost:8080/"
        },
        "id": "zKkPyuEMMzNH",
        "outputId": "bde3c346-195c-4201-ea49-332104be861d"
      },
      "outputs": [
        {
          "name": "stdout",
          "output_type": "stream",
          "text": [
            "Epoch 1/200\n",
            "\n",
            "Epoch 00001: val_loss did not improve from 0.48740\n",
            "3/3 - 0s - loss: 0.3589 - accuracy: 0.8506 - val_loss: 0.8590 - val_accuracy: 0.8042 - 67ms/epoch - 22ms/step\n",
            "Epoch 2/200\n",
            "\n",
            "Epoch 00002: val_loss did not improve from 0.48740\n",
            "3/3 - 0s - loss: 0.3564 - accuracy: 0.8506 - val_loss: 0.8641 - val_accuracy: 0.7972 - 31ms/epoch - 10ms/step\n",
            "Epoch 3/200\n",
            "\n",
            "Epoch 00003: val_loss did not improve from 0.48740\n",
            "3/3 - 0s - loss: 0.3590 - accuracy: 0.8541 - val_loss: 0.8522 - val_accuracy: 0.7902 - 33ms/epoch - 11ms/step\n",
            "Epoch 4/200\n",
            "\n",
            "Epoch 00004: val_loss did not improve from 0.48740\n",
            "3/3 - 0s - loss: 0.3568 - accuracy: 0.8559 - val_loss: 0.8647 - val_accuracy: 0.7972 - 39ms/epoch - 13ms/step\n",
            "Epoch 5/200\n",
            "\n",
            "Epoch 00005: val_loss did not improve from 0.48740\n",
            "3/3 - 0s - loss: 0.3545 - accuracy: 0.8506 - val_loss: 0.8674 - val_accuracy: 0.7972 - 39ms/epoch - 13ms/step\n",
            "Epoch 6/200\n",
            "\n",
            "Epoch 00006: val_loss did not improve from 0.48740\n",
            "3/3 - 0s - loss: 0.3601 - accuracy: 0.8506 - val_loss: 0.8796 - val_accuracy: 0.7972 - 46ms/epoch - 15ms/step\n",
            "Epoch 7/200\n",
            "\n",
            "Epoch 00007: val_loss did not improve from 0.48740\n",
            "3/3 - 0s - loss: 0.3597 - accuracy: 0.8418 - val_loss: 0.8796 - val_accuracy: 0.7972 - 39ms/epoch - 13ms/step\n",
            "Epoch 8/200\n",
            "\n",
            "Epoch 00008: val_loss did not improve from 0.48740\n",
            "3/3 - 0s - loss: 0.3509 - accuracy: 0.8524 - val_loss: 0.8780 - val_accuracy: 0.7902 - 39ms/epoch - 13ms/step\n",
            "Epoch 9/200\n",
            "\n",
            "Epoch 00009: val_loss did not improve from 0.48740\n",
            "3/3 - 0s - loss: 0.3597 - accuracy: 0.8453 - val_loss: 0.8860 - val_accuracy: 0.7902 - 37ms/epoch - 12ms/step\n",
            "Epoch 10/200\n",
            "\n",
            "Epoch 00010: val_loss did not improve from 0.48740\n",
            "3/3 - 0s - loss: 0.3726 - accuracy: 0.8436 - val_loss: 0.8719 - val_accuracy: 0.7972 - 57ms/epoch - 19ms/step\n",
            "Epoch 11/200\n",
            "\n",
            "Epoch 00011: val_loss did not improve from 0.48740\n",
            "3/3 - 0s - loss: 0.3709 - accuracy: 0.8278 - val_loss: 0.8703 - val_accuracy: 0.7902 - 36ms/epoch - 12ms/step\n",
            "Epoch 12/200\n",
            "\n",
            "Epoch 00012: val_loss did not improve from 0.48740\n",
            "3/3 - 0s - loss: 0.3849 - accuracy: 0.8348 - val_loss: 0.8819 - val_accuracy: 0.7972 - 36ms/epoch - 12ms/step\n",
            "Epoch 13/200\n",
            "\n",
            "Epoch 00013: val_loss did not improve from 0.48740\n",
            "3/3 - 0s - loss: 0.3654 - accuracy: 0.8436 - val_loss: 0.8849 - val_accuracy: 0.7762 - 42ms/epoch - 14ms/step\n",
            "Epoch 14/200\n",
            "\n",
            "Epoch 00014: val_loss did not improve from 0.48740\n",
            "3/3 - 0s - loss: 0.3742 - accuracy: 0.8436 - val_loss: 0.9027 - val_accuracy: 0.7902 - 39ms/epoch - 13ms/step\n",
            "Epoch 15/200\n",
            "\n",
            "Epoch 00015: val_loss did not improve from 0.48740\n",
            "3/3 - 0s - loss: 0.3735 - accuracy: 0.8401 - val_loss: 0.8863 - val_accuracy: 0.7972 - 37ms/epoch - 12ms/step\n",
            "Epoch 16/200\n",
            "\n",
            "Epoch 00016: val_loss did not improve from 0.48740\n",
            "3/3 - 0s - loss: 0.3611 - accuracy: 0.8471 - val_loss: 0.8894 - val_accuracy: 0.7902 - 42ms/epoch - 14ms/step\n",
            "Epoch 17/200\n",
            "\n",
            "Epoch 00017: val_loss did not improve from 0.48740\n",
            "3/3 - 0s - loss: 0.3606 - accuracy: 0.8471 - val_loss: 0.9079 - val_accuracy: 0.7902 - 35ms/epoch - 12ms/step\n",
            "Epoch 18/200\n",
            "\n",
            "Epoch 00018: val_loss did not improve from 0.48740\n",
            "3/3 - 0s - loss: 0.3593 - accuracy: 0.8489 - val_loss: 0.8977 - val_accuracy: 0.7972 - 70ms/epoch - 23ms/step\n",
            "Epoch 19/200\n",
            "\n",
            "Epoch 00019: val_loss did not improve from 0.48740\n",
            "3/3 - 0s - loss: 0.3551 - accuracy: 0.8524 - val_loss: 0.9043 - val_accuracy: 0.7972 - 44ms/epoch - 15ms/step\n",
            "Epoch 20/200\n",
            "\n",
            "Epoch 00020: val_loss did not improve from 0.48740\n",
            "3/3 - 0s - loss: 0.3541 - accuracy: 0.8489 - val_loss: 0.8954 - val_accuracy: 0.7972 - 37ms/epoch - 12ms/step\n",
            "Epoch 21/200\n",
            "\n",
            "Epoch 00021: val_loss did not improve from 0.48740\n",
            "3/3 - 0s - loss: 0.3515 - accuracy: 0.8524 - val_loss: 0.8973 - val_accuracy: 0.7972 - 44ms/epoch - 15ms/step\n",
            "Epoch 22/200\n",
            "\n",
            "Epoch 00022: val_loss did not improve from 0.48740\n",
            "3/3 - 0s - loss: 0.3552 - accuracy: 0.8576 - val_loss: 0.8972 - val_accuracy: 0.7972 - 32ms/epoch - 11ms/step\n",
            "Epoch 23/200\n",
            "\n",
            "Epoch 00023: val_loss did not improve from 0.48740\n",
            "3/3 - 0s - loss: 0.3519 - accuracy: 0.8541 - val_loss: 0.9001 - val_accuracy: 0.7972 - 39ms/epoch - 13ms/step\n"
          ]
        }
      ],
      "source": [
        "history2 = model2.fit(X_train, y_train, validation_split=0.2, verbose=2,\n",
        "                 epochs = 200, batch_size=200, \n",
        "                 callbacks = [checkpoint, early_stopping])"
      ]
    },
    {
      "cell_type": "code",
      "execution_count": 301,
      "metadata": {
        "colab": {
          "base_uri": "https://localhost:8080/"
        },
        "id": "Gla_ACO9NQ51",
        "outputId": "d3dfebed-1131-4f12-837f-64f4aaa9b00b"
      },
      "outputs": [
        {
          "name": "stdout",
          "output_type": "stream",
          "text": [
            "6/6 [==============================] - 0s 3ms/step - loss: 0.4089 - accuracy: 0.8268\n"
          ]
        },
        {
          "data": {
            "text/plain": [
              "[0.4088822305202484, 0.826815664768219]"
            ]
          },
          "execution_count": 301,
          "metadata": {},
          "output_type": "execute_result"
        }
      ],
      "source": [
        "model2.evaluate(X_test, y_test)"
      ]
    },
    {
      "cell_type": "markdown",
      "metadata": {
        "id": "Ijkhl1lHIzTn"
      },
      "source": [
        "- 은닉층 6개"
      ]
    },
    {
      "cell_type": "code",
      "execution_count": 306,
      "metadata": {
        "colab": {
          "base_uri": "https://localhost:8080/"
        },
        "id": "VTYMh_ioI3Da",
        "outputId": "e23bcaaa-87aa-46d6-f86c-31373a6f28ff"
      },
      "outputs": [
        {
          "name": "stdout",
          "output_type": "stream",
          "text": [
            "Model: \"sequential_51\"\n",
            "_________________________________________________________________\n",
            " Layer (type)                Output Shape              Param #   \n",
            "=================================================================\n",
            " dense_255 (Dense)           (None, 120)               840       \n",
            "                                                                 \n",
            " dense_256 (Dense)           (None, 120)               14520     \n",
            "                                                                 \n",
            " dense_257 (Dense)           (None, 100)               12100     \n",
            "                                                                 \n",
            " dense_258 (Dense)           (None, 100)               10100     \n",
            "                                                                 \n",
            " dense_259 (Dense)           (None, 60)                6060      \n",
            "                                                                 \n",
            " dense_260 (Dense)           (None, 48)                2928      \n",
            "                                                                 \n",
            " dense_261 (Dense)           (None, 1)                 49        \n",
            "                                                                 \n",
            "=================================================================\n",
            "Total params: 46,597\n",
            "Trainable params: 46,597\n",
            "Non-trainable params: 0\n",
            "_________________________________________________________________\n"
          ]
        }
      ],
      "source": [
        "model3 = Sequential([ \n",
        "    Dense(120, input_dim=6, activation='relu'),\n",
        "    Dense(120, activation='relu'),\n",
        "    Dense(100, activation='relu'),    \n",
        "    Dense(100, activation='relu'),\n",
        "    Dense(60, activation='relu'),\n",
        "    Dense(48, activation='relu'),\n",
        "    Dense(1, activation='sigmoid')\n",
        "])\n",
        "model3.summary()"
      ]
    },
    {
      "cell_type": "code",
      "execution_count": 307,
      "metadata": {
        "colab": {
          "base_uri": "https://localhost:8080/"
        },
        "id": "4BJPfadFKkN-",
        "outputId": "6bb43597-6885-4857-a0d6-c8e1076d5c94"
      },
      "outputs": [
        {
          "name": "stdout",
          "output_type": "stream",
          "text": [
            "6/6 [==============================] - 0s 3ms/step - loss: 0.4193 - accuracy: 0.8324\n"
          ]
        },
        {
          "data": {
            "text/plain": [
              "[0.41927123069763184, 0.832402229309082]"
            ]
          },
          "execution_count": 307,
          "metadata": {},
          "output_type": "execute_result"
        }
      ],
      "source": [
        "model3.compile(optimizer='adam', loss='binary_crossentropy', metrics=['accuracy'])\n",
        "history3 = model3.fit(X_train, y_train, validation_split=0.2, verbose=0,\n",
        "                    epochs=100, batch_size=100)\n",
        "model3.evaluate(X_test, y_test)"
      ]
    },
    {
      "cell_type": "code",
      "execution_count": 308,
      "metadata": {
        "id": "U9CTUCVkNVZ8"
      },
      "outputs": [],
      "source": [
        "from tensorflow.keras.callbacks import EarlyStopping\n",
        "early_stopping = EarlyStopping(patience=20)"
      ]
    },
    {
      "cell_type": "code",
      "execution_count": 309,
      "metadata": {
        "id": "CYk0sfgYNV9Z"
      },
      "outputs": [],
      "source": [
        "model_path = 'model/titanic_two.h5'\n",
        "checkpoint = ModelCheckpoint(\n",
        "    model_path, monitor='val_loss', verbose=0, save_best_only=True\n",
        ")"
      ]
    },
    {
      "cell_type": "code",
      "execution_count": 310,
      "metadata": {
        "colab": {
          "base_uri": "https://localhost:8080/"
        },
        "id": "pqX1oTNxNY-j",
        "outputId": "df0797dc-02f9-4499-866e-6decd87f8a45"
      },
      "outputs": [
        {
          "name": "stdout",
          "output_type": "stream",
          "text": [
            "Epoch 1/200\n",
            "3/3 - 0s - loss: 0.3577 - accuracy: 0.8524 - val_loss: 0.8201 - val_accuracy: 0.7902 - 108ms/epoch - 36ms/step\n",
            "Epoch 2/200\n",
            "3/3 - 0s - loss: 0.3573 - accuracy: 0.8524 - val_loss: 0.8288 - val_accuracy: 0.7902 - 37ms/epoch - 12ms/step\n",
            "Epoch 3/200\n",
            "3/3 - 0s - loss: 0.3559 - accuracy: 0.8489 - val_loss: 0.8453 - val_accuracy: 0.7972 - 39ms/epoch - 13ms/step\n",
            "Epoch 4/200\n",
            "3/3 - 0s - loss: 0.3553 - accuracy: 0.8471 - val_loss: 0.8408 - val_accuracy: 0.7902 - 39ms/epoch - 13ms/step\n",
            "Epoch 5/200\n",
            "3/3 - 0s - loss: 0.3548 - accuracy: 0.8489 - val_loss: 0.8449 - val_accuracy: 0.7972 - 43ms/epoch - 14ms/step\n",
            "Epoch 6/200\n",
            "3/3 - 0s - loss: 0.3535 - accuracy: 0.8506 - val_loss: 0.8460 - val_accuracy: 0.8042 - 47ms/epoch - 16ms/step\n",
            "Epoch 7/200\n",
            "3/3 - 0s - loss: 0.3569 - accuracy: 0.8506 - val_loss: 0.8484 - val_accuracy: 0.7832 - 41ms/epoch - 14ms/step\n",
            "Epoch 8/200\n",
            "3/3 - 0s - loss: 0.3541 - accuracy: 0.8541 - val_loss: 0.8571 - val_accuracy: 0.7902 - 39ms/epoch - 13ms/step\n",
            "Epoch 9/200\n",
            "3/3 - 0s - loss: 0.3547 - accuracy: 0.8506 - val_loss: 0.8663 - val_accuracy: 0.7972 - 43ms/epoch - 14ms/step\n",
            "Epoch 10/200\n",
            "3/3 - 0s - loss: 0.3601 - accuracy: 0.8418 - val_loss: 0.8651 - val_accuracy: 0.7972 - 40ms/epoch - 13ms/step\n",
            "Epoch 11/200\n",
            "3/3 - 0s - loss: 0.3609 - accuracy: 0.8453 - val_loss: 0.8702 - val_accuracy: 0.8042 - 41ms/epoch - 14ms/step\n",
            "Epoch 12/200\n",
            "3/3 - 0s - loss: 0.3693 - accuracy: 0.8453 - val_loss: 0.8834 - val_accuracy: 0.7972 - 42ms/epoch - 14ms/step\n",
            "Epoch 13/200\n",
            "3/3 - 0s - loss: 0.3672 - accuracy: 0.8383 - val_loss: 0.8783 - val_accuracy: 0.7972 - 42ms/epoch - 14ms/step\n",
            "Epoch 14/200\n",
            "3/3 - 0s - loss: 0.3546 - accuracy: 0.8436 - val_loss: 0.9010 - val_accuracy: 0.7762 - 45ms/epoch - 15ms/step\n",
            "Epoch 15/200\n",
            "3/3 - 0s - loss: 0.3727 - accuracy: 0.8366 - val_loss: 0.8719 - val_accuracy: 0.8042 - 49ms/epoch - 16ms/step\n",
            "Epoch 16/200\n",
            "3/3 - 0s - loss: 0.3642 - accuracy: 0.8348 - val_loss: 0.8786 - val_accuracy: 0.7972 - 56ms/epoch - 19ms/step\n",
            "Epoch 17/200\n",
            "3/3 - 0s - loss: 0.3576 - accuracy: 0.8453 - val_loss: 0.9038 - val_accuracy: 0.7762 - 48ms/epoch - 16ms/step\n",
            "Epoch 18/200\n",
            "3/3 - 0s - loss: 0.3607 - accuracy: 0.8418 - val_loss: 0.8883 - val_accuracy: 0.8112 - 54ms/epoch - 18ms/step\n",
            "Epoch 19/200\n",
            "3/3 - 0s - loss: 0.3627 - accuracy: 0.8383 - val_loss: 0.8880 - val_accuracy: 0.8042 - 52ms/epoch - 17ms/step\n",
            "Epoch 20/200\n",
            "3/3 - 0s - loss: 0.3548 - accuracy: 0.8489 - val_loss: 0.9063 - val_accuracy: 0.7972 - 44ms/epoch - 15ms/step\n",
            "Epoch 21/200\n",
            "3/3 - 0s - loss: 0.3549 - accuracy: 0.8453 - val_loss: 0.9051 - val_accuracy: 0.7972 - 44ms/epoch - 15ms/step\n"
          ]
        }
      ],
      "source": [
        "history3 = model3.fit(X_train, y_train, validation_split=0.2, verbose=2,\n",
        "                 epochs = 200, batch_size=200, \n",
        "                 callbacks = [checkpoint, early_stopping])"
      ]
    },
    {
      "cell_type": "code",
      "execution_count": 311,
      "metadata": {
        "colab": {
          "base_uri": "https://localhost:8080/"
        },
        "id": "TEJNAqt6NiJb",
        "outputId": "ce715f3e-7239-4bc3-f9ca-df42bbfe9e47"
      },
      "outputs": [
        {
          "name": "stdout",
          "output_type": "stream",
          "text": [
            "6/6 [==============================] - 0s 3ms/step - loss: 0.4224 - accuracy: 0.8324\n"
          ]
        },
        {
          "data": {
            "text/plain": [
              "[0.4224105179309845, 0.832402229309082]"
            ]
          },
          "execution_count": 311,
          "metadata": {},
          "output_type": "execute_result"
        }
      ],
      "source": [
        "model3.evaluate(X_test, y_test)"
      ]
    },
    {
      "cell_type": "code",
      "execution_count": null,
      "metadata": {
        "id": "Mr4JrEeoNim_"
      },
      "outputs": [],
      "source": []
    }
  ],
  "metadata": {
    "colab": {
      "collapsed_sections": [],
      "name": "titanic",
      "provenance": []
    },
    "kernelspec": {
      "display_name": "Python 3",
      "name": "python3"
    },
    "language_info": {
      "name": "python"
    }
  },
  "nbformat": 4,
  "nbformat_minor": 0
}
