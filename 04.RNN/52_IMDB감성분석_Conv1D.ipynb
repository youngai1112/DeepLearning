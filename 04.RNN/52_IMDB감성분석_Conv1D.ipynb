{
  "cells": [
    {
      "cell_type": "markdown",
      "metadata": {
        "id": "0hNyiYax9p75"
      },
      "source": [
        "# IMDB 영화 리뷰 감성 분석 - Conv1D\n",
        "    - 참고: https://velog.io/@changdaeoh/Convolutionforsequence, https://sevity.tistory.com/58, https://yjjo.tistory.com/8"
      ]
    },
    {
      "cell_type": "code",
      "execution_count": 1,
      "metadata": {
        "id": "n96LFiHf9yqZ"
      },
      "outputs": [],
      "source": [
        "import numpy as np\n",
        "import matplotlib.pyplot as plt\n",
        "from tensorflow.keras.datasets import imdb\n",
        "import warnings\n",
        "warnings.filterwarnings('ignore')"
      ]
    },
    {
      "cell_type": "markdown",
      "metadata": {
        "id": "hcakMsy9_ZqW"
      },
      "source": [
        "### Conv1D로 IMDB 리뷰 감성 분석\n",
        "- 단어 빈도수: 10,000 (88,584)\n",
        "- 문장의 단어수: 500 (2,494)\n",
        "- test data 중 40%(10,000개)는 검증용으로"
      ]
    },
    {
      "cell_type": "code",
      "execution_count": 2,
      "metadata": {
        "id": "TisXO0Cm_55T"
      },
      "outputs": [],
      "source": [
        "import tensorflow as tf\n",
        "seed = 2022\n",
        "np.random.seed(seed)\n",
        "tf.random.set_seed(seed)"
      ]
    },
    {
      "cell_type": "code",
      "execution_count": 3,
      "metadata": {
        "id": "yCMGnRV1A2Bn"
      },
      "outputs": [],
      "source": [
        "from tensorflow.keras.models import Sequential, load_model\n",
        "from tensorflow.keras.layers import Embedding, Dense, Dropout\n",
        "from tensorflow.keras.layers import Conv1D, MaxPooling1D, GlobalMaxPooling1D \n",
        "from tensorflow.keras.preprocessing.sequence import pad_sequences\n",
        "from tensorflow.keras.callbacks import ModelCheckpoint, EarlyStopping"
      ]
    },
    {
      "cell_type": "code",
      "execution_count": 4,
      "metadata": {
        "colab": {
          "base_uri": "https://localhost:8080/"
        },
        "id": "k3XkjfKfAx8Y",
        "outputId": "8da27eba-8a33-4eef-efc9-467f3d8c7aeb"
      },
      "outputs": [
        {
          "name": "stdout",
          "output_type": "stream",
          "text": [
            "Downloading data from https://storage.googleapis.com/tensorflow/tf-keras-datasets/imdb.npz\n",
            "17465344/17464789 [==============================] - 0s 0us/step\n",
            "17473536/17464789 [==============================] - 0s 0us/step\n"
          ]
        },
        {
          "data": {
            "text/plain": [
              "((25000,), (25000,), (25000,))"
            ]
          },
          "execution_count": 4,
          "metadata": {},
          "output_type": "execute_result"
        }
      ],
      "source": [
        "(X_train, y_train), (X_test, y_test) = imdb.load_data(num_words=10000)\n",
        "X_train.shape, X_test.shape, y_train.shape"
      ]
    },
    {
      "cell_type": "code",
      "execution_count": 5,
      "metadata": {
        "colab": {
          "base_uri": "https://localhost:8080/"
        },
        "id": "pdX6o7Y3BAJz",
        "outputId": "18313dd0-a42e-4e2a-e869-57d551d2792e"
      },
      "outputs": [
        {
          "data": {
            "text/plain": [
              "((25000, 500), (25000, 500))"
            ]
          },
          "execution_count": 5,
          "metadata": {},
          "output_type": "execute_result"
        }
      ],
      "source": [
        "max_len = 500\n",
        "X_train = pad_sequences(X_train, maxlen=max_len)\n",
        "X_test = pad_sequences(X_test, maxlen=max_len)\n",
        "X_train.shape, X_test.shape"
      ]
    },
    {
      "cell_type": "code",
      "execution_count": 6,
      "metadata": {
        "colab": {
          "base_uri": "https://localhost:8080/"
        },
        "id": "cZFmXEpMC_tf",
        "outputId": "25b28294-b023-41be-810a-f21f961ff73c"
      },
      "outputs": [
        {
          "data": {
            "text/plain": [
              "((15000, 500), (10000, 500), (15000,), (10000,))"
            ]
          },
          "execution_count": 6,
          "metadata": {},
          "output_type": "execute_result"
        }
      ],
      "source": [
        "from sklearn.model_selection import train_test_split\n",
        "\n",
        "X_test, X_valid, y_test, y_valid = train_test_split(\n",
        "    X_test, y_test, stratify=y_test, test_size=0.4, random_state=seed\n",
        ")\n",
        "X_test.shape, X_valid.shape, y_test.shape, y_valid.shape"
      ]
    },
    {
      "cell_type": "markdown",
      "metadata": {
        "id": "W5erEr-NBeaC"
      },
      "source": [
        "- Case 1) Conv1D x 2, MaxPooling1D x 2, Dropour, GlobalMaxPooling1D\n",
        "    - embedding dim: 100\n",
        "    - hidden_units: 128"
      ]
    },
    {
      "cell_type": "code",
      "execution_count": 7,
      "metadata": {
        "colab": {
          "base_uri": "https://localhost:8080/"
        },
        "id": "gkpo0EmFBv-2",
        "outputId": "58a95f53-4804-43a9-b574-ec2b41157473"
      },
      "outputs": [
        {
          "name": "stdout",
          "output_type": "stream",
          "text": [
            "Model: \"sequential\"\n",
            "_________________________________________________________________\n",
            " Layer (type)                Output Shape              Param #   \n",
            "=================================================================\n",
            " embedding (Embedding)       (None, 500, 100)          1000000   \n",
            "                                                                 \n",
            " dropout (Dropout)           (None, 500, 100)          0         \n",
            "                                                                 \n",
            " conv1d (Conv1D)             (None, 494, 64)           44864     \n",
            "                                                                 \n",
            " max_pooling1d (MaxPooling1D  (None, 70, 64)           0         \n",
            " )                                                               \n",
            "                                                                 \n",
            " conv1d_1 (Conv1D)           (None, 66, 64)            20544     \n",
            "                                                                 \n",
            " max_pooling1d_1 (MaxPooling  (None, 13, 64)           0         \n",
            " 1D)                                                             \n",
            "                                                                 \n",
            " global_max_pooling1d (Globa  (None, 64)               0         \n",
            " lMaxPooling1D)                                                  \n",
            "                                                                 \n",
            " dense (Dense)               (None, 1)                 65        \n",
            "                                                                 \n",
            "=================================================================\n",
            "Total params: 1,065,473\n",
            "Trainable params: 1,065,473\n",
            "Non-trainable params: 0\n",
            "_________________________________________________________________\n"
          ]
        }
      ],
      "source": [
        "model1 = Sequential([ \n",
        "    Embedding(10000, 100, input_length=max_len),\n",
        "    Dropout(0.5),\n",
        "    Conv1D(64, 7, activation='relu'),\n",
        "    MaxPooling1D(7),\n",
        "    Conv1D(64, 5, activation='relu'),\n",
        "    MaxPooling1D(5),\n",
        "    GlobalMaxPooling1D(),\n",
        "    Dense(1, activation='sigmoid')\n",
        "])\n",
        "model1.summary()"
      ]
    },
    {
      "cell_type": "code",
      "execution_count": 8,
      "metadata": {
        "id": "ljY-_0KqCOXg"
      },
      "outputs": [],
      "source": [
        "model1.compile('adam', 'binary_crossentropy', ['accuracy'])\n",
        "\n",
        "model_path = 'best_imdb-conv1d.h5'\n",
        "mc = ModelCheckpoint(model_path, save_best_only=True, verbose=1)\n",
        "es = EarlyStopping(patience=5)"
      ]
    },
    {
      "cell_type": "code",
      "execution_count": 9,
      "metadata": {
        "colab": {
          "base_uri": "https://localhost:8080/"
        },
        "id": "xlozwFBsCrPC",
        "outputId": "71cc83d6-82cd-41a9-e824-811b72795541"
      },
      "outputs": [
        {
          "name": "stdout",
          "output_type": "stream",
          "text": [
            "Epoch 1/30\n",
            "196/196 [==============================] - ETA: 0s - loss: 0.5406 - accuracy: 0.7002\n",
            "Epoch 00001: val_loss improved from inf to 0.35781, saving model to best_imdb-conv1d.h5\n",
            "196/196 [==============================] - 19s 20ms/step - loss: 0.5406 - accuracy: 0.7002 - val_loss: 0.3578 - val_accuracy: 0.8420\n",
            "Epoch 2/30\n",
            "196/196 [==============================] - ETA: 0s - loss: 0.2818 - accuracy: 0.8860\n",
            "Epoch 00002: val_loss improved from 0.35781 to 0.31920, saving model to best_imdb-conv1d.h5\n",
            "196/196 [==============================] - 4s 18ms/step - loss: 0.2818 - accuracy: 0.8860 - val_loss: 0.3192 - val_accuracy: 0.8630\n",
            "Epoch 3/30\n",
            "193/196 [============================>.] - ETA: 0s - loss: 0.2073 - accuracy: 0.9207\n",
            "Epoch 00003: val_loss did not improve from 0.31920\n",
            "196/196 [==============================] - 3s 16ms/step - loss: 0.2074 - accuracy: 0.9206 - val_loss: 0.3345 - val_accuracy: 0.8605\n",
            "Epoch 4/30\n",
            "196/196 [==============================] - ETA: 0s - loss: 0.1552 - accuracy: 0.9425\n",
            "Epoch 00004: val_loss did not improve from 0.31920\n",
            "196/196 [==============================] - 3s 18ms/step - loss: 0.1552 - accuracy: 0.9425 - val_loss: 0.3690 - val_accuracy: 0.8541\n",
            "Epoch 5/30\n",
            "193/196 [============================>.] - ETA: 0s - loss: 0.1193 - accuracy: 0.9566\n",
            "Epoch 00005: val_loss did not improve from 0.31920\n",
            "196/196 [==============================] - 3s 16ms/step - loss: 0.1196 - accuracy: 0.9566 - val_loss: 0.4415 - val_accuracy: 0.8497\n",
            "Epoch 6/30\n",
            "195/196 [============================>.] - ETA: 0s - loss: 0.0874 - accuracy: 0.9683\n",
            "Epoch 00006: val_loss did not improve from 0.31920\n",
            "196/196 [==============================] - 3s 18ms/step - loss: 0.0875 - accuracy: 0.9683 - val_loss: 0.4828 - val_accuracy: 0.8516\n",
            "Epoch 7/30\n",
            "196/196 [==============================] - ETA: 0s - loss: 0.0650 - accuracy: 0.9788\n",
            "Epoch 00007: val_loss did not improve from 0.31920\n",
            "196/196 [==============================] - 3s 16ms/step - loss: 0.0650 - accuracy: 0.9788 - val_loss: 0.5364 - val_accuracy: 0.8473\n"
          ]
        }
      ],
      "source": [
        "hist1 = model1.fit(\n",
        "    X_train, y_train, epochs=30, batch_size=128,\n",
        "    validation_data=[X_valid, y_valid],\n",
        "    callbacks=[mc,es]\n",
        ")"
      ]
    },
    {
      "cell_type": "code",
      "execution_count": 10,
      "metadata": {
        "colab": {
          "base_uri": "https://localhost:8080/"
        },
        "id": "OkRMcfHQD4ph",
        "outputId": "b822e94a-846b-4e06-880f-7a0912b5fcb8"
      },
      "outputs": [
        {
          "name": "stdout",
          "output_type": "stream",
          "text": [
            "469/469 [==============================] - 2s 3ms/step - loss: 0.3168 - accuracy: 0.8661\n"
          ]
        },
        {
          "data": {
            "text/plain": [
              "[0.3167656362056732, 0.8660666942596436]"
            ]
          },
          "execution_count": 10,
          "metadata": {},
          "output_type": "execute_result"
        }
      ],
      "source": [
        "best_model = load_model(model_path)\n",
        "best_model.evaluate(X_test, y_test)"
      ]
    },
    {
      "cell_type": "markdown",
      "metadata": {
        "id": "o2CocFOsoGSH"
      },
      "source": [
        "Case 2) Conv1D + LSTM"
      ]
    },
    {
      "cell_type": "code",
      "execution_count": 11,
      "metadata": {
        "id": "PuSOidyloNTA"
      },
      "outputs": [],
      "source": [
        "from tensorflow.keras.layers import LSTM"
      ]
    },
    {
      "cell_type": "code",
      "execution_count": 12,
      "metadata": {
        "colab": {
          "base_uri": "https://localhost:8080/"
        },
        "id": "h6EiOwZaoT9G",
        "outputId": "b7ea2ea1-7e2d-4fab-bcfc-461580639ac8"
      },
      "outputs": [
        {
          "name": "stdout",
          "output_type": "stream",
          "text": [
            "Model: \"sequential_1\"\n",
            "_________________________________________________________________\n",
            " Layer (type)                Output Shape              Param #   \n",
            "=================================================================\n",
            " embedding_1 (Embedding)     (None, 500, 100)          1000000   \n",
            "                                                                 \n",
            " dropout_1 (Dropout)         (None, 500, 100)          0         \n",
            "                                                                 \n",
            " conv1d_2 (Conv1D)           (None, 496, 64)           32064     \n",
            "                                                                 \n",
            " max_pooling1d_2 (MaxPooling  (None, 124, 64)          0         \n",
            " 1D)                                                             \n",
            "                                                                 \n",
            " lstm (LSTM)                 (None, 100)               66000     \n",
            "                                                                 \n",
            " dense_1 (Dense)             (None, 1)                 101       \n",
            "                                                                 \n",
            "=================================================================\n",
            "Total params: 1,098,165\n",
            "Trainable params: 1,098,165\n",
            "Non-trainable params: 0\n",
            "_________________________________________________________________\n"
          ]
        }
      ],
      "source": [
        "model2 = Sequential([ \n",
        "    Embedding(10000, 100, input_length=max_len),\n",
        "    Dropout(0.5),\n",
        "    Conv1D(64, 5, activation='relu'),\n",
        "    MaxPooling1D(4),\n",
        "    LSTM(100),\n",
        "    Dense(1, activation='sigmoid')\n",
        "])\n",
        "model2.summary()"
      ]
    },
    {
      "cell_type": "code",
      "execution_count": 13,
      "metadata": {
        "id": "F-Klj2GboqvW"
      },
      "outputs": [],
      "source": [
        "model2.compile('adam', 'binary_crossentropy', ['accuracy'])\n",
        "\n",
        "model_path = 'best_imdb-conv1d-lstm.h5'\n",
        "mc = ModelCheckpoint(model_path, save_best_only=True, verbose=1)\n",
        "es = EarlyStopping(patience=5)"
      ]
    },
    {
      "cell_type": "code",
      "execution_count": 14,
      "metadata": {
        "colab": {
          "base_uri": "https://localhost:8080/"
        },
        "id": "N69XkBzno31-",
        "outputId": "cf94964e-0e7f-441b-a8a4-db2bad3c3589"
      },
      "outputs": [
        {
          "name": "stdout",
          "output_type": "stream",
          "text": [
            "Epoch 1/30\n",
            "195/196 [============================>.] - ETA: 0s - loss: 0.4301 - accuracy: 0.7854\n",
            "Epoch 00001: val_loss improved from inf to 0.30102, saving model to best_imdb-conv1d-lstm.h5\n",
            "196/196 [==============================] - 8s 27ms/step - loss: 0.4299 - accuracy: 0.7855 - val_loss: 0.3010 - val_accuracy: 0.8705\n",
            "Epoch 2/30\n",
            "196/196 [==============================] - ETA: 0s - loss: 0.2163 - accuracy: 0.9192\n",
            "Epoch 00002: val_loss improved from 0.30102 to 0.28939, saving model to best_imdb-conv1d-lstm.h5\n",
            "196/196 [==============================] - 5s 24ms/step - loss: 0.2163 - accuracy: 0.9192 - val_loss: 0.2894 - val_accuracy: 0.8796\n",
            "Epoch 3/30\n",
            "196/196 [==============================] - ETA: 0s - loss: 0.1570 - accuracy: 0.9437\n",
            "Epoch 00003: val_loss did not improve from 0.28939\n",
            "196/196 [==============================] - 6s 32ms/step - loss: 0.1570 - accuracy: 0.9437 - val_loss: 0.3142 - val_accuracy: 0.8828\n",
            "Epoch 4/30\n",
            "196/196 [==============================] - ETA: 0s - loss: 0.1211 - accuracy: 0.9574\n",
            "Epoch 00004: val_loss did not improve from 0.28939\n",
            "196/196 [==============================] - 5s 24ms/step - loss: 0.1211 - accuracy: 0.9574 - val_loss: 0.3243 - val_accuracy: 0.8751\n",
            "Epoch 5/30\n",
            "196/196 [==============================] - ETA: 0s - loss: 0.1004 - accuracy: 0.9648\n",
            "Epoch 00005: val_loss did not improve from 0.28939\n",
            "196/196 [==============================] - 5s 25ms/step - loss: 0.1004 - accuracy: 0.9648 - val_loss: 0.4951 - val_accuracy: 0.8549\n",
            "Epoch 6/30\n",
            "196/196 [==============================] - ETA: 0s - loss: 0.0813 - accuracy: 0.9716\n",
            "Epoch 00006: val_loss did not improve from 0.28939\n",
            "196/196 [==============================] - 5s 24ms/step - loss: 0.0813 - accuracy: 0.9716 - val_loss: 0.4084 - val_accuracy: 0.8712\n",
            "Epoch 7/30\n",
            "195/196 [============================>.] - ETA: 0s - loss: 0.0578 - accuracy: 0.9812\n",
            "Epoch 00007: val_loss did not improve from 0.28939\n",
            "196/196 [==============================] - 5s 24ms/step - loss: 0.0578 - accuracy: 0.9812 - val_loss: 0.4456 - val_accuracy: 0.8687\n"
          ]
        }
      ],
      "source": [
        "hist2 = model2.fit(\n",
        "    X_train, y_train, epochs=30, batch_size=128,\n",
        "    validation_data=[X_valid, y_valid],\n",
        "    callbacks=[mc, es]\n",
        ")"
      ]
    },
    {
      "cell_type": "code",
      "execution_count": 15,
      "metadata": {
        "colab": {
          "base_uri": "https://localhost:8080/"
        },
        "id": "llk4eV3FpFu2",
        "outputId": "9e79ea2a-b719-4a85-e86d-895e741a8595"
      },
      "outputs": [
        {
          "name": "stdout",
          "output_type": "stream",
          "text": [
            "469/469 [==============================] - 3s 6ms/step - loss: 0.2883 - accuracy: 0.8805\n"
          ]
        },
        {
          "data": {
            "text/plain": [
              "[0.28834468126296997, 0.880466639995575]"
            ]
          },
          "execution_count": 15,
          "metadata": {},
          "output_type": "execute_result"
        }
      ],
      "source": [
        "best_model = load_model(model_path)\n",
        "best_model.evaluate(X_test, y_test)"
      ]
    },
    {
      "cell_type": "markdown",
      "metadata": {
        "id": "wrRshygipmRm"
      },
      "source": [
        "Case 3) Conv1D + Dense"
      ]
    },
    {
      "cell_type": "code",
      "execution_count": 17,
      "metadata": {
        "colab": {
          "base_uri": "https://localhost:8080/"
        },
        "id": "iJNbUryUpql8",
        "outputId": "323c4f4c-2802-4d76-90d7-a9d3be545c79"
      },
      "outputs": [
        {
          "name": "stdout",
          "output_type": "stream",
          "text": [
            "Model: \"sequential_2\"\n",
            "_________________________________________________________________\n",
            " Layer (type)                Output Shape              Param #   \n",
            "=================================================================\n",
            " embedding_3 (Embedding)     (None, 500, 100)          1000000   \n",
            "                                                                 \n",
            " dropout_3 (Dropout)         (None, 500, 100)          0         \n",
            "                                                                 \n",
            " conv1d_4 (Conv1D)           (None, 496, 64)           32064     \n",
            "                                                                 \n",
            " max_pooling1d_4 (MaxPooling  (None, 124, 64)          0         \n",
            " 1D)                                                             \n",
            "                                                                 \n",
            " global_max_pooling1d_1 (Glo  (None, 64)               0         \n",
            " balMaxPooling1D)                                                \n",
            "                                                                 \n",
            " dense_2 (Dense)             (None, 100)               6500      \n",
            "                                                                 \n",
            " dense_3 (Dense)             (None, 1)                 101       \n",
            "                                                                 \n",
            "=================================================================\n",
            "Total params: 1,038,665\n",
            "Trainable params: 1,038,665\n",
            "Non-trainable params: 0\n",
            "_________________________________________________________________\n"
          ]
        }
      ],
      "source": [
        "model3 = Sequential([ \n",
        "    Embedding(10000, 100, input_length=max_len),\n",
        "    Dropout(0.5),\n",
        "    Conv1D(64, 5, activation='relu'),\n",
        "    MaxPooling1D(4),\n",
        "    GlobalMaxPooling1D(),\n",
        "    Dense(100, activation='relu'),\n",
        "    Dense(1, activation='sigmoid')\n",
        "])\n",
        "model3.summary()"
      ]
    },
    {
      "cell_type": "code",
      "execution_count": 18,
      "metadata": {
        "id": "PhzueBiqqC6n"
      },
      "outputs": [],
      "source": [
        "model3.compile('adam', 'binary_crossentropy', ['accuracy'])\n",
        "\n",
        "model_path = 'best_imdb-conv1d-lstm.h5'\n",
        "mc = ModelCheckpoint(model_path, save_best_only=True, verbose=1)\n",
        "es = EarlyStopping(patience=5)"
      ]
    },
    {
      "cell_type": "code",
      "execution_count": 19,
      "metadata": {
        "colab": {
          "base_uri": "https://localhost:8080/"
        },
        "id": "CtH4q_agqSM9",
        "outputId": "07b07168-cc84-4ea4-8f93-ec0df7be8ba4"
      },
      "outputs": [
        {
          "name": "stdout",
          "output_type": "stream",
          "text": [
            "Epoch 1/30\n",
            "194/196 [============================>.] - ETA: 0s - loss: 0.5696 - accuracy: 0.6855\n",
            "Epoch 00001: val_loss improved from inf to 0.35787, saving model to best_imdb-conv1d-lstm.h5\n",
            "196/196 [==============================] - 4s 18ms/step - loss: 0.5684 - accuracy: 0.6864 - val_loss: 0.3579 - val_accuracy: 0.8440\n",
            "Epoch 2/30\n",
            "194/196 [============================>.] - ETA: 0s - loss: 0.2963 - accuracy: 0.8763\n",
            "Epoch 00002: val_loss improved from 0.35787 to 0.27440, saving model to best_imdb-conv1d-lstm.h5\n",
            "196/196 [==============================] - 3s 17ms/step - loss: 0.2961 - accuracy: 0.8764 - val_loss: 0.2744 - val_accuracy: 0.8845\n",
            "Epoch 3/30\n",
            "192/196 [============================>.] - ETA: 0s - loss: 0.2033 - accuracy: 0.9222\n",
            "Epoch 00003: val_loss improved from 0.27440 to 0.26129, saving model to best_imdb-conv1d-lstm.h5\n",
            "196/196 [==============================] - 3s 16ms/step - loss: 0.2035 - accuracy: 0.9219 - val_loss: 0.2613 - val_accuracy: 0.8919\n",
            "Epoch 4/30\n",
            "193/196 [============================>.] - ETA: 0s - loss: 0.1447 - accuracy: 0.9459\n",
            "Epoch 00004: val_loss did not improve from 0.26129\n",
            "196/196 [==============================] - 3s 15ms/step - loss: 0.1442 - accuracy: 0.9462 - val_loss: 0.2726 - val_accuracy: 0.8917\n",
            "Epoch 5/30\n",
            "196/196 [==============================] - ETA: 0s - loss: 0.1051 - accuracy: 0.9617\n",
            "Epoch 00005: val_loss did not improve from 0.26129\n",
            "196/196 [==============================] - 3s 15ms/step - loss: 0.1051 - accuracy: 0.9617 - val_loss: 0.3062 - val_accuracy: 0.8911\n",
            "Epoch 6/30\n",
            "194/196 [============================>.] - ETA: 0s - loss: 0.0729 - accuracy: 0.9741\n",
            "Epoch 00006: val_loss did not improve from 0.26129\n",
            "196/196 [==============================] - 3s 15ms/step - loss: 0.0730 - accuracy: 0.9741 - val_loss: 0.3271 - val_accuracy: 0.8918\n",
            "Epoch 7/30\n",
            "194/196 [============================>.] - ETA: 0s - loss: 0.0574 - accuracy: 0.9805\n",
            "Epoch 00007: val_loss did not improve from 0.26129\n",
            "196/196 [==============================] - 3s 15ms/step - loss: 0.0573 - accuracy: 0.9806 - val_loss: 0.3498 - val_accuracy: 0.8888\n",
            "Epoch 8/30\n",
            "195/196 [============================>.] - ETA: 0s - loss: 0.0417 - accuracy: 0.9857\n",
            "Epoch 00008: val_loss did not improve from 0.26129\n",
            "196/196 [==============================] - 3s 15ms/step - loss: 0.0416 - accuracy: 0.9857 - val_loss: 0.3792 - val_accuracy: 0.8878\n"
          ]
        }
      ],
      "source": [
        "hist3 = model3.fit(\n",
        "    X_train, y_train, epochs=30, batch_size=128,\n",
        "    validation_data=[X_valid, y_valid],\n",
        "    callbacks=[mc,es]\n",
        ")"
      ]
    },
    {
      "cell_type": "code",
      "execution_count": 20,
      "metadata": {
        "colab": {
          "base_uri": "https://localhost:8080/"
        },
        "id": "oZ7TYjCrqf1e",
        "outputId": "484ba64a-a1b9-498d-a65c-cc6e0e48bd44"
      },
      "outputs": [
        {
          "name": "stdout",
          "output_type": "stream",
          "text": [
            "469/469 [==============================] - 3s 5ms/step - loss: 0.2599 - accuracy: 0.8943\n"
          ]
        },
        {
          "data": {
            "text/plain": [
              "[0.2599080204963684, 0.8943333625793457]"
            ]
          },
          "execution_count": 20,
          "metadata": {},
          "output_type": "execute_result"
        }
      ],
      "source": [
        "best_model = load_model(model_path)\n",
        "best_model.evaluate(X_test, y_test)"
      ]
    }
  ],
  "metadata": {
    "accelerator": "GPU",
    "colab": {
      "collapsed_sections": [],
      "name": "52.IMDB감성분석-Conv1D",
      "provenance": []
    },
    "kernelspec": {
      "display_name": "Python 3",
      "name": "python3"
    },
    "language_info": {
      "name": "python"
    }
  },
  "nbformat": 4,
  "nbformat_minor": 0
}
