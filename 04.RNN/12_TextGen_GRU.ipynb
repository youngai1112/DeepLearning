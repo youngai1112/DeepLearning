{
  "nbformat": 4,
  "nbformat_minor": 0,
  "metadata": {
    "colab": {
      "name": "12.TextGen_GRU",
      "provenance": [],
      "collapsed_sections": []
    },
    "kernelspec": {
      "name": "python3",
      "display_name": "Python 3"
    },
    "language_info": {
      "name": "python"
    },
    "accelerator": "GPU"
  },
  "cells": [
    {
      "cell_type": "markdown",
      "source": [
        "# GRU을 이용한 텍스트 생성\n",
        "- 데이터 다운로드: Kaggle - New York Times Comments\n",
        "    - 링크: https://www.kaggle.com/aashita/nyt-comments?select=ArticlesApril2018.csv\n",
        "- ArticlesApril2018.csv"
      ],
      "metadata": {
        "id": "yTGPmTWymNBL"
      }
    },
    {
      "cell_type": "code",
      "source": [
        "from google.colab import files\n",
        "up = files.upload()"
      ],
      "metadata": {
        "colab": {
          "base_uri": "https://localhost:8080/",
          "resources": {
            "http://localhost:8080/nbextensions/google.colab/files.js": {
              "data": "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",
              "ok": true,
              "headers": [
                [
                  "content-type",
                  "application/javascript"
                ]
              ],
              "status": 200,
              "status_text": ""
            }
          },
          "height": 78
        },
        "id": "JGqoo3JEnIL_",
        "outputId": "6a0319e7-6145-4d9f-f316-f5259cdbd5c7"
      },
      "execution_count": 1,
      "outputs": [
        {
          "output_type": "display_data",
          "data": {
            "text/html": [
              "\n",
              "     <input type=\"file\" id=\"files-4312e6e6-1ff6-47e1-a6a4-89c32983cb95\" name=\"files[]\" multiple disabled\n",
              "        style=\"border:none\" />\n",
              "     <output id=\"result-4312e6e6-1ff6-47e1-a6a4-89c32983cb95\">\n",
              "      Upload widget is only available when the cell has been executed in the\n",
              "      current browser session. Please rerun this cell to enable.\n",
              "      </output>\n",
              "      <script src=\"/nbextensions/google.colab/files.js\"></script> "
            ],
            "text/plain": [
              "<IPython.core.display.HTML object>"
            ]
          },
          "metadata": {}
        },
        {
          "output_type": "stream",
          "name": "stdout",
          "text": [
            "Saving ArticlesApril2018.csv to ArticlesApril2018.csv\n"
          ]
        }
      ]
    },
    {
      "cell_type": "code",
      "source": [
        "import pandas as pd\n",
        "\n",
        "df = pd.read_csv('ArticlesApril2018.csv', encoding='latin1')\n",
        "df.head(3)"
      ],
      "metadata": {
        "id": "gRAjcCCknS3l",
        "colab": {
          "base_uri": "https://localhost:8080/",
          "height": 468
        },
        "outputId": "b00f0df2-01d2-4e42-8351-3b7fe3498f51"
      },
      "execution_count": 2,
      "outputs": [
        {
          "output_type": "execute_result",
          "data": {
            "text/html": [
              "\n",
              "  <div id=\"df-1efc9cf4-393f-40b9-905d-dac87fa617b0\">\n",
              "    <div class=\"colab-df-container\">\n",
              "      <div>\n",
              "<style scoped>\n",
              "    .dataframe tbody tr th:only-of-type {\n",
              "        vertical-align: middle;\n",
              "    }\n",
              "\n",
              "    .dataframe tbody tr th {\n",
              "        vertical-align: top;\n",
              "    }\n",
              "\n",
              "    .dataframe thead th {\n",
              "        text-align: right;\n",
              "    }\n",
              "</style>\n",
              "<table border=\"1\" class=\"dataframe\">\n",
              "  <thead>\n",
              "    <tr style=\"text-align: right;\">\n",
              "      <th></th>\n",
              "      <th>articleID</th>\n",
              "      <th>articleWordCount</th>\n",
              "      <th>byline</th>\n",
              "      <th>documentType</th>\n",
              "      <th>headline</th>\n",
              "      <th>keywords</th>\n",
              "      <th>multimedia</th>\n",
              "      <th>newDesk</th>\n",
              "      <th>printPage</th>\n",
              "      <th>pubDate</th>\n",
              "      <th>sectionName</th>\n",
              "      <th>snippet</th>\n",
              "      <th>source</th>\n",
              "      <th>typeOfMaterial</th>\n",
              "      <th>webURL</th>\n",
              "    </tr>\n",
              "  </thead>\n",
              "  <tbody>\n",
              "    <tr>\n",
              "      <th>0</th>\n",
              "      <td>5adf6684068401528a2aa69b</td>\n",
              "      <td>781</td>\n",
              "      <td>By JOHN BRANCH</td>\n",
              "      <td>article</td>\n",
              "      <td>Former N.F.L. Cheerleadersâ Settlement Offer...</td>\n",
              "      <td>['Workplace Hazards and Violations', 'Football...</td>\n",
              "      <td>68</td>\n",
              "      <td>Sports</td>\n",
              "      <td>0</td>\n",
              "      <td>2018-04-24 17:16:49</td>\n",
              "      <td>Pro Football</td>\n",
              "      <td>âI understand that they could meet with us, ...</td>\n",
              "      <td>The New York Times</td>\n",
              "      <td>News</td>\n",
              "      <td>https://www.nytimes.com/2018/04/24/sports/foot...</td>\n",
              "    </tr>\n",
              "    <tr>\n",
              "      <th>1</th>\n",
              "      <td>5adf653f068401528a2aa697</td>\n",
              "      <td>656</td>\n",
              "      <td>By LISA FRIEDMAN</td>\n",
              "      <td>article</td>\n",
              "      <td>E.P.A. to Unveil a New Rule. Its Effect: Less ...</td>\n",
              "      <td>['Environmental Protection Agency', 'Pruitt, S...</td>\n",
              "      <td>68</td>\n",
              "      <td>Climate</td>\n",
              "      <td>0</td>\n",
              "      <td>2018-04-24 17:11:21</td>\n",
              "      <td>Unknown</td>\n",
              "      <td>The agency plans to publish a new regulation T...</td>\n",
              "      <td>The New York Times</td>\n",
              "      <td>News</td>\n",
              "      <td>https://www.nytimes.com/2018/04/24/climate/epa...</td>\n",
              "    </tr>\n",
              "    <tr>\n",
              "      <th>2</th>\n",
              "      <td>5adf4626068401528a2aa628</td>\n",
              "      <td>2427</td>\n",
              "      <td>By PETE WELLS</td>\n",
              "      <td>article</td>\n",
              "      <td>The New Noma, Explained</td>\n",
              "      <td>['Restaurants', 'Noma (Copenhagen, Restaurant)...</td>\n",
              "      <td>66</td>\n",
              "      <td>Dining</td>\n",
              "      <td>0</td>\n",
              "      <td>2018-04-24 14:58:44</td>\n",
              "      <td>Unknown</td>\n",
              "      <td>Whatâs it like to eat at the second incarnat...</td>\n",
              "      <td>The New York Times</td>\n",
              "      <td>News</td>\n",
              "      <td>https://www.nytimes.com/2018/04/24/dining/noma...</td>\n",
              "    </tr>\n",
              "  </tbody>\n",
              "</table>\n",
              "</div>\n",
              "      <button class=\"colab-df-convert\" onclick=\"convertToInteractive('df-1efc9cf4-393f-40b9-905d-dac87fa617b0')\"\n",
              "              title=\"Convert this dataframe to an interactive table.\"\n",
              "              style=\"display:none;\">\n",
              "        \n",
              "  <svg xmlns=\"http://www.w3.org/2000/svg\" height=\"24px\"viewBox=\"0 0 24 24\"\n",
              "       width=\"24px\">\n",
              "    <path d=\"M0 0h24v24H0V0z\" fill=\"none\"/>\n",
              "    <path d=\"M18.56 5.44l.94 2.06.94-2.06 2.06-.94-2.06-.94-.94-2.06-.94 2.06-2.06.94zm-11 1L8.5 8.5l.94-2.06 2.06-.94-2.06-.94L8.5 2.5l-.94 2.06-2.06.94zm10 10l.94 2.06.94-2.06 2.06-.94-2.06-.94-.94-2.06-.94 2.06-2.06.94z\"/><path d=\"M17.41 7.96l-1.37-1.37c-.4-.4-.92-.59-1.43-.59-.52 0-1.04.2-1.43.59L10.3 9.45l-7.72 7.72c-.78.78-.78 2.05 0 2.83L4 21.41c.39.39.9.59 1.41.59.51 0 1.02-.2 1.41-.59l7.78-7.78 2.81-2.81c.8-.78.8-2.07 0-2.86zM5.41 20L4 18.59l7.72-7.72 1.47 1.35L5.41 20z\"/>\n",
              "  </svg>\n",
              "      </button>\n",
              "      \n",
              "  <style>\n",
              "    .colab-df-container {\n",
              "      display:flex;\n",
              "      flex-wrap:wrap;\n",
              "      gap: 12px;\n",
              "    }\n",
              "\n",
              "    .colab-df-convert {\n",
              "      background-color: #E8F0FE;\n",
              "      border: none;\n",
              "      border-radius: 50%;\n",
              "      cursor: pointer;\n",
              "      display: none;\n",
              "      fill: #1967D2;\n",
              "      height: 32px;\n",
              "      padding: 0 0 0 0;\n",
              "      width: 32px;\n",
              "    }\n",
              "\n",
              "    .colab-df-convert:hover {\n",
              "      background-color: #E2EBFA;\n",
              "      box-shadow: 0px 1px 2px rgba(60, 64, 67, 0.3), 0px 1px 3px 1px rgba(60, 64, 67, 0.15);\n",
              "      fill: #174EA6;\n",
              "    }\n",
              "\n",
              "    [theme=dark] .colab-df-convert {\n",
              "      background-color: #3B4455;\n",
              "      fill: #D2E3FC;\n",
              "    }\n",
              "\n",
              "    [theme=dark] .colab-df-convert:hover {\n",
              "      background-color: #434B5C;\n",
              "      box-shadow: 0px 1px 3px 1px rgba(0, 0, 0, 0.15);\n",
              "      filter: drop-shadow(0px 1px 2px rgba(0, 0, 0, 0.3));\n",
              "      fill: #FFFFFF;\n",
              "    }\n",
              "  </style>\n",
              "\n",
              "      <script>\n",
              "        const buttonEl =\n",
              "          document.querySelector('#df-1efc9cf4-393f-40b9-905d-dac87fa617b0 button.colab-df-convert');\n",
              "        buttonEl.style.display =\n",
              "          google.colab.kernel.accessAllowed ? 'block' : 'none';\n",
              "\n",
              "        async function convertToInteractive(key) {\n",
              "          const element = document.querySelector('#df-1efc9cf4-393f-40b9-905d-dac87fa617b0');\n",
              "          const dataTable =\n",
              "            await google.colab.kernel.invokeFunction('convertToInteractive',\n",
              "                                                     [key], {});\n",
              "          if (!dataTable) return;\n",
              "\n",
              "          const docLinkHtml = 'Like what you see? Visit the ' +\n",
              "            '<a target=\"_blank\" href=https://colab.research.google.com/notebooks/data_table.ipynb>data table notebook</a>'\n",
              "            + ' to learn more about interactive tables.';\n",
              "          element.innerHTML = '';\n",
              "          dataTable['output_type'] = 'display_data';\n",
              "          await google.colab.output.renderOutput(dataTable, element);\n",
              "          const docLink = document.createElement('div');\n",
              "          docLink.innerHTML = docLinkHtml;\n",
              "          element.appendChild(docLink);\n",
              "        }\n",
              "      </script>\n",
              "    </div>\n",
              "  </div>\n",
              "  "
            ],
            "text/plain": [
              "                  articleID  ...                                             webURL\n",
              "0  5adf6684068401528a2aa69b  ...  https://www.nytimes.com/2018/04/24/sports/foot...\n",
              "1  5adf653f068401528a2aa697  ...  https://www.nytimes.com/2018/04/24/climate/epa...\n",
              "2  5adf4626068401528a2aa628  ...  https://www.nytimes.com/2018/04/24/dining/noma...\n",
              "\n",
              "[3 rows x 15 columns]"
            ]
          },
          "metadata": {},
          "execution_count": 2
        }
      ]
    },
    {
      "cell_type": "markdown",
      "source": [
        "- 데이터 전처리: headline 컬럼만 사용"
      ],
      "metadata": {
        "id": "jtUVN3WJnvIQ"
      }
    },
    {
      "cell_type": "code",
      "source": [
        "# Null이 있는지 확인\n",
        "df.headline.isnull().sum()"
      ],
      "metadata": {
        "id": "C6etwWLgoIzs",
        "colab": {
          "base_uri": "https://localhost:8080/"
        },
        "outputId": "ca774315-1e45-454a-863a-b55ae7e0599d"
      },
      "execution_count": 3,
      "outputs": [
        {
          "output_type": "execute_result",
          "data": {
            "text/plain": [
              "0"
            ]
          },
          "metadata": {},
          "execution_count": 3
        }
      ]
    },
    {
      "cell_type": "code",
      "source": [
        "# headline 컬럼: 시리즈 타입 --> 리스트\n",
        "headlines = df.headline.values.tolist()"
      ],
      "metadata": {
        "id": "rMs_S8rMoSFJ"
      },
      "execution_count": 4,
      "outputs": []
    },
    {
      "cell_type": "code",
      "source": [
        "headlines[:5]"
      ],
      "metadata": {
        "id": "aUh9dQd1o65y",
        "colab": {
          "base_uri": "https://localhost:8080/"
        },
        "outputId": "ae659f29-fa99-4729-ffa9-e2331aaebb47"
      },
      "execution_count": 5,
      "outputs": [
        {
          "output_type": "execute_result",
          "data": {
            "text/plain": [
              "['Former N.F.L. Cheerleadersâ\\x80\\x99 Settlement Offer: $1 and a Meeting With Goodell',\n",
              " 'E.P.A. to Unveil a New Rule. Its Effect: Less Science in Policymaking.',\n",
              " 'The New Noma, Explained',\n",
              " 'Unknown',\n",
              " 'Unknown']"
            ]
          },
          "metadata": {},
          "execution_count": 5
        }
      ]
    },
    {
      "cell_type": "code",
      "source": [
        "len(headlines)"
      ],
      "metadata": {
        "id": "3HHUXTVlpWDT",
        "colab": {
          "base_uri": "https://localhost:8080/"
        },
        "outputId": "2306bcae-c4d3-43c5-c27a-5a129cf29682"
      },
      "execution_count": 6,
      "outputs": [
        {
          "output_type": "execute_result",
          "data": {
            "text/plain": [
              "1324"
            ]
          },
          "metadata": {},
          "execution_count": 6
        }
      ]
    },
    {
      "cell_type": "code",
      "source": [
        "# 노이즈 데이터('Unknown') 제거\n",
        "headlines = [line for line in df.headline.values if line != 'Unknown']\n",
        "len(headlines)"
      ],
      "metadata": {
        "id": "ZqbTBqtNrSfq",
        "colab": {
          "base_uri": "https://localhost:8080/"
        },
        "outputId": "087e5613-65b1-43f1-a9ad-881d1fd8736e"
      },
      "execution_count": 7,
      "outputs": [
        {
          "output_type": "execute_result",
          "data": {
            "text/plain": [
              "1214"
            ]
          },
          "metadata": {},
          "execution_count": 7
        }
      ]
    },
    {
      "cell_type": "code",
      "source": [
        "# encoding, 구둣점 제거, 소문자로 변환\n",
        "import re\n",
        "def preprocessing(s):\n",
        "    s = s.encode('utf8').decode('ascii', 'ignore')\n",
        "    s = re.sub('[^A-Za-z0-9 ]', '', s)\n",
        "    return s.lower()"
      ],
      "metadata": {
        "id": "vrP_RMQ8rhtm"
      },
      "execution_count": 8,
      "outputs": []
    },
    {
      "cell_type": "code",
      "source": [
        "# headlines = list(map(preprocessing, headlines))\n",
        "headlines = [preprocessing(line) for line in headlines]\n",
        "headlines[:5]"
      ],
      "metadata": {
        "id": "xYWMewuMss0X",
        "colab": {
          "base_uri": "https://localhost:8080/"
        },
        "outputId": "c5f70ffa-47b6-4cac-f4b1-ddfb84177467"
      },
      "execution_count": 9,
      "outputs": [
        {
          "output_type": "execute_result",
          "data": {
            "text/plain": [
              "['former nfl cheerleaders settlement offer 1 and a meeting with goodell',\n",
              " 'epa to unveil a new rule its effect less science in policymaking',\n",
              " 'the new noma explained',\n",
              " 'how a bag of texas dirt  became a times tradition',\n",
              " 'is school a place for selfexpression']"
            ]
          },
          "metadata": {},
          "execution_count": 9
        }
      ]
    },
    {
      "cell_type": "markdown",
      "source": [
        "- Keras 텍스트 전처리"
      ],
      "metadata": {
        "id": "pkQ4vtL4tQbp"
      }
    },
    {
      "cell_type": "code",
      "source": [
        "from tensorflow.keras.preprocessing.text import Tokenizer\n",
        "from tensorflow.keras.preprocessing.sequence import pad_sequences\n",
        "from tensorflow.keras.utils import to_categorical"
      ],
      "metadata": {
        "id": "N-wywCVktkCQ"
      },
      "execution_count": 10,
      "outputs": []
    },
    {
      "cell_type": "code",
      "source": [
        "# 단어 집합 생성\n",
        "t = Tokenizer()\n",
        "t.fit_on_texts(headlines)  "
      ],
      "metadata": {
        "id": "5yUbgYI6tvER"
      },
      "execution_count": 11,
      "outputs": []
    },
    {
      "cell_type": "code",
      "source": [
        "# 단어 집합 크기 - Keras Tokenizer의 시작 인덱스가 1이기 때문\n",
        "vocab_size = len(t.word_index) + 1\n",
        "vocab_size"
      ],
      "metadata": {
        "id": "gmkiZO5Wt0Mj",
        "colab": {
          "base_uri": "https://localhost:8080/"
        },
        "outputId": "f46b53d3-d614-41c2-8717-b090220f1ecc"
      },
      "execution_count": 12,
      "outputs": [
        {
          "output_type": "execute_result",
          "data": {
            "text/plain": [
              "3494"
            ]
          },
          "metadata": {},
          "execution_count": 12
        }
      ]
    },
    {
      "cell_type": "code",
      "source": [
        "sequences = []\n",
        "for line in headlines:\n",
        "    encoded = t.texts_to_sequences([line])[0]\n",
        "    for i in range(1, len(encoded)):\n",
        "        sequences.append(encoded[:i+1])\n",
        "\n",
        "sequences[:11]"
      ],
      "metadata": {
        "id": "LOIAH97Tt_4C",
        "colab": {
          "base_uri": "https://localhost:8080/"
        },
        "outputId": "e96fb867-29c5-48e2-ee81-774e202da9c4"
      },
      "execution_count": 13,
      "outputs": [
        {
          "output_type": "execute_result",
          "data": {
            "text/plain": [
              "[[99, 269],\n",
              " [99, 269, 371],\n",
              " [99, 269, 371, 1115],\n",
              " [99, 269, 371, 1115, 582],\n",
              " [99, 269, 371, 1115, 582, 52],\n",
              " [99, 269, 371, 1115, 582, 52, 7],\n",
              " [99, 269, 371, 1115, 582, 52, 7, 2],\n",
              " [99, 269, 371, 1115, 582, 52, 7, 2, 372],\n",
              " [99, 269, 371, 1115, 582, 52, 7, 2, 372, 10],\n",
              " [99, 269, 371, 1115, 582, 52, 7, 2, 372, 10, 1116],\n",
              " [100, 3]]"
            ]
          },
          "metadata": {},
          "execution_count": 13
        }
      ]
    },
    {
      "cell_type": "code",
      "source": [
        "max_len = max(len(seq) for seq in sequences)\n",
        "max_len"
      ],
      "metadata": {
        "id": "v8CYaE0ru94e",
        "colab": {
          "base_uri": "https://localhost:8080/"
        },
        "outputId": "40646b59-dc33-4be6-d563-8e5d13e2b6d9"
      },
      "execution_count": 14,
      "outputs": [
        {
          "output_type": "execute_result",
          "data": {
            "text/plain": [
              "24"
            ]
          },
          "metadata": {},
          "execution_count": 14
        }
      ]
    },
    {
      "cell_type": "code",
      "source": [
        "sequences = pad_sequences(sequences, maxlen=max_len, padding='pre')\n",
        "sequences[:3]"
      ],
      "metadata": {
        "id": "ZchjFC9kvQdE",
        "colab": {
          "base_uri": "https://localhost:8080/"
        },
        "outputId": "1de61dda-08b9-4e2e-afe5-4d5eda714bc8"
      },
      "execution_count": 15,
      "outputs": [
        {
          "output_type": "execute_result",
          "data": {
            "text/plain": [
              "array([[   0,    0,    0,    0,    0,    0,    0,    0,    0,    0,    0,\n",
              "           0,    0,    0,    0,    0,    0,    0,    0,    0,    0,    0,\n",
              "          99,  269],\n",
              "       [   0,    0,    0,    0,    0,    0,    0,    0,    0,    0,    0,\n",
              "           0,    0,    0,    0,    0,    0,    0,    0,    0,    0,   99,\n",
              "         269,  371],\n",
              "       [   0,    0,    0,    0,    0,    0,    0,    0,    0,    0,    0,\n",
              "           0,    0,    0,    0,    0,    0,    0,    0,    0,   99,  269,\n",
              "         371, 1115]], dtype=int32)"
            ]
          },
          "metadata": {},
          "execution_count": 15
        }
      ]
    },
    {
      "cell_type": "code",
      "source": [
        "X = sequences[:, :-1]\n",
        "y = sequences[:, -1]\n",
        "Y = to_categorical(y)\n",
        "X.shape, Y.shape"
      ],
      "metadata": {
        "id": "SLCf_ueUvdPs",
        "colab": {
          "base_uri": "https://localhost:8080/"
        },
        "outputId": "5f0046b5-3e51-45f4-a1d6-466e4d63ed8d"
      },
      "execution_count": 16,
      "outputs": [
        {
          "output_type": "execute_result",
          "data": {
            "text/plain": [
              "((7803, 23), (7803, 3494))"
            ]
          },
          "metadata": {},
          "execution_count": 16
        }
      ]
    },
    {
      "cell_type": "markdown",
      "source": [
        "### 모델 정의/설정/학습\n",
        "- Embedding: 10차원\n",
        "- LSTM: 128 units"
      ],
      "metadata": {
        "id": "Wjrb_3qevonZ"
      }
    },
    {
      "cell_type": "code",
      "source": [
        "import numpy as np\n",
        "import tensorflow as tf\n",
        "seed = 2022\n",
        "np.random.seed(seed)\n",
        "tf.random.set_seed(seed)"
      ],
      "metadata": {
        "id": "KB7GICATvrvG"
      },
      "execution_count": 17,
      "outputs": []
    },
    {
      "cell_type": "code",
      "source": [
        "from tensorflow.keras.models import Sequential\n",
        "from tensorflow.keras.layers import Embedding, GRU, Dense"
      ],
      "metadata": {
        "id": "H5AQa80DwIgP"
      },
      "execution_count": 18,
      "outputs": []
    },
    {
      "cell_type": "code",
      "source": [
        "model = Sequential([ \n",
        "    Embedding(vocab_size, 10, input_length=max_len-1),\n",
        "    GRU(128),   # activation='tanh' (default 값이라 생략함)\n",
        "    Dense(vocab_size, activation='softmax')\n",
        "])\n",
        "model.summary()"
      ],
      "metadata": {
        "id": "Tg-gYmL-wMKW",
        "colab": {
          "base_uri": "https://localhost:8080/"
        },
        "outputId": "43ee635d-5e2c-46ee-8449-e07b3f666585"
      },
      "execution_count": 19,
      "outputs": [
        {
          "output_type": "stream",
          "name": "stdout",
          "text": [
            "Model: \"sequential\"\n",
            "_________________________________________________________________\n",
            " Layer (type)                Output Shape              Param #   \n",
            "=================================================================\n",
            " embedding (Embedding)       (None, 23, 10)            34940     \n",
            "                                                                 \n",
            " gru (GRU)                   (None, 128)               53760     \n",
            "                                                                 \n",
            " dense (Dense)               (None, 3494)              450726    \n",
            "                                                                 \n",
            "=================================================================\n",
            "Total params: 539,426\n",
            "Trainable params: 539,426\n",
            "Non-trainable params: 0\n",
            "_________________________________________________________________\n"
          ]
        }
      ]
    },
    {
      "cell_type": "code",
      "source": [
        "model.compile('adam', 'categorical_crossentropy', metrics=['accuracy'])"
      ],
      "metadata": {
        "id": "AMmpTki2wwPJ"
      },
      "execution_count": 20,
      "outputs": []
    },
    {
      "cell_type": "code",
      "source": [
        "# Colab, GPU 환경\n",
        "%time hist = model.fit(X, Y, epochs=200, verbose=2)"
      ],
      "metadata": {
        "id": "u-dj8yfKxE0S",
        "colab": {
          "base_uri": "https://localhost:8080/"
        },
        "outputId": "db06ecdb-1076-4f67-e289-5f6d4d6c1b50"
      },
      "execution_count": 21,
      "outputs": [
        {
          "output_type": "stream",
          "name": "stdout",
          "text": [
            "Epoch 1/200\n",
            "244/244 - 7s - loss: 7.6739 - accuracy: 0.0313 - 7s/epoch - 28ms/step\n",
            "Epoch 2/200\n",
            "244/244 - 1s - loss: 7.1200 - accuracy: 0.0310 - 1s/epoch - 5ms/step\n",
            "Epoch 3/200\n",
            "244/244 - 1s - loss: 6.8994 - accuracy: 0.0459 - 1s/epoch - 5ms/step\n",
            "Epoch 4/200\n",
            "244/244 - 1s - loss: 6.6773 - accuracy: 0.0487 - 1s/epoch - 5ms/step\n",
            "Epoch 5/200\n",
            "244/244 - 1s - loss: 6.4414 - accuracy: 0.0532 - 1s/epoch - 4ms/step\n",
            "Epoch 6/200\n",
            "244/244 - 1s - loss: 6.1864 - accuracy: 0.0600 - 1s/epoch - 5ms/step\n",
            "Epoch 7/200\n",
            "244/244 - 1s - loss: 5.9170 - accuracy: 0.0614 - 1s/epoch - 5ms/step\n",
            "Epoch 8/200\n",
            "244/244 - 1s - loss: 5.6362 - accuracy: 0.0695 - 1s/epoch - 5ms/step\n",
            "Epoch 9/200\n",
            "244/244 - 1s - loss: 5.3645 - accuracy: 0.0763 - 1s/epoch - 5ms/step\n",
            "Epoch 10/200\n",
            "244/244 - 1s - loss: 5.1040 - accuracy: 0.0830 - 1s/epoch - 5ms/step\n",
            "Epoch 11/200\n",
            "244/244 - 1s - loss: 4.8532 - accuracy: 0.0996 - 1s/epoch - 5ms/step\n",
            "Epoch 12/200\n",
            "244/244 - 1s - loss: 4.6134 - accuracy: 0.1224 - 1s/epoch - 5ms/step\n",
            "Epoch 13/200\n",
            "244/244 - 1s - loss: 4.3864 - accuracy: 0.1497 - 1s/epoch - 5ms/step\n",
            "Epoch 14/200\n",
            "244/244 - 1s - loss: 4.1673 - accuracy: 0.1861 - 1s/epoch - 5ms/step\n",
            "Epoch 15/200\n",
            "244/244 - 1s - loss: 3.9604 - accuracy: 0.2172 - 1s/epoch - 5ms/step\n",
            "Epoch 16/200\n",
            "244/244 - 1s - loss: 3.7676 - accuracy: 0.2494 - 1s/epoch - 5ms/step\n",
            "Epoch 17/200\n",
            "244/244 - 1s - loss: 3.5845 - accuracy: 0.2835 - 1s/epoch - 5ms/step\n",
            "Epoch 18/200\n",
            "244/244 - 1s - loss: 3.4083 - accuracy: 0.3154 - 1s/epoch - 5ms/step\n",
            "Epoch 19/200\n",
            "244/244 - 1s - loss: 3.2468 - accuracy: 0.3446 - 1s/epoch - 5ms/step\n",
            "Epoch 20/200\n",
            "244/244 - 1s - loss: 3.0940 - accuracy: 0.3705 - 1s/epoch - 5ms/step\n",
            "Epoch 21/200\n",
            "244/244 - 1s - loss: 2.9548 - accuracy: 0.4011 - 1s/epoch - 5ms/step\n",
            "Epoch 22/200\n",
            "244/244 - 1s - loss: 2.8191 - accuracy: 0.4253 - 1s/epoch - 5ms/step\n",
            "Epoch 23/200\n",
            "244/244 - 1s - loss: 2.6981 - accuracy: 0.4532 - 1s/epoch - 5ms/step\n",
            "Epoch 24/200\n",
            "244/244 - 1s - loss: 2.5801 - accuracy: 0.4776 - 1s/epoch - 5ms/step\n",
            "Epoch 25/200\n",
            "244/244 - 1s - loss: 2.4725 - accuracy: 0.4958 - 1s/epoch - 6ms/step\n",
            "Epoch 26/200\n",
            "244/244 - 2s - loss: 2.3707 - accuracy: 0.5215 - 2s/epoch - 7ms/step\n",
            "Epoch 27/200\n",
            "244/244 - 2s - loss: 2.2703 - accuracy: 0.5336 - 2s/epoch - 6ms/step\n",
            "Epoch 28/200\n",
            "244/244 - 1s - loss: 2.1824 - accuracy: 0.5518 - 1s/epoch - 5ms/step\n",
            "Epoch 29/200\n",
            "244/244 - 1s - loss: 2.0978 - accuracy: 0.5703 - 1s/epoch - 5ms/step\n",
            "Epoch 30/200\n",
            "244/244 - 1s - loss: 2.0195 - accuracy: 0.5834 - 1s/epoch - 5ms/step\n",
            "Epoch 31/200\n",
            "244/244 - 1s - loss: 1.9410 - accuracy: 0.6000 - 1s/epoch - 5ms/step\n",
            "Epoch 32/200\n",
            "244/244 - 1s - loss: 1.8649 - accuracy: 0.6180 - 1s/epoch - 5ms/step\n",
            "Epoch 33/200\n",
            "244/244 - 1s - loss: 1.7996 - accuracy: 0.6323 - 1s/epoch - 5ms/step\n",
            "Epoch 34/200\n",
            "244/244 - 1s - loss: 1.7324 - accuracy: 0.6442 - 1s/epoch - 5ms/step\n",
            "Epoch 35/200\n",
            "244/244 - 1s - loss: 1.6722 - accuracy: 0.6619 - 1s/epoch - 5ms/step\n",
            "Epoch 36/200\n",
            "244/244 - 1s - loss: 1.6138 - accuracy: 0.6738 - 1s/epoch - 5ms/step\n",
            "Epoch 37/200\n",
            "244/244 - 1s - loss: 1.5556 - accuracy: 0.6820 - 1s/epoch - 4ms/step\n",
            "Epoch 38/200\n",
            "244/244 - 1s - loss: 1.4992 - accuracy: 0.6940 - 1s/epoch - 5ms/step\n",
            "Epoch 39/200\n",
            "244/244 - 1s - loss: 1.4546 - accuracy: 0.7038 - 1s/epoch - 5ms/step\n",
            "Epoch 40/200\n",
            "244/244 - 1s - loss: 1.3976 - accuracy: 0.7175 - 1s/epoch - 5ms/step\n",
            "Epoch 41/200\n",
            "244/244 - 1s - loss: 1.3494 - accuracy: 0.7264 - 1s/epoch - 5ms/step\n",
            "Epoch 42/200\n",
            "244/244 - 1s - loss: 1.2996 - accuracy: 0.7383 - 1s/epoch - 5ms/step\n",
            "Epoch 43/200\n",
            "244/244 - 1s - loss: 1.2556 - accuracy: 0.7482 - 1s/epoch - 5ms/step\n",
            "Epoch 44/200\n",
            "244/244 - 1s - loss: 1.2154 - accuracy: 0.7529 - 1s/epoch - 5ms/step\n",
            "Epoch 45/200\n",
            "244/244 - 1s - loss: 1.1814 - accuracy: 0.7593 - 1s/epoch - 5ms/step\n",
            "Epoch 46/200\n",
            "244/244 - 1s - loss: 1.1422 - accuracy: 0.7646 - 1s/epoch - 5ms/step\n",
            "Epoch 47/200\n",
            "244/244 - 1s - loss: 1.0978 - accuracy: 0.7769 - 1s/epoch - 5ms/step\n",
            "Epoch 48/200\n",
            "244/244 - 1s - loss: 1.0631 - accuracy: 0.7843 - 1s/epoch - 5ms/step\n",
            "Epoch 49/200\n",
            "244/244 - 1s - loss: 1.0254 - accuracy: 0.7910 - 1s/epoch - 5ms/step\n",
            "Epoch 50/200\n",
            "244/244 - 1s - loss: 0.9894 - accuracy: 0.7969 - 1s/epoch - 5ms/step\n",
            "Epoch 51/200\n",
            "244/244 - 1s - loss: 0.9573 - accuracy: 0.8016 - 1s/epoch - 5ms/step\n",
            "Epoch 52/200\n",
            "244/244 - 1s - loss: 0.9279 - accuracy: 0.8111 - 1s/epoch - 5ms/step\n",
            "Epoch 53/200\n",
            "244/244 - 1s - loss: 0.8986 - accuracy: 0.8139 - 1s/epoch - 5ms/step\n",
            "Epoch 54/200\n",
            "244/244 - 1s - loss: 0.8687 - accuracy: 0.8208 - 1s/epoch - 5ms/step\n",
            "Epoch 55/200\n",
            "244/244 - 1s - loss: 0.8409 - accuracy: 0.8246 - 1s/epoch - 5ms/step\n",
            "Epoch 56/200\n",
            "244/244 - 1s - loss: 0.8070 - accuracy: 0.8298 - 1s/epoch - 5ms/step\n",
            "Epoch 57/200\n",
            "244/244 - 1s - loss: 0.7825 - accuracy: 0.8344 - 1s/epoch - 5ms/step\n",
            "Epoch 58/200\n",
            "244/244 - 1s - loss: 0.7590 - accuracy: 0.8393 - 1s/epoch - 5ms/step\n",
            "Epoch 59/200\n",
            "244/244 - 1s - loss: 0.7345 - accuracy: 0.8452 - 1s/epoch - 5ms/step\n",
            "Epoch 60/200\n",
            "244/244 - 1s - loss: 0.7146 - accuracy: 0.8493 - 1s/epoch - 5ms/step\n",
            "Epoch 61/200\n",
            "244/244 - 1s - loss: 0.6894 - accuracy: 0.8504 - 1s/epoch - 5ms/step\n",
            "Epoch 62/200\n",
            "244/244 - 1s - loss: 0.6751 - accuracy: 0.8570 - 1s/epoch - 5ms/step\n",
            "Epoch 63/200\n",
            "244/244 - 1s - loss: 0.6554 - accuracy: 0.8592 - 1s/epoch - 5ms/step\n",
            "Epoch 64/200\n",
            "244/244 - 1s - loss: 0.6337 - accuracy: 0.8643 - 1s/epoch - 5ms/step\n",
            "Epoch 65/200\n",
            "244/244 - 1s - loss: 0.6092 - accuracy: 0.8680 - 1s/epoch - 5ms/step\n",
            "Epoch 66/200\n",
            "244/244 - 1s - loss: 0.5934 - accuracy: 0.8690 - 1s/epoch - 5ms/step\n",
            "Epoch 67/200\n",
            "244/244 - 1s - loss: 0.5749 - accuracy: 0.8754 - 1s/epoch - 5ms/step\n",
            "Epoch 68/200\n",
            "244/244 - 1s - loss: 0.5543 - accuracy: 0.8806 - 1s/epoch - 5ms/step\n",
            "Epoch 69/200\n",
            "244/244 - 1s - loss: 0.5433 - accuracy: 0.8817 - 1s/epoch - 5ms/step\n",
            "Epoch 70/200\n",
            "244/244 - 1s - loss: 0.5288 - accuracy: 0.8866 - 1s/epoch - 5ms/step\n",
            "Epoch 71/200\n",
            "244/244 - 1s - loss: 0.5180 - accuracy: 0.8857 - 1s/epoch - 5ms/step\n",
            "Epoch 72/200\n",
            "244/244 - 1s - loss: 0.4990 - accuracy: 0.8915 - 1s/epoch - 5ms/step\n",
            "Epoch 73/200\n",
            "244/244 - 1s - loss: 0.4866 - accuracy: 0.8932 - 1s/epoch - 5ms/step\n",
            "Epoch 74/200\n",
            "244/244 - 1s - loss: 0.4744 - accuracy: 0.8940 - 1s/epoch - 5ms/step\n",
            "Epoch 75/200\n",
            "244/244 - 1s - loss: 0.4649 - accuracy: 0.8941 - 1s/epoch - 5ms/step\n",
            "Epoch 76/200\n",
            "244/244 - 1s - loss: 0.4519 - accuracy: 0.9011 - 1s/epoch - 5ms/step\n",
            "Epoch 77/200\n",
            "244/244 - 1s - loss: 0.4592 - accuracy: 0.8965 - 1s/epoch - 5ms/step\n",
            "Epoch 78/200\n",
            "244/244 - 1s - loss: 0.4517 - accuracy: 0.8991 - 1s/epoch - 5ms/step\n",
            "Epoch 79/200\n",
            "244/244 - 1s - loss: 0.4568 - accuracy: 0.8989 - 1s/epoch - 5ms/step\n",
            "Epoch 80/200\n",
            "244/244 - 1s - loss: 0.4293 - accuracy: 0.9036 - 1s/epoch - 5ms/step\n",
            "Epoch 81/200\n",
            "244/244 - 1s - loss: 0.4094 - accuracy: 0.9050 - 1s/epoch - 5ms/step\n",
            "Epoch 82/200\n",
            "244/244 - 1s - loss: 0.4011 - accuracy: 0.9064 - 1s/epoch - 5ms/step\n",
            "Epoch 83/200\n",
            "244/244 - 1s - loss: 0.3913 - accuracy: 0.9073 - 1s/epoch - 5ms/step\n",
            "Epoch 84/200\n",
            "244/244 - 1s - loss: 0.3819 - accuracy: 0.9103 - 1s/epoch - 5ms/step\n",
            "Epoch 85/200\n",
            "244/244 - 1s - loss: 0.3816 - accuracy: 0.9075 - 1s/epoch - 5ms/step\n",
            "Epoch 86/200\n",
            "244/244 - 1s - loss: 0.3785 - accuracy: 0.9085 - 1s/epoch - 5ms/step\n",
            "Epoch 87/200\n",
            "244/244 - 1s - loss: 0.3712 - accuracy: 0.9097 - 1s/epoch - 5ms/step\n",
            "Epoch 88/200\n",
            "244/244 - 1s - loss: 0.3628 - accuracy: 0.9125 - 1s/epoch - 5ms/step\n",
            "Epoch 89/200\n",
            "244/244 - 1s - loss: 0.3575 - accuracy: 0.9123 - 1s/epoch - 5ms/step\n",
            "Epoch 90/200\n",
            "244/244 - 1s - loss: 0.3587 - accuracy: 0.9107 - 1s/epoch - 5ms/step\n",
            "Epoch 91/200\n",
            "244/244 - 1s - loss: 0.3674 - accuracy: 0.9107 - 1s/epoch - 5ms/step\n",
            "Epoch 92/200\n",
            "244/244 - 1s - loss: 0.3895 - accuracy: 0.9045 - 1s/epoch - 5ms/step\n",
            "Epoch 93/200\n",
            "244/244 - 1s - loss: 0.3676 - accuracy: 0.9085 - 1s/epoch - 5ms/step\n",
            "Epoch 94/200\n",
            "244/244 - 1s - loss: 0.3437 - accuracy: 0.9146 - 1s/epoch - 5ms/step\n",
            "Epoch 95/200\n",
            "244/244 - 1s - loss: 0.3373 - accuracy: 0.9139 - 1s/epoch - 5ms/step\n",
            "Epoch 96/200\n",
            "244/244 - 1s - loss: 0.3334 - accuracy: 0.9139 - 1s/epoch - 5ms/step\n",
            "Epoch 97/200\n",
            "244/244 - 1s - loss: 0.3269 - accuracy: 0.9149 - 1s/epoch - 5ms/step\n",
            "Epoch 98/200\n",
            "244/244 - 1s - loss: 0.3257 - accuracy: 0.9136 - 1s/epoch - 5ms/step\n",
            "Epoch 99/200\n",
            "244/244 - 1s - loss: 0.3242 - accuracy: 0.9146 - 1s/epoch - 4ms/step\n",
            "Epoch 100/200\n",
            "244/244 - 1s - loss: 0.3198 - accuracy: 0.9162 - 1s/epoch - 5ms/step\n",
            "Epoch 101/200\n",
            "244/244 - 1s - loss: 0.3188 - accuracy: 0.9136 - 1s/epoch - 5ms/step\n",
            "Epoch 102/200\n",
            "244/244 - 1s - loss: 0.3217 - accuracy: 0.9154 - 1s/epoch - 5ms/step\n",
            "Epoch 103/200\n",
            "244/244 - 1s - loss: 0.3319 - accuracy: 0.9121 - 1s/epoch - 5ms/step\n",
            "Epoch 104/200\n",
            "244/244 - 1s - loss: 0.3613 - accuracy: 0.9075 - 1s/epoch - 5ms/step\n",
            "Epoch 105/200\n",
            "244/244 - 1s - loss: 0.3325 - accuracy: 0.9130 - 1s/epoch - 5ms/step\n",
            "Epoch 106/200\n",
            "244/244 - 1s - loss: 0.3209 - accuracy: 0.9123 - 1s/epoch - 5ms/step\n",
            "Epoch 107/200\n",
            "244/244 - 1s - loss: 0.3090 - accuracy: 0.9159 - 1s/epoch - 5ms/step\n",
            "Epoch 108/200\n",
            "244/244 - 1s - loss: 0.3106 - accuracy: 0.9158 - 1s/epoch - 5ms/step\n",
            "Epoch 109/200\n",
            "244/244 - 1s - loss: 0.3053 - accuracy: 0.9140 - 1s/epoch - 5ms/step\n",
            "Epoch 110/200\n",
            "244/244 - 1s - loss: 0.3074 - accuracy: 0.9144 - 1s/epoch - 5ms/step\n",
            "Epoch 111/200\n",
            "244/244 - 1s - loss: 0.3033 - accuracy: 0.9152 - 1s/epoch - 5ms/step\n",
            "Epoch 112/200\n",
            "244/244 - 1s - loss: 0.3014 - accuracy: 0.9148 - 1s/epoch - 5ms/step\n",
            "Epoch 113/200\n",
            "244/244 - 1s - loss: 0.3016 - accuracy: 0.9146 - 1s/epoch - 5ms/step\n",
            "Epoch 114/200\n",
            "244/244 - 1s - loss: 0.2994 - accuracy: 0.9158 - 1s/epoch - 5ms/step\n",
            "Epoch 115/200\n",
            "244/244 - 1s - loss: 0.2998 - accuracy: 0.9146 - 1s/epoch - 5ms/step\n",
            "Epoch 116/200\n",
            "244/244 - 1s - loss: 0.3013 - accuracy: 0.9140 - 1s/epoch - 5ms/step\n",
            "Epoch 117/200\n",
            "244/244 - 1s - loss: 0.3290 - accuracy: 0.9104 - 1s/epoch - 5ms/step\n",
            "Epoch 118/200\n",
            "244/244 - 1s - loss: 0.3605 - accuracy: 0.9035 - 1s/epoch - 5ms/step\n",
            "Epoch 119/200\n",
            "244/244 - 1s - loss: 0.3242 - accuracy: 0.9125 - 1s/epoch - 5ms/step\n",
            "Epoch 120/200\n",
            "244/244 - 1s - loss: 0.3006 - accuracy: 0.9167 - 1s/epoch - 5ms/step\n",
            "Epoch 121/200\n",
            "244/244 - 1s - loss: 0.2964 - accuracy: 0.9135 - 1s/epoch - 5ms/step\n",
            "Epoch 122/200\n",
            "244/244 - 1s - loss: 0.2928 - accuracy: 0.9146 - 1s/epoch - 5ms/step\n",
            "Epoch 123/200\n",
            "244/244 - 1s - loss: 0.2922 - accuracy: 0.9168 - 1s/epoch - 5ms/step\n",
            "Epoch 124/200\n",
            "244/244 - 1s - loss: 0.2910 - accuracy: 0.9155 - 1s/epoch - 5ms/step\n",
            "Epoch 125/200\n",
            "244/244 - 1s - loss: 0.2906 - accuracy: 0.9149 - 1s/epoch - 5ms/step\n",
            "Epoch 126/200\n",
            "244/244 - 1s - loss: 0.2912 - accuracy: 0.9158 - 1s/epoch - 5ms/step\n",
            "Epoch 127/200\n",
            "244/244 - 1s - loss: 0.2916 - accuracy: 0.9152 - 1s/epoch - 5ms/step\n",
            "Epoch 128/200\n",
            "244/244 - 1s - loss: 0.2922 - accuracy: 0.9149 - 1s/epoch - 5ms/step\n",
            "Epoch 129/200\n",
            "244/244 - 1s - loss: 0.2920 - accuracy: 0.9159 - 1s/epoch - 5ms/step\n",
            "Epoch 130/200\n",
            "244/244 - 1s - loss: 0.2978 - accuracy: 0.9126 - 1s/epoch - 5ms/step\n",
            "Epoch 131/200\n",
            "244/244 - 1s - loss: 0.2955 - accuracy: 0.9135 - 1s/epoch - 5ms/step\n",
            "Epoch 132/200\n",
            "244/244 - 1s - loss: 0.3292 - accuracy: 0.9089 - 1s/epoch - 5ms/step\n",
            "Epoch 133/200\n",
            "244/244 - 1s - loss: 0.3652 - accuracy: 0.8999 - 1s/epoch - 5ms/step\n",
            "Epoch 134/200\n",
            "244/244 - 1s - loss: 0.3085 - accuracy: 0.9111 - 1s/epoch - 5ms/step\n",
            "Epoch 135/200\n",
            "244/244 - 1s - loss: 0.2899 - accuracy: 0.9155 - 1s/epoch - 5ms/step\n",
            "Epoch 136/200\n",
            "244/244 - 1s - loss: 0.2883 - accuracy: 0.9167 - 1s/epoch - 5ms/step\n",
            "Epoch 137/200\n",
            "244/244 - 1s - loss: 0.2861 - accuracy: 0.9145 - 1s/epoch - 5ms/step\n",
            "Epoch 138/200\n",
            "244/244 - 1s - loss: 0.2849 - accuracy: 0.9157 - 1s/epoch - 5ms/step\n",
            "Epoch 139/200\n",
            "244/244 - 1s - loss: 0.2869 - accuracy: 0.9143 - 1s/epoch - 5ms/step\n",
            "Epoch 140/200\n",
            "244/244 - 1s - loss: 0.2847 - accuracy: 0.9148 - 1s/epoch - 5ms/step\n",
            "Epoch 141/200\n",
            "244/244 - 1s - loss: 0.2865 - accuracy: 0.9150 - 1s/epoch - 5ms/step\n",
            "Epoch 142/200\n",
            "244/244 - 1s - loss: 0.2850 - accuracy: 0.9164 - 1s/epoch - 5ms/step\n",
            "Epoch 143/200\n",
            "244/244 - 1s - loss: 0.2864 - accuracy: 0.9154 - 1s/epoch - 5ms/step\n",
            "Epoch 144/200\n",
            "244/244 - 1s - loss: 0.2866 - accuracy: 0.9176 - 1s/epoch - 5ms/step\n",
            "Epoch 145/200\n",
            "244/244 - 1s - loss: 0.2894 - accuracy: 0.9148 - 1s/epoch - 5ms/step\n",
            "Epoch 146/200\n",
            "244/244 - 1s - loss: 0.2899 - accuracy: 0.9138 - 1s/epoch - 5ms/step\n",
            "Epoch 147/200\n",
            "244/244 - 1s - loss: 0.2921 - accuracy: 0.9146 - 1s/epoch - 5ms/step\n",
            "Epoch 148/200\n",
            "244/244 - 1s - loss: 0.2994 - accuracy: 0.9122 - 1s/epoch - 5ms/step\n",
            "Epoch 149/200\n",
            "244/244 - 1s - loss: 0.3020 - accuracy: 0.9117 - 1s/epoch - 5ms/step\n",
            "Epoch 150/200\n",
            "244/244 - 1s - loss: 0.3330 - accuracy: 0.9050 - 1s/epoch - 5ms/step\n",
            "Epoch 151/200\n",
            "244/244 - 1s - loss: 0.3042 - accuracy: 0.9117 - 1s/epoch - 5ms/step\n",
            "Epoch 152/200\n",
            "244/244 - 1s - loss: 0.2883 - accuracy: 0.9138 - 1s/epoch - 5ms/step\n",
            "Epoch 153/200\n",
            "244/244 - 1s - loss: 0.2842 - accuracy: 0.9149 - 1s/epoch - 5ms/step\n",
            "Epoch 154/200\n",
            "244/244 - 1s - loss: 0.2815 - accuracy: 0.9158 - 1s/epoch - 5ms/step\n",
            "Epoch 155/200\n",
            "244/244 - 1s - loss: 0.2818 - accuracy: 0.9146 - 1s/epoch - 5ms/step\n",
            "Epoch 156/200\n",
            "244/244 - 1s - loss: 0.2808 - accuracy: 0.9161 - 1s/epoch - 5ms/step\n",
            "Epoch 157/200\n",
            "244/244 - 1s - loss: 0.2837 - accuracy: 0.9154 - 1s/epoch - 4ms/step\n",
            "Epoch 158/200\n",
            "244/244 - 1s - loss: 0.2815 - accuracy: 0.9139 - 1s/epoch - 5ms/step\n",
            "Epoch 159/200\n",
            "244/244 - 1s - loss: 0.2830 - accuracy: 0.9175 - 1s/epoch - 5ms/step\n",
            "Epoch 160/200\n",
            "244/244 - 1s - loss: 0.2843 - accuracy: 0.9167 - 1s/epoch - 5ms/step\n",
            "Epoch 161/200\n",
            "244/244 - 1s - loss: 0.2846 - accuracy: 0.9141 - 1s/epoch - 5ms/step\n",
            "Epoch 162/200\n",
            "244/244 - 1s - loss: 0.2959 - accuracy: 0.9117 - 1s/epoch - 5ms/step\n",
            "Epoch 163/200\n",
            "244/244 - 1s - loss: 0.2837 - accuracy: 0.9149 - 1s/epoch - 5ms/step\n",
            "Epoch 164/200\n",
            "244/244 - 1s - loss: 0.2850 - accuracy: 0.9144 - 1s/epoch - 5ms/step\n",
            "Epoch 165/200\n",
            "244/244 - 1s - loss: 0.2833 - accuracy: 0.9144 - 1s/epoch - 5ms/step\n",
            "Epoch 166/200\n",
            "244/244 - 1s - loss: 0.2825 - accuracy: 0.9158 - 1s/epoch - 5ms/step\n",
            "Epoch 167/200\n",
            "244/244 - 1s - loss: 0.2810 - accuracy: 0.9143 - 1s/epoch - 5ms/step\n",
            "Epoch 168/200\n",
            "244/244 - 1s - loss: 0.2953 - accuracy: 0.9125 - 1s/epoch - 5ms/step\n",
            "Epoch 169/200\n",
            "244/244 - 1s - loss: 0.3574 - accuracy: 0.8979 - 1s/epoch - 5ms/step\n",
            "Epoch 170/200\n",
            "244/244 - 1s - loss: 0.3301 - accuracy: 0.9043 - 1s/epoch - 5ms/step\n",
            "Epoch 171/200\n",
            "244/244 - 1s - loss: 0.2896 - accuracy: 0.9141 - 1s/epoch - 5ms/step\n",
            "Epoch 172/200\n",
            "244/244 - 1s - loss: 0.2806 - accuracy: 0.9166 - 1s/epoch - 5ms/step\n",
            "Epoch 173/200\n",
            "244/244 - 1s - loss: 0.2795 - accuracy: 0.9158 - 1s/epoch - 5ms/step\n",
            "Epoch 174/200\n",
            "244/244 - 1s - loss: 0.2781 - accuracy: 0.9138 - 1s/epoch - 5ms/step\n",
            "Epoch 175/200\n",
            "244/244 - 1s - loss: 0.2784 - accuracy: 0.9141 - 1s/epoch - 5ms/step\n",
            "Epoch 176/200\n",
            "244/244 - 1s - loss: 0.2780 - accuracy: 0.9148 - 1s/epoch - 5ms/step\n",
            "Epoch 177/200\n",
            "244/244 - 1s - loss: 0.2787 - accuracy: 0.9154 - 1s/epoch - 5ms/step\n",
            "Epoch 178/200\n",
            "244/244 - 1s - loss: 0.2779 - accuracy: 0.9167 - 1s/epoch - 5ms/step\n",
            "Epoch 179/200\n",
            "244/244 - 1s - loss: 0.2798 - accuracy: 0.9145 - 1s/epoch - 5ms/step\n",
            "Epoch 180/200\n",
            "244/244 - 1s - loss: 0.2807 - accuracy: 0.9153 - 1s/epoch - 5ms/step\n",
            "Epoch 181/200\n",
            "244/244 - 1s - loss: 0.2834 - accuracy: 0.9144 - 1s/epoch - 5ms/step\n",
            "Epoch 182/200\n",
            "244/244 - 1s - loss: 0.2805 - accuracy: 0.9132 - 1s/epoch - 5ms/step\n",
            "Epoch 183/200\n",
            "244/244 - 1s - loss: 0.2789 - accuracy: 0.9143 - 1s/epoch - 5ms/step\n",
            "Epoch 184/200\n",
            "244/244 - 1s - loss: 0.2803 - accuracy: 0.9143 - 1s/epoch - 5ms/step\n",
            "Epoch 185/200\n",
            "244/244 - 1s - loss: 0.2807 - accuracy: 0.9166 - 1s/epoch - 5ms/step\n",
            "Epoch 186/200\n",
            "244/244 - 1s - loss: 0.2803 - accuracy: 0.9152 - 1s/epoch - 5ms/step\n",
            "Epoch 187/200\n",
            "244/244 - 1s - loss: 0.2801 - accuracy: 0.9150 - 1s/epoch - 5ms/step\n",
            "Epoch 188/200\n",
            "244/244 - 1s - loss: 0.3206 - accuracy: 0.9061 - 1s/epoch - 5ms/step\n",
            "Epoch 189/200\n",
            "244/244 - 1s - loss: 0.3757 - accuracy: 0.8965 - 1s/epoch - 5ms/step\n",
            "Epoch 190/200\n",
            "244/244 - 1s - loss: 0.2971 - accuracy: 0.9118 - 1s/epoch - 5ms/step\n",
            "Epoch 191/200\n",
            "244/244 - 1s - loss: 0.2831 - accuracy: 0.9144 - 1s/epoch - 5ms/step\n",
            "Epoch 192/200\n",
            "244/244 - 1s - loss: 0.2785 - accuracy: 0.9146 - 1s/epoch - 5ms/step\n",
            "Epoch 193/200\n",
            "244/244 - 1s - loss: 0.2782 - accuracy: 0.9166 - 1s/epoch - 5ms/step\n",
            "Epoch 194/200\n",
            "244/244 - 1s - loss: 0.2766 - accuracy: 0.9149 - 1s/epoch - 5ms/step\n",
            "Epoch 195/200\n",
            "244/244 - 1s - loss: 0.2768 - accuracy: 0.9153 - 1s/epoch - 5ms/step\n",
            "Epoch 196/200\n",
            "244/244 - 1s - loss: 0.2763 - accuracy: 0.9163 - 1s/epoch - 5ms/step\n",
            "Epoch 197/200\n",
            "244/244 - 1s - loss: 0.2768 - accuracy: 0.9149 - 1s/epoch - 5ms/step\n",
            "Epoch 198/200\n",
            "244/244 - 1s - loss: 0.2773 - accuracy: 0.9155 - 1s/epoch - 5ms/step\n",
            "Epoch 199/200\n",
            "244/244 - 1s - loss: 0.2764 - accuracy: 0.9159 - 1s/epoch - 5ms/step\n",
            "Epoch 200/200\n",
            "244/244 - 1s - loss: 0.2779 - accuracy: 0.9152 - 1s/epoch - 5ms/step\n",
            "CPU times: user 4min 37s, sys: 29.8 s, total: 5min 7s\n",
            "Wall time: 3min 53s\n"
          ]
        }
      ]
    },
    {
      "cell_type": "code",
      "source": [
        "hist.history['accuracy'][-1]"
      ],
      "metadata": {
        "id": "JaPHuCCCzb0X",
        "colab": {
          "base_uri": "https://localhost:8080/"
        },
        "outputId": "3a0aa8d3-7659-4f3d-8ffe-2ab32d840fa2"
      },
      "execution_count": 22,
      "outputs": [
        {
          "output_type": "execute_result",
          "data": {
            "text/plain": [
              "0.9151608347892761"
            ]
          },
          "metadata": {},
          "execution_count": 22
        }
      ]
    },
    {
      "cell_type": "markdown",
      "source": [
        "- 모델 검증"
      ],
      "metadata": {
        "id": "qbMybBwzzkXt"
      }
    },
    {
      "cell_type": "code",
      "source": [
        "up = files.upload()     # my_util.py "
      ],
      "metadata": {
        "id": "T2IIOofyzmHX",
        "colab": {
          "resources": {
            "http://localhost:8080/nbextensions/google.colab/files.js": {
              "data": "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",
              "ok": true,
              "headers": [
                [
                  "content-type",
                  "application/javascript"
                ]
              ],
              "status": 200,
              "status_text": ""
            }
          },
          "base_uri": "https://localhost:8080/",
          "height": 78
        },
        "outputId": "4318df0d-3fb1-4a60-c1e2-a19f9b66e429"
      },
      "execution_count": 23,
      "outputs": [
        {
          "output_type": "display_data",
          "data": {
            "text/html": [
              "\n",
              "     <input type=\"file\" id=\"files-57bccb3d-4bc1-4d7b-8c01-41bdb7f17f1e\" name=\"files[]\" multiple disabled\n",
              "        style=\"border:none\" />\n",
              "     <output id=\"result-57bccb3d-4bc1-4d7b-8c01-41bdb7f17f1e\">\n",
              "      Upload widget is only available when the cell has been executed in the\n",
              "      current browser session. Please rerun this cell to enable.\n",
              "      </output>\n",
              "      <script src=\"/nbextensions/google.colab/files.js\"></script> "
            ],
            "text/plain": [
              "<IPython.core.display.HTML object>"
            ]
          },
          "metadata": {}
        },
        {
          "output_type": "stream",
          "name": "stdout",
          "text": [
            "Saving my_util.py to my_util.py\n"
          ]
        }
      ]
    },
    {
      "cell_type": "code",
      "source": [
        "from my_util import sentence_generation"
      ],
      "metadata": {
        "id": "jQKWNjZPzqp6"
      },
      "execution_count": 24,
      "outputs": []
    },
    {
      "cell_type": "code",
      "source": [
        "print(sentence_generation(model, t, max_len, 'former', 10))\n",
        "print(sentence_generation(model, t, max_len, 'epa', 10))\n",
        "print(sentence_generation(model, t, max_len, 'how', 10))"
      ],
      "metadata": {
        "id": "0Je7HzKDzuf3",
        "colab": {
          "base_uri": "https://localhost:8080/"
        },
        "outputId": "737bf3d2-d521-453e-bca1-29ecf6caad9e"
      },
      "execution_count": 25,
      "outputs": [
        {
          "output_type": "stream",
          "name": "stdout",
          "text": [
            "former nfl cheerleaders settlement offer 1 and a meeting with goodell\n",
            "epa to unveil a new rule its effect less science in\n",
            "how to make a crossword puzzle massacre 2018 europe is right\n"
          ]
        }
      ]
    },
    {
      "cell_type": "markdown",
      "source": [
        "- 훈련과정 시각화"
      ],
      "metadata": {
        "id": "6PyaZWHc0NNk"
      }
    },
    {
      "cell_type": "code",
      "source": [
        "y_acc = hist.history['accuracy']\n",
        "y_loss = hist.history['loss']\n",
        "xs = np.arange(1, len(y_acc)+1)"
      ],
      "metadata": {
        "id": "0lB7DR1s0f_x"
      },
      "execution_count": 26,
      "outputs": []
    },
    {
      "cell_type": "code",
      "source": [
        "import matplotlib.pyplot as plt\n",
        "plt.figure(figsize=(12,8))\n",
        "plt.plot(xs, y_acc, label='train accuracy')\n",
        "plt.plot(xs, y_loss, label='train loss')\n",
        "plt.legend()\n",
        "plt.grid()\n",
        "plt.xlabel('Epoch')\n",
        "plt.show()"
      ],
      "metadata": {
        "id": "hWUjDu5W0Y2A",
        "colab": {
          "base_uri": "https://localhost:8080/",
          "height": 498
        },
        "outputId": "e6a645b4-373e-43de-e90e-9ae2c23810b5"
      },
      "execution_count": 27,
      "outputs": [
        {
          "output_type": "display_data",
          "data": {
            "image/png": "[encoded data removed]",
            "text/plain": [
              "<Figure size 864x576 with 1 Axes>"
            ]
          },
          "metadata": {
            "needs_background": "light"
          }
        }
      ]
    },
    {
      "cell_type": "code",
      "source": [
        ""
      ],
      "metadata": {
        "id": "85STey4_nXb4"
      },
      "execution_count": null,
      "outputs": []
    }
  ]
}