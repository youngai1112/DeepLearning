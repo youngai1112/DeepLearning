{
  "nbformat": 4,
  "nbformat_minor": 0,
  "metadata": {
    "colab": {
      "name": "51.IMDB감성분석-LSTM",
      "provenance": [],
      "collapsed_sections": []
    },
    "kernelspec": {
      "name": "python3",
      "display_name": "Python 3"
    },
    "language_info": {
      "name": "python"
    },
    "accelerator": "GPU"
  },
  "cells": [
    {
      "cell_type": "markdown",
      "source": [
        "# IMDB 영화 리뷰 감성 분석 - LSTM "
      ],
      "metadata": {
        "id": "0hNyiYax9p75"
      }
    },
    {
      "cell_type": "code",
      "source": [
        "import numpy as np\n",
        "import matplotlib.pyplot as plt\n",
        "from tensorflow.keras.datasets import imdb\n",
        "import warnings\n",
        "warnings.filterwarnings('ignore')"
      ],
      "metadata": {
        "id": "n96LFiHf9yqZ"
      },
      "execution_count": 1,
      "outputs": []
    },
    {
      "cell_type": "code",
      "source": [
        "(X_train, y_train), (X_test, y_test) = imdb.load_data()\n",
        "X_train.shape, X_test.shape, y_train.shape"
      ],
      "metadata": {
        "colab": {
          "base_uri": "https://localhost:8080/"
        },
        "id": "UgFwvsol-J9k",
        "outputId": "435924c4-df9a-460b-bb07-4b1253a3035a"
      },
      "execution_count": 2,
      "outputs": [
        {
          "output_type": "stream",
          "name": "stdout",
          "text": [
            "Downloading data from https://storage.googleapis.com/tensorflow/tf-keras-datasets/imdb.npz\n",
            "17465344/17464789 [==============================] - 0s 0us/step\n",
            "17473536/17464789 [==============================] - 0s 0us/step\n"
          ]
        },
        {
          "output_type": "execute_result",
          "data": {
            "text/plain": [
              "((25000,), (25000,), (25000,))"
            ]
          },
          "metadata": {},
          "execution_count": 2
        }
      ]
    },
    {
      "cell_type": "code",
      "source": [
        "print('리뷰 최대 길이', max(len(s) for s in X_train))\n",
        "print('리뷰 평균 길이', sum(map(len, X_train)) / len(X_train))"
      ],
      "metadata": {
        "colab": {
          "base_uri": "https://localhost:8080/"
        },
        "id": "eyx2_vGl-lFp",
        "outputId": "ed4ae60d-fac2-4edc-8084-571442086653"
      },
      "execution_count": 3,
      "outputs": [
        {
          "output_type": "stream",
          "name": "stdout",
          "text": [
            "리뷰 최대 길이 2494\n",
            "리뷰 평균 길이 238.71364\n"
          ]
        }
      ]
    },
    {
      "cell_type": "markdown",
      "source": [
        "### LSTM으로 IMDB 리뷰 감성 분석\n",
        "- 단어 빈도수: 10,000 (88,584)\n",
        "- 문장의 단어수: 500 (2,494)\n",
        "- test data 중 40%(10,000개)는 검증용으로"
      ],
      "metadata": {
        "id": "hcakMsy9_ZqW"
      }
    },
    {
      "cell_type": "code",
      "source": [
        "import tensorflow as tf\n",
        "seed = 2022\n",
        "np.random.seed(seed)\n",
        "tf.random.set_seed(seed)"
      ],
      "metadata": {
        "id": "TisXO0Cm_55T"
      },
      "execution_count": 4,
      "outputs": []
    },
    {
      "cell_type": "code",
      "source": [
        "from tensorflow.keras.models import Sequential, load_model\n",
        "from tensorflow.keras.layers import Embedding, LSTM, Dense \n",
        "from tensorflow.keras.preprocessing.sequence import pad_sequences\n",
        "from tensorflow.keras.callbacks import ModelCheckpoint, EarlyStopping"
      ],
      "metadata": {
        "id": "yCMGnRV1A2Bn"
      },
      "execution_count": 5,
      "outputs": []
    },
    {
      "cell_type": "code",
      "source": [
        "(X_train, y_train), (X_test, y_test) = imdb.load_data(num_words=10000)\n",
        "X_train.shape, X_test.shape, y_train.shape"
      ],
      "metadata": {
        "colab": {
          "base_uri": "https://localhost:8080/"
        },
        "id": "k3XkjfKfAx8Y",
        "outputId": "05035ad9-f86c-485e-9eee-1da67e9c624d"
      },
      "execution_count": 6,
      "outputs": [
        {
          "output_type": "execute_result",
          "data": {
            "text/plain": [
              "((25000,), (25000,), (25000,))"
            ]
          },
          "metadata": {},
          "execution_count": 6
        }
      ]
    },
    {
      "cell_type": "code",
      "source": [
        "max_len = 500\n",
        "X_train = pad_sequences(X_train, maxlen=max_len)\n",
        "X_test = pad_sequences(X_test, maxlen=max_len)\n",
        "X_train.shape, X_test.shape"
      ],
      "metadata": {
        "colab": {
          "base_uri": "https://localhost:8080/"
        },
        "id": "pdX6o7Y3BAJz",
        "outputId": "a258a68f-1f60-4662-ab70-9d960458c876"
      },
      "execution_count": 7,
      "outputs": [
        {
          "output_type": "execute_result",
          "data": {
            "text/plain": [
              "((25000, 500), (25000, 500))"
            ]
          },
          "metadata": {},
          "execution_count": 7
        }
      ]
    },
    {
      "cell_type": "code",
      "source": [
        "from sklearn.model_selection import train_test_split\n",
        "\n",
        "X_test, X_valid, y_test, y_valid = train_test_split(\n",
        "    X_test, y_test, stratify=y_test, test_size=0.4, random_state=seed\n",
        ")\n",
        "X_test.shape, X_valid.shape, y_test.shape, y_valid.shape"
      ],
      "metadata": {
        "colab": {
          "base_uri": "https://localhost:8080/"
        },
        "id": "cZFmXEpMC_tf",
        "outputId": "67f128ae-9a99-4011-af73-b31a4effc9ee"
      },
      "execution_count": 8,
      "outputs": [
        {
          "output_type": "execute_result",
          "data": {
            "text/plain": [
              "((15000, 500), (10000, 500), (15000,), (10000,))"
            ]
          },
          "metadata": {},
          "execution_count": 8
        }
      ]
    },
    {
      "cell_type": "markdown",
      "source": [
        "- Case 1) LSTM\n",
        "    - embedding dim: 100\n",
        "    - hidden_units: 128"
      ],
      "metadata": {
        "id": "W5erEr-NBeaC"
      }
    },
    {
      "cell_type": "code",
      "source": [
        "model1 = Sequential([ \n",
        "    Embedding(10000, 100, input_length=max_len),\n",
        "    LSTM(128),\n",
        "    Dense(1, activation='sigmoid')\n",
        "])\n",
        "model1.summary()"
      ],
      "metadata": {
        "colab": {
          "base_uri": "https://localhost:8080/"
        },
        "id": "gkpo0EmFBv-2",
        "outputId": "4b27b2c1-c41f-488e-b5b7-e1b0c0295e2c"
      },
      "execution_count": 9,
      "outputs": [
        {
          "output_type": "stream",
          "name": "stdout",
          "text": [
            "Model: \"sequential\"\n",
            "_________________________________________________________________\n",
            " Layer (type)                Output Shape              Param #   \n",
            "=================================================================\n",
            " embedding (Embedding)       (None, 500, 100)          1000000   \n",
            "                                                                 \n",
            " lstm (LSTM)                 (None, 128)               117248    \n",
            "                                                                 \n",
            " dense (Dense)               (None, 1)                 129       \n",
            "                                                                 \n",
            "=================================================================\n",
            "Total params: 1,117,377\n",
            "Trainable params: 1,117,377\n",
            "Non-trainable params: 0\n",
            "_________________________________________________________________\n"
          ]
        }
      ]
    },
    {
      "cell_type": "code",
      "source": [
        "model1.compile('adam', 'binary_crossentropy', ['accuracy'])\n",
        "\n",
        "model_path = 'best_imdb-lstm.h5'\n",
        "mc = ModelCheckpoint(model_path, save_best_only=True, verbose=1)\n",
        "es = EarlyStopping(patience=5)"
      ],
      "metadata": {
        "id": "ljY-_0KqCOXg"
      },
      "execution_count": 10,
      "outputs": []
    },
    {
      "cell_type": "code",
      "source": [
        "hist1 = model1.fit(\n",
        "    X_train, y_train, epochs=30, batch_size=64,\n",
        "    validation_data=[X_valid, y_valid],\n",
        "    callbacks=[mc, es]\n",
        ")"
      ],
      "metadata": {
        "colab": {
          "base_uri": "https://localhost:8080/"
        },
        "id": "xlozwFBsCrPC",
        "outputId": "a3886563-35cd-47bb-8fb0-7db5d9cf36ce"
      },
      "execution_count": 11,
      "outputs": [
        {
          "output_type": "stream",
          "name": "stdout",
          "text": [
            "Epoch 1/30\n",
            "391/391 [==============================] - ETA: 0s - loss: 0.5111 - accuracy: 0.7435\n",
            "Epoch 00001: val_loss improved from inf to 0.38676, saving model to best_imdb-lstm.h5\n",
            "391/391 [==============================] - 30s 58ms/step - loss: 0.5111 - accuracy: 0.7435 - val_loss: 0.3868 - val_accuracy: 0.8342\n",
            "Epoch 2/30\n",
            "391/391 [==============================] - ETA: 0s - loss: 0.3110 - accuracy: 0.8740\n",
            "Epoch 00002: val_loss improved from 0.38676 to 0.38423, saving model to best_imdb-lstm.h5\n",
            "391/391 [==============================] - 13s 32ms/step - loss: 0.3110 - accuracy: 0.8740 - val_loss: 0.3842 - val_accuracy: 0.8361\n",
            "Epoch 3/30\n",
            "391/391 [==============================] - ETA: 0s - loss: 0.2227 - accuracy: 0.9152\n",
            "Epoch 00003: val_loss improved from 0.38423 to 0.33021, saving model to best_imdb-lstm.h5\n",
            "391/391 [==============================] - 12s 32ms/step - loss: 0.2227 - accuracy: 0.9152 - val_loss: 0.3302 - val_accuracy: 0.8689\n",
            "Epoch 4/30\n",
            "391/391 [==============================] - ETA: 0s - loss: 0.1772 - accuracy: 0.9352\n",
            "Epoch 00004: val_loss did not improve from 0.33021\n",
            "391/391 [==============================] - 13s 32ms/step - loss: 0.1772 - accuracy: 0.9352 - val_loss: 0.3367 - val_accuracy: 0.8618\n",
            "Epoch 5/30\n",
            "391/391 [==============================] - ETA: 0s - loss: 0.1635 - accuracy: 0.9417\n",
            "Epoch 00005: val_loss did not improve from 0.33021\n",
            "391/391 [==============================] - 13s 32ms/step - loss: 0.1635 - accuracy: 0.9417 - val_loss: 0.3841 - val_accuracy: 0.8622\n",
            "Epoch 6/30\n",
            "391/391 [==============================] - ETA: 0s - loss: 0.1190 - accuracy: 0.9596\n",
            "Epoch 00006: val_loss did not improve from 0.33021\n",
            "391/391 [==============================] - 12s 32ms/step - loss: 0.1190 - accuracy: 0.9596 - val_loss: 0.4494 - val_accuracy: 0.8499\n",
            "Epoch 7/30\n",
            "390/391 [============================>.] - ETA: 0s - loss: 0.1024 - accuracy: 0.9651\n",
            "Epoch 00007: val_loss did not improve from 0.33021\n",
            "391/391 [==============================] - 13s 33ms/step - loss: 0.1025 - accuracy: 0.9651 - val_loss: 0.4584 - val_accuracy: 0.8456\n",
            "Epoch 8/30\n",
            "390/391 [============================>.] - ETA: 0s - loss: 0.1986 - accuracy: 0.9191\n",
            "Epoch 00008: val_loss did not improve from 0.33021\n",
            "391/391 [==============================] - 13s 33ms/step - loss: 0.1986 - accuracy: 0.9192 - val_loss: 0.4734 - val_accuracy: 0.8020\n"
          ]
        }
      ]
    },
    {
      "cell_type": "code",
      "source": [
        "best_model = load_model(model_path)\n",
        "best_model.evaluate(X_test, y_test)"
      ],
      "metadata": {
        "id": "OkRMcfHQD4ph",
        "colab": {
          "base_uri": "https://localhost:8080/"
        },
        "outputId": "b37d6135-d02b-4773-89d4-1d53716c48f5"
      },
      "execution_count": 13,
      "outputs": [
        {
          "output_type": "stream",
          "name": "stdout",
          "text": [
            "469/469 [==============================] - 6s 11ms/step - loss: 0.3296 - accuracy: 0.8707\n"
          ]
        },
        {
          "output_type": "execute_result",
          "data": {
            "text/plain": [
              "[0.32964739203453064, 0.8707333207130432]"
            ]
          },
          "metadata": {},
          "execution_count": 13
        }
      ]
    }
  ]
}